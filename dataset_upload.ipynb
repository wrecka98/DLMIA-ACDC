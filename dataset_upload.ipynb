{
 "cells": [
  {
   "cell_type": "code",
   "execution_count": 5,
   "id": "9df669f0d7ca250",
   "metadata": {
    "ExecuteTime": {
     "end_time": "2025-02-12T19:31:03.417263Z",
     "start_time": "2025-02-12T19:31:03.411213Z"
    }
   },
   "outputs": [],
   "source": [
    "import os\n",
    "import gzip\n",
    "import shutil"
   ]
  },
  {
   "cell_type": "code",
   "execution_count": 8,
   "id": "3d910952de462991",
   "metadata": {
    "ExecuteTime": {
     "end_time": "2025-02-12T12:43:02.093535Z",
     "start_time": "2025-02-12T12:42:59.937753Z"
    }
   },
   "outputs": [
    {
     "name": "stdout",
     "output_type": "stream",
     "text": [
      "Truncating file at location 2452590457.\n"
     ]
    }
   ],
   "source": [
    "def fixBadZipfile(zipFile):\n",
    " f = open(zipFile, 'r+b')\n",
    " data = f.read()\n",
    " pos = data.find(b'\\x50\\x4b\\x05\\x06') # End of central directory signature\n",
    " if (pos > 0):\n",
    "     print(f\"Truncating file at location {pos + 22}.\")\n",
    "     f.seek(pos + 22)   # size of 'ZIP end of central directory record'\n",
    "     f.truncate()\n",
    "     f.close()\n",
    " else:\n",
    "     print(\"raise error, file is truncated\")\n",
    "\n"
   ]
  },
  {
   "cell_type": "code",
   "execution_count": 3,
   "id": "c8ef196e1f67704c",
   "metadata": {
    "ExecuteTime": {
     "end_time": "2025-02-12T19:30:47.469487Z",
     "start_time": "2025-02-12T19:30:47.451726Z"
    }
   },
   "outputs": [],
   "source": [
    "\n",
    "def copy_and_unzip(from_path, to_path):\n",
    "\n",
    "    if \"training\" in from_path:\n",
    "        train_or_Test = \"train\"\n",
    "    else:\n",
    "        train_or_Test = \"test\"\n",
    "\n",
    "    for patient in os.listdir(from_path):\n",
    "        patient_path = os.path.join(from_path, patient)\n",
    "\n",
    "        if not os.path.isdir(patient_path):\n",
    "            continue\n",
    "\n",
    "        where_to = os.path.join(to_path, train_or_Test, patient)\n",
    "        os.makedirs(where_to, exist_ok=True)  # Ensure output directory exists\n",
    "\n",
    "        for f in os.listdir(patient_path):\n",
    "            input_file = os.path.join(patient_path, f)\n",
    "\n",
    "            #Skip directories (prevents IsADirectoryError)\n",
    "            if os.path.isdir(input_file):\n",
    "                continue\n",
    "\n",
    "            #Skip specific files\n",
    "            if f.endswith('md'):\n",
    "                continue  # Skip mandatory_citation.md\n",
    "\n",
    "            #Process .nii.gz files\n",
    "            if f.endswith('.nii.gz'):\n",
    "                output_file = os.path.join(where_to, f[:-3])  # Remove .gz\n",
    "                with gzip.open(input_file, 'rb') as f_in:\n",
    "                    with open(output_file, 'wb') as f_out:\n",
    "                        shutil.copyfileobj(f_in, f_out)\n",
    "\n",
    "            #Copy other files normally\n",
    "            else:\n",
    "                output_file = os.path.join(where_to, f)\n",
    "                with open(input_file, 'rb') as f_in:\n",
    "                    with open(output_file, 'wb') as f_out:\n",
    "                        shutil.copyfileobj(f_in, f_out)\n",
    "\n",
    "    print(\"Extraction completed successfully!\")\n"
   ]
  },
  {
   "cell_type": "markdown",
   "id": "28e6910e32946fb4",
   "metadata": {},
   "source": [
    "### Place the ACDC.zip file somewhere in your directory and use that path for the following cell:"
   ]
  },
  {
   "cell_type": "code",
   "execution_count": 9,
   "id": "initial_id",
   "metadata": {
    "ExecuteTime": {
     "end_time": "2025-02-12T12:45:33.650726Z",
     "start_time": "2025-02-12T12:45:20.459676Z"
    },
    "collapsed": true,
    "jupyter": {
     "outputs_hidden": true
    }
   },
   "outputs": [],
   "source": [
    "import zipfile as zf\n",
    "\n",
    "zip_path=\"../datasets/ACDC.zip\"\n",
    "\n",
    "\n",
    "fixBadZipfile(zip_path)\n",
    "filess = zf.ZipFile(zip_path, 'r')\n",
    "filess.extractall('raw_dataset')\n",
    "filess.close()"
   ]
  },
  {
   "cell_type": "markdown",
   "id": "61aa8aa46e2f5539",
   "metadata": {},
   "source": [
    "### Use your own data paths to the testing or training folder of ACDC for from_path and a desired location as to_path\n",
    "### the desired location directory has to be created prior by you and include two subdirectories: train and test"
   ]
  },
  {
   "cell_type": "code",
   "execution_count": 7,
   "id": "115e4fd789d9e86d",
   "metadata": {
    "ExecuteTime": {
     "end_time": "2025-02-12T19:32:19.713285Z",
     "start_time": "2025-02-12T19:31:54.826229Z"
    }
   },
   "outputs": [
    {
     "name": "stdout",
     "output_type": "stream",
     "text": [
      "Extraction completed successfully!\n"
     ]
    }
   ],
   "source": [
    "from_path = \"/home/jovyan/DL Medical Image/dataset/ACDC/database/testing\"\n",
    "to_path = \"/home/jovyan/DL Medical Image/dataset/dataset_extracted\"\n",
    "\n",
    "copy_and_unzip(from_path, to_path)"
   ]
  }
 ],
 "metadata": {
  "kernelspec": {
   "display_name": "Python",
   "language": "python",
   "name": "python3"
  },
  "language_info": {
   "codemirror_mode": {
    "name": "ipython",
    "version": 3
   },
   "file_extension": ".py",
   "mimetype": "text/x-python",
   "name": "python",
   "nbconvert_exporter": "python",
   "pygments_lexer": "ipython3",
   "version": "3.10.12"
  }
 },
 "nbformat": 4,
 "nbformat_minor": 5
}
