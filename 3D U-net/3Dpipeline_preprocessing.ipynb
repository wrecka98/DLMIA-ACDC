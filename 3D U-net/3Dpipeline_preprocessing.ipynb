{
 "cells": [
  {
   "cell_type": "code",
   "execution_count": 4,
   "id": "120f0ea3-58cc-45a3-873d-a02b895f3477",
   "metadata": {
    "tags": []
   },
   "outputs": [],
   "source": [
    "import os\n",
    "import random\n",
    "import shutil\n",
    "import SimpleITK as sitk"
   ]
  },
  {
   "cell_type": "code",
   "execution_count": 5,
   "id": "d8cc18bb-567a-485f-8d78-7c32f654c8a8",
   "metadata": {
    "tags": []
   },
   "outputs": [
    {
     "name": "stdout",
     "output_type": "stream",
     "text": [
      "Total number of patient folders: 98\n",
      "Number of training patients: 78\n",
      "Number of validation patients: 20\n",
      "\n",
      "Training patients:\n",
      "['patient088', 'patient062', 'patient065', 'patient010', 'patient034', 'patient027', 'patient002', 'patient071', 'patient016', 'patient063', 'patient066', 'patient011', 'patient054', 'patient077', 'patient053', 'patient093', 'patient051', 'patient043', 'patient068', 'patient031', 'patient058', 'patient075', 'patient047', 'patient033', 'patient100', 'patient070', 'patient095', 'patient009', 'patient039', 'patient079', 'patient083', 'patient049', 'patient046', 'patient044', 'patient099', 'patient052', 'patient086', 'patient013', 'patient037', 'patient024', 'patient041', 'patient042', 'patient019', 'patient081', 'patient073', 'patient059', 'patient008', 'patient035', 'patient082', 'patient048', 'patient003', 'patient017', 'patient040', 'patient069', 'patient023', 'patient061', 'patient025', 'patient006', 'patient007', 'patient022', 'patient050', 'patient064', 'patient092', 'patient020', 'patient076', 'patient045', 'patient087', 'patient021', 'patient001', 'patient096', 'patient060', 'patient094', 'patient055', 'patient090', 'patient026', 'patient074', 'patient085', 'patient080']\n",
      "\n",
      "Validation patients:\n",
      "['patient067', 'patient030', 'patient028', 'patient091', 'patient098', 'patient005', 'patient056', 'patient078', 'patient012', 'patient072', 'patient089', 'patient014', 'patient018', 'patient029', 'patient032', 'patient036', 'patient097', 'patient004', 'patient015', 'patient084']\n",
      "\n",
      "Data splitting complete.\n",
      "Training data copied to: ../dataset/dataset_extracted/train_split\n",
      "Validation data copied to: ../dataset/dataset_extracted/val_split\n"
     ]
    }
   ],
   "source": [
    "\n",
    "\n",
    "\n",
    "# ---------------------------\n",
    "# 1. Split the Data into Train/Val\n",
    "# ---------------------------\n",
    "# Set a seed for reproducibility\n",
    "random.seed(42)\n",
    "\n",
    "\n",
    "\n",
    "# Define the path to the directory containing the patient folders.\n",
    "train_dir = '../dataset/dataset_extracted/train'  # Adjust this path if necessary\n",
    "\n",
    "# List all folders that start with \"patient\" and are directories.\n",
    "patient_dirs = [d for d in os.listdir(train_dir) \n",
    "                if d.startswith(\"patient\") and os.path.isdir(os.path.join(train_dir, d))]\n",
    "patient_dirs.sort()  # Ensure a consistent order before shuffling\n",
    "\n",
    "print(\"Total number of patient folders:\", len(patient_dirs))\n",
    "\n",
    "# Shuffle the patient folders to randomize the split\n",
    "random.shuffle(patient_dirs)\n",
    "\n",
    "# Compute the split index (80% for training, 20% for validation)\n",
    "split_index = int(0.8 * len(patient_dirs))\n",
    "train_patients = patient_dirs[:split_index]\n",
    "val_patients = patient_dirs[split_index:]\n",
    "\n",
    "print(\"Number of training patients:\", len(train_patients))\n",
    "print(\"Number of validation patients:\", len(val_patients))\n",
    "\n",
    "# Optionally, display the lists\n",
    "print(\"\\nTraining patients:\")\n",
    "print(train_patients)\n",
    "\n",
    "print(\"\\nValidation patients:\")\n",
    "print(val_patients)\n",
    "\n",
    "# Optional: Copy the split patient folders to separate directories.\n",
    "# This step physically separates the training and validation data.\n",
    "train_out_dir = '../dataset/dataset_extracted/train_split'\n",
    "val_out_dir = '../dataset/dataset_extracted/val_split'\n",
    "\n",
    "os.makedirs(train_out_dir, exist_ok=True)\n",
    "os.makedirs(val_out_dir, exist_ok=True)\n",
    "\n",
    "# Copy training patient folders\n",
    "for patient in train_patients:\n",
    "    src = os.path.join(train_dir, patient)\n",
    "    dst = os.path.join(train_out_dir, patient)\n",
    "    shutil.copytree(src, dst, dirs_exist_ok=True)\n",
    "\n",
    "# Copy validation patient folders\n",
    "for patient in val_patients:\n",
    "    src = os.path.join(train_dir, patient)\n",
    "    dst = os.path.join(val_out_dir, patient)\n",
    "    shutil.copytree(src, dst, dirs_exist_ok=True)\n",
    "\n",
    "print(\"\\nData splitting complete.\")\n",
    "print(f\"Training data copied to: {train_out_dir}\")\n",
    "print(f\"Validation data copied to: {val_out_dir}\")\n"
   ]
  },
  {
   "cell_type": "code",
   "execution_count": 6,
   "id": "da2cf190-4040-4a61-9806-b0be38752168",
   "metadata": {
    "collapsed": true,
    "jupyter": {
     "outputs_hidden": true
    },
    "tags": []
   },
   "outputs": [
    {
     "name": "stdout",
     "output_type": "stream",
     "text": [
      "Processing directory: ../dataset/dataset_extracted/train_split\n",
      "Resampling: ../dataset/dataset_extracted/train_split/patient088/patient088_frame01.nii\n"
     ]
    },
    {
     "name": "stderr",
     "output_type": "stream",
     "text": [
      "WARNING: In /tmp/SimpleITK-build/ITK/Modules/IO/NIFTI/src/itkNiftiImageIO.cxx, line 2008\n",
      "NiftiImageIO (0x55c7d916dc30): ../dataset/dataset_extracted/train_split/patient088/patient088_frame01.nii has unexpected scales in sform\n",
      "\n",
      "WARNING: In /tmp/SimpleITK-build/ITK/Modules/IO/NIFTI/src/itkNiftiImageIO.cxx, line 2008\n",
      "NiftiImageIO (0x55c7d916dc30): ../dataset/dataset_extracted/train_split/patient088/patient088_frame01.nii has unexpected scales in sform\n",
      "\n",
      "WARNING: In /tmp/SimpleITK-build/ITK/Modules/IO/NIFTI/src/itkNiftiImageIO.cxx, line 2008\n",
      "NiftiImageIO (0x55c7d916dc30): ../dataset/dataset_extracted/train_split/patient088/patient088_frame01_gt.nii has unexpected scales in sform\n",
      "\n",
      "WARNING: In /tmp/SimpleITK-build/ITK/Modules/IO/NIFTI/src/itkNiftiImageIO.cxx, line 2008\n",
      "NiftiImageIO (0x55c7d916dc30): ../dataset/dataset_extracted/train_split/patient088/patient088_frame01_gt.nii has unexpected scales in sform\n",
      "\n"
     ]
    },
    {
     "name": "stdout",
     "output_type": "stream",
     "text": [
      "Resampling: ../dataset/dataset_extracted/train_split/patient088/patient088_frame01_gt.nii\n",
      "Resampling: ../dataset/dataset_extracted/train_split/patient088/patient088_frame12.nii\n"
     ]
    },
    {
     "name": "stderr",
     "output_type": "stream",
     "text": [
      "WARNING: In /tmp/SimpleITK-build/ITK/Modules/IO/NIFTI/src/itkNiftiImageIO.cxx, line 2008\n",
      "NiftiImageIO (0x55c7d916dc30): ../dataset/dataset_extracted/train_split/patient088/patient088_frame12.nii has unexpected scales in sform\n",
      "\n",
      "WARNING: In /tmp/SimpleITK-build/ITK/Modules/IO/NIFTI/src/itkNiftiImageIO.cxx, line 2008\n",
      "NiftiImageIO (0x55c7d916dc30): ../dataset/dataset_extracted/train_split/patient088/patient088_frame12.nii has unexpected scales in sform\n",
      "\n",
      "WARNING: In /tmp/SimpleITK-build/ITK/Modules/IO/NIFTI/src/itkNiftiImageIO.cxx, line 2008\n",
      "NiftiImageIO (0x55c7d916dc30): ../dataset/dataset_extracted/train_split/patient088/patient088_frame12_gt.nii has unexpected scales in sform\n",
      "\n",
      "WARNING: In /tmp/SimpleITK-build/ITK/Modules/IO/NIFTI/src/itkNiftiImageIO.cxx, line 2008\n",
      "NiftiImageIO (0x55c7d916dc30): ../dataset/dataset_extracted/train_split/patient088/patient088_frame12_gt.nii has unexpected scales in sform\n",
      "\n"
     ]
    },
    {
     "name": "stdout",
     "output_type": "stream",
     "text": [
      "Resampling: ../dataset/dataset_extracted/train_split/patient088/patient088_frame12_gt.nii\n",
      "Resampling: ../dataset/dataset_extracted/train_split/patient062/patient062_frame01.nii\n",
      "Resampling: ../dataset/dataset_extracted/train_split/patient062/patient062_frame01_gt.nii\n"
     ]
    },
    {
     "name": "stderr",
     "output_type": "stream",
     "text": [
      "WARNING: In /tmp/SimpleITK-build/ITK/Modules/IO/NIFTI/src/itkNiftiImageIO.cxx, line 2008\n",
      "NiftiImageIO (0x55c7d916dc30): ../dataset/dataset_extracted/train_split/patient062/patient062_frame01.nii has unexpected scales in sform\n",
      "\n",
      "WARNING: In /tmp/SimpleITK-build/ITK/Modules/IO/NIFTI/src/itkNiftiImageIO.cxx, line 2008\n",
      "NiftiImageIO (0x55c7d916dc30): ../dataset/dataset_extracted/train_split/patient062/patient062_frame01.nii has unexpected scales in sform\n",
      "\n",
      "WARNING: In /tmp/SimpleITK-build/ITK/Modules/IO/NIFTI/src/itkNiftiImageIO.cxx, line 2008\n",
      "NiftiImageIO (0x55c7d916dc30): ../dataset/dataset_extracted/train_split/patient062/patient062_frame01_gt.nii has unexpected scales in sform\n",
      "\n",
      "WARNING: In /tmp/SimpleITK-build/ITK/Modules/IO/NIFTI/src/itkNiftiImageIO.cxx, line 2008\n",
      "NiftiImageIO (0x55c7d916dc30): ../dataset/dataset_extracted/train_split/patient062/patient062_frame01_gt.nii has unexpected scales in sform\n",
      "\n",
      "WARNING: In /tmp/SimpleITK-build/ITK/Modules/IO/NIFTI/src/itkNiftiImageIO.cxx, line 2008\n",
      "NiftiImageIO (0x55c7d916dc30): ../dataset/dataset_extracted/train_split/patient062/patient062_frame09.nii has unexpected scales in sform\n",
      "\n",
      "WARNING: In /tmp/SimpleITK-build/ITK/Modules/IO/NIFTI/src/itkNiftiImageIO.cxx, line 2008\n",
      "NiftiImageIO (0x55c7d916dc30): ../dataset/dataset_extracted/train_split/patient062/patient062_frame09.nii has unexpected scales in sform\n",
      "\n",
      "WARNING: In /tmp/SimpleITK-build/ITK/Modules/IO/NIFTI/src/itkNiftiImageIO.cxx, line 2008\n",
      "NiftiImageIO (0x55c7d916dc30): ../dataset/dataset_extracted/train_split/patient062/patient062_frame09_gt.nii has unexpected scales in sform\n",
      "\n",
      "WARNING: In /tmp/SimpleITK-build/ITK/Modules/IO/NIFTI/src/itkNiftiImageIO.cxx, line 2008\n",
      "NiftiImageIO (0x55c7d916dc30): ../dataset/dataset_extracted/train_split/patient062/patient062_frame09_gt.nii has unexpected scales in sform\n",
      "\n"
     ]
    },
    {
     "name": "stdout",
     "output_type": "stream",
     "text": [
      "Resampling: ../dataset/dataset_extracted/train_split/patient062/patient062_frame09.nii\n",
      "Resampling: ../dataset/dataset_extracted/train_split/patient062/patient062_frame09_gt.nii\n"
     ]
    },
    {
     "name": "stderr",
     "output_type": "stream",
     "text": [
      "WARNING: In /tmp/SimpleITK-build/ITK/Modules/IO/NIFTI/src/itkNiftiImageIO.cxx, line 2008\n",
      "NiftiImageIO (0x55c7d916dc30): ../dataset/dataset_extracted/train_split/patient065/patient065_frame01.nii has unexpected scales in sform\n",
      "\n",
      "WARNING: In /tmp/SimpleITK-build/ITK/Modules/IO/NIFTI/src/itkNiftiImageIO.cxx, line 2008\n",
      "NiftiImageIO (0x55c7d916dc30): ../dataset/dataset_extracted/train_split/patient065/patient065_frame01.nii has unexpected scales in sform\n",
      "\n",
      "WARNING: In /tmp/SimpleITK-build/ITK/Modules/IO/NIFTI/src/itkNiftiImageIO.cxx, line 2008\n",
      "NiftiImageIO (0x55c7d916dc30): ../dataset/dataset_extracted/train_split/patient065/patient065_frame01_gt.nii has unexpected scales in sform\n",
      "\n",
      "WARNING: In /tmp/SimpleITK-build/ITK/Modules/IO/NIFTI/src/itkNiftiImageIO.cxx, line 2008\n",
      "NiftiImageIO (0x55c7d916dc30): ../dataset/dataset_extracted/train_split/patient065/patient065_frame01_gt.nii has unexpected scales in sform\n",
      "\n",
      "WARNING: In /tmp/SimpleITK-build/ITK/Modules/IO/NIFTI/src/itkNiftiImageIO.cxx, line 2008\n",
      "NiftiImageIO (0x55c7d916dc30): ../dataset/dataset_extracted/train_split/patient065/patient065_frame14.nii has unexpected scales in sform\n",
      "\n",
      "WARNING: In /tmp/SimpleITK-build/ITK/Modules/IO/NIFTI/src/itkNiftiImageIO.cxx, line 2008\n",
      "NiftiImageIO (0x55c7d916dc30): ../dataset/dataset_extracted/train_split/patient065/patient065_frame14.nii has unexpected scales in sform\n",
      "\n"
     ]
    },
    {
     "name": "stdout",
     "output_type": "stream",
     "text": [
      "Resampling: ../dataset/dataset_extracted/train_split/patient065/patient065_frame01.nii\n",
      "Resampling: ../dataset/dataset_extracted/train_split/patient065/patient065_frame01_gt.nii\n",
      "Resampling: ../dataset/dataset_extracted/train_split/patient065/patient065_frame14.nii\n"
     ]
    },
    {
     "name": "stderr",
     "output_type": "stream",
     "text": [
      "WARNING: In /tmp/SimpleITK-build/ITK/Modules/IO/NIFTI/src/itkNiftiImageIO.cxx, line 2008\n",
      "NiftiImageIO (0x55c7d916dc30): ../dataset/dataset_extracted/train_split/patient065/patient065_frame14_gt.nii has unexpected scales in sform\n",
      "\n",
      "WARNING: In /tmp/SimpleITK-build/ITK/Modules/IO/NIFTI/src/itkNiftiImageIO.cxx, line 2008\n",
      "NiftiImageIO (0x55c7d916dc30): ../dataset/dataset_extracted/train_split/patient065/patient065_frame14_gt.nii has unexpected scales in sform\n",
      "\n",
      "WARNING: In /tmp/SimpleITK-build/ITK/Modules/IO/NIFTI/src/itkNiftiImageIO.cxx, line 2008\n",
      "NiftiImageIO (0x55c7d916dc30): ../dataset/dataset_extracted/train_split/patient010/patient010_frame01.nii has unexpected scales in sform\n",
      "\n",
      "WARNING: In /tmp/SimpleITK-build/ITK/Modules/IO/NIFTI/src/itkNiftiImageIO.cxx, line 2008\n",
      "NiftiImageIO (0x55c7d916dc30): ../dataset/dataset_extracted/train_split/patient010/patient010_frame01.nii has unexpected scales in sform\n",
      "\n"
     ]
    },
    {
     "name": "stdout",
     "output_type": "stream",
     "text": [
      "Resampling: ../dataset/dataset_extracted/train_split/patient065/patient065_frame14_gt.nii\n",
      "Resampling: ../dataset/dataset_extracted/train_split/patient010/patient010_frame01.nii\n"
     ]
    },
    {
     "name": "stderr",
     "output_type": "stream",
     "text": [
      "WARNING: In /tmp/SimpleITK-build/ITK/Modules/IO/NIFTI/src/itkNiftiImageIO.cxx, line 2008\n",
      "NiftiImageIO (0x55c7d916dc30): ../dataset/dataset_extracted/train_split/patient010/patient010_frame01_gt.nii has unexpected scales in sform\n",
      "\n",
      "WARNING: In /tmp/SimpleITK-build/ITK/Modules/IO/NIFTI/src/itkNiftiImageIO.cxx, line 2008\n",
      "NiftiImageIO (0x55c7d916dc30): ../dataset/dataset_extracted/train_split/patient010/patient010_frame01_gt.nii has unexpected scales in sform\n",
      "\n",
      "WARNING: In /tmp/SimpleITK-build/ITK/Modules/IO/NIFTI/src/itkNiftiImageIO.cxx, line 2008\n",
      "NiftiImageIO (0x55c7d916dc30): ../dataset/dataset_extracted/train_split/patient010/patient010_frame13.nii has unexpected scales in sform\n",
      "\n",
      "WARNING: In /tmp/SimpleITK-build/ITK/Modules/IO/NIFTI/src/itkNiftiImageIO.cxx, line 2008\n",
      "NiftiImageIO (0x55c7d916dc30): ../dataset/dataset_extracted/train_split/patient010/patient010_frame13.nii has unexpected scales in sform\n",
      "\n"
     ]
    },
    {
     "name": "stdout",
     "output_type": "stream",
     "text": [
      "Resampling: ../dataset/dataset_extracted/train_split/patient010/patient010_frame01_gt.nii\n",
      "Resampling: ../dataset/dataset_extracted/train_split/patient010/patient010_frame13.nii\n"
     ]
    },
    {
     "name": "stderr",
     "output_type": "stream",
     "text": [
      "WARNING: In /tmp/SimpleITK-build/ITK/Modules/IO/NIFTI/src/itkNiftiImageIO.cxx, line 2008\n",
      "NiftiImageIO (0x55c7d916dc30): ../dataset/dataset_extracted/train_split/patient010/patient010_frame13_gt.nii has unexpected scales in sform\n",
      "\n",
      "WARNING: In /tmp/SimpleITK-build/ITK/Modules/IO/NIFTI/src/itkNiftiImageIO.cxx, line 2008\n",
      "NiftiImageIO (0x55c7d916dc30): ../dataset/dataset_extracted/train_split/patient010/patient010_frame13_gt.nii has unexpected scales in sform\n",
      "\n",
      "WARNING: In /tmp/SimpleITK-build/ITK/Modules/IO/NIFTI/src/itkNiftiImageIO.cxx, line 2008\n",
      "NiftiImageIO (0x55c7d916dc30): ../dataset/dataset_extracted/train_split/patient034/patient034_frame01.nii has unexpected scales in sform\n",
      "\n",
      "WARNING: In /tmp/SimpleITK-build/ITK/Modules/IO/NIFTI/src/itkNiftiImageIO.cxx, line 2008\n",
      "NiftiImageIO (0x55c7d916dc30): ../dataset/dataset_extracted/train_split/patient034/patient034_frame01.nii has unexpected scales in sform\n",
      "\n"
     ]
    },
    {
     "name": "stdout",
     "output_type": "stream",
     "text": [
      "Resampling: ../dataset/dataset_extracted/train_split/patient010/patient010_frame13_gt.nii\n",
      "Resampling: ../dataset/dataset_extracted/train_split/patient034/patient034_frame01.nii\n",
      "Resampling: ../dataset/dataset_extracted/train_split/patient034/patient034_frame01_gt.nii\n"
     ]
    },
    {
     "name": "stderr",
     "output_type": "stream",
     "text": [
      "WARNING: In /tmp/SimpleITK-build/ITK/Modules/IO/NIFTI/src/itkNiftiImageIO.cxx, line 2008\n",
      "NiftiImageIO (0x55c7d916dc30): ../dataset/dataset_extracted/train_split/patient034/patient034_frame01_gt.nii has unexpected scales in sform\n",
      "\n",
      "WARNING: In /tmp/SimpleITK-build/ITK/Modules/IO/NIFTI/src/itkNiftiImageIO.cxx, line 2008\n",
      "NiftiImageIO (0x55c7d916dc30): ../dataset/dataset_extracted/train_split/patient034/patient034_frame01_gt.nii has unexpected scales in sform\n",
      "\n",
      "WARNING: In /tmp/SimpleITK-build/ITK/Modules/IO/NIFTI/src/itkNiftiImageIO.cxx, line 2008\n",
      "NiftiImageIO (0x55c7d916dc30): ../dataset/dataset_extracted/train_split/patient034/patient034_frame16.nii has unexpected scales in sform\n",
      "\n",
      "WARNING: In /tmp/SimpleITK-build/ITK/Modules/IO/NIFTI/src/itkNiftiImageIO.cxx, line 2008\n",
      "NiftiImageIO (0x55c7d916dc30): ../dataset/dataset_extracted/train_split/patient034/patient034_frame16.nii has unexpected scales in sform\n",
      "\n"
     ]
    },
    {
     "name": "stdout",
     "output_type": "stream",
     "text": [
      "Resampling: ../dataset/dataset_extracted/train_split/patient034/patient034_frame16.nii\n",
      "Resampling: ../dataset/dataset_extracted/train_split/patient034/patient034_frame16_gt.nii\n"
     ]
    },
    {
     "name": "stderr",
     "output_type": "stream",
     "text": [
      "WARNING: In /tmp/SimpleITK-build/ITK/Modules/IO/NIFTI/src/itkNiftiImageIO.cxx, line 2008\n",
      "NiftiImageIO (0x55c7d916dc30): ../dataset/dataset_extracted/train_split/patient034/patient034_frame16_gt.nii has unexpected scales in sform\n",
      "\n",
      "WARNING: In /tmp/SimpleITK-build/ITK/Modules/IO/NIFTI/src/itkNiftiImageIO.cxx, line 2008\n",
      "NiftiImageIO (0x55c7d916dc30): ../dataset/dataset_extracted/train_split/patient034/patient034_frame16_gt.nii has unexpected scales in sform\n",
      "\n",
      "WARNING: In /tmp/SimpleITK-build/ITK/Modules/IO/NIFTI/src/itkNiftiImageIO.cxx, line 2008\n",
      "NiftiImageIO (0x55c7d916dc30): ../dataset/dataset_extracted/train_split/patient027/patient027_frame01.nii has unexpected scales in sform\n",
      "\n",
      "WARNING: In /tmp/SimpleITK-build/ITK/Modules/IO/NIFTI/src/itkNiftiImageIO.cxx, line 2008\n",
      "NiftiImageIO (0x55c7d916dc30): ../dataset/dataset_extracted/train_split/patient027/patient027_frame01.nii has unexpected scales in sform\n",
      "\n"
     ]
    },
    {
     "name": "stdout",
     "output_type": "stream",
     "text": [
      "Resampling: ../dataset/dataset_extracted/train_split/patient027/patient027_frame01.nii\n",
      "Resampling: ../dataset/dataset_extracted/train_split/patient027/patient027_frame01_gt.nii\n",
      "Resampling: ../dataset/dataset_extracted/train_split/patient027/patient027_frame11.nii\n"
     ]
    },
    {
     "name": "stderr",
     "output_type": "stream",
     "text": [
      "WARNING: In /tmp/SimpleITK-build/ITK/Modules/IO/NIFTI/src/itkNiftiImageIO.cxx, line 2008\n",
      "NiftiImageIO (0x55c7d916dc30): ../dataset/dataset_extracted/train_split/patient027/patient027_frame01_gt.nii has unexpected scales in sform\n",
      "\n",
      "WARNING: In /tmp/SimpleITK-build/ITK/Modules/IO/NIFTI/src/itkNiftiImageIO.cxx, line 2008\n",
      "NiftiImageIO (0x55c7d916dc30): ../dataset/dataset_extracted/train_split/patient027/patient027_frame01_gt.nii has unexpected scales in sform\n",
      "\n",
      "WARNING: In /tmp/SimpleITK-build/ITK/Modules/IO/NIFTI/src/itkNiftiImageIO.cxx, line 2008\n",
      "NiftiImageIO (0x55c7d916dc30): ../dataset/dataset_extracted/train_split/patient027/patient027_frame11.nii has unexpected scales in sform\n",
      "\n",
      "WARNING: In /tmp/SimpleITK-build/ITK/Modules/IO/NIFTI/src/itkNiftiImageIO.cxx, line 2008\n",
      "NiftiImageIO (0x55c7d916dc30): ../dataset/dataset_extracted/train_split/patient027/patient027_frame11.nii has unexpected scales in sform\n",
      "\n",
      "WARNING: In /tmp/SimpleITK-build/ITK/Modules/IO/NIFTI/src/itkNiftiImageIO.cxx, line 2008\n",
      "NiftiImageIO (0x55c7d916dc30): ../dataset/dataset_extracted/train_split/patient027/patient027_frame11_gt.nii has unexpected scales in sform\n",
      "\n",
      "WARNING: In /tmp/SimpleITK-build/ITK/Modules/IO/NIFTI/src/itkNiftiImageIO.cxx, line 2008\n",
      "NiftiImageIO (0x55c7d916dc30): ../dataset/dataset_extracted/train_split/patient027/patient027_frame11_gt.nii has unexpected scales in sform\n",
      "\n"
     ]
    },
    {
     "name": "stdout",
     "output_type": "stream",
     "text": [
      "Resampling: ../dataset/dataset_extracted/train_split/patient027/patient027_frame11_gt.nii\n",
      "Resampling: ../dataset/dataset_extracted/train_split/patient002/patient002_frame01.nii\n"
     ]
    },
    {
     "name": "stderr",
     "output_type": "stream",
     "text": [
      "WARNING: In /tmp/SimpleITK-build/ITK/Modules/IO/NIFTI/src/itkNiftiImageIO.cxx, line 2008\n",
      "NiftiImageIO (0x55c7d916dc30): ../dataset/dataset_extracted/train_split/patient002/patient002_frame01.nii has unexpected scales in sform\n",
      "\n",
      "WARNING: In /tmp/SimpleITK-build/ITK/Modules/IO/NIFTI/src/itkNiftiImageIO.cxx, line 2008\n",
      "NiftiImageIO (0x55c7d916dc30): ../dataset/dataset_extracted/train_split/patient002/patient002_frame01.nii has unexpected scales in sform\n",
      "\n",
      "WARNING: In /tmp/SimpleITK-build/ITK/Modules/IO/NIFTI/src/itkNiftiImageIO.cxx, line 2008\n",
      "NiftiImageIO (0x55c7d916dc30): ../dataset/dataset_extracted/train_split/patient002/patient002_frame01_gt.nii has unexpected scales in sform\n",
      "\n",
      "WARNING: In /tmp/SimpleITK-build/ITK/Modules/IO/NIFTI/src/itkNiftiImageIO.cxx, line 2008\n",
      "NiftiImageIO (0x55c7d916dc30): ../dataset/dataset_extracted/train_split/patient002/patient002_frame01_gt.nii has unexpected scales in sform\n",
      "\n"
     ]
    },
    {
     "name": "stdout",
     "output_type": "stream",
     "text": [
      "Resampling: ../dataset/dataset_extracted/train_split/patient002/patient002_frame01_gt.nii\n",
      "Resampling: ../dataset/dataset_extracted/train_split/patient002/patient002_frame12.nii\n"
     ]
    },
    {
     "name": "stderr",
     "output_type": "stream",
     "text": [
      "WARNING: In /tmp/SimpleITK-build/ITK/Modules/IO/NIFTI/src/itkNiftiImageIO.cxx, line 2008\n",
      "NiftiImageIO (0x55c7d916dc30): ../dataset/dataset_extracted/train_split/patient002/patient002_frame12.nii has unexpected scales in sform\n",
      "\n",
      "WARNING: In /tmp/SimpleITK-build/ITK/Modules/IO/NIFTI/src/itkNiftiImageIO.cxx, line 2008\n",
      "NiftiImageIO (0x55c7d916dc30): ../dataset/dataset_extracted/train_split/patient002/patient002_frame12.nii has unexpected scales in sform\n",
      "\n",
      "WARNING: In /tmp/SimpleITK-build/ITK/Modules/IO/NIFTI/src/itkNiftiImageIO.cxx, line 2008\n",
      "NiftiImageIO (0x55c7d916dc30): ../dataset/dataset_extracted/train_split/patient002/patient002_frame12_gt.nii has unexpected scales in sform\n",
      "\n",
      "WARNING: In /tmp/SimpleITK-build/ITK/Modules/IO/NIFTI/src/itkNiftiImageIO.cxx, line 2008\n",
      "NiftiImageIO (0x55c7d916dc30): ../dataset/dataset_extracted/train_split/patient002/patient002_frame12_gt.nii has unexpected scales in sform\n",
      "\n",
      "WARNING: In /tmp/SimpleITK-build/ITK/Modules/IO/NIFTI/src/itkNiftiImageIO.cxx, line 2008\n",
      "NiftiImageIO (0x55c7d916dc30): ../dataset/dataset_extracted/train_split/patient071/patient071_frame01.nii has unexpected scales in sform\n",
      "\n",
      "WARNING: In /tmp/SimpleITK-build/ITK/Modules/IO/NIFTI/src/itkNiftiImageIO.cxx, line 2008\n",
      "NiftiImageIO (0x55c7d916dc30): ../dataset/dataset_extracted/train_split/patient071/patient071_frame01.nii has unexpected scales in sform\n",
      "\n"
     ]
    },
    {
     "name": "stdout",
     "output_type": "stream",
     "text": [
      "Resampling: ../dataset/dataset_extracted/train_split/patient002/patient002_frame12_gt.nii\n",
      "Resampling: ../dataset/dataset_extracted/train_split/patient071/patient071_frame01.nii\n",
      "Resampling: ../dataset/dataset_extracted/train_split/patient071/patient071_frame01_gt.nii\n"
     ]
    },
    {
     "name": "stderr",
     "output_type": "stream",
     "text": [
      "WARNING: In /tmp/SimpleITK-build/ITK/Modules/IO/NIFTI/src/itkNiftiImageIO.cxx, line 2008\n",
      "NiftiImageIO (0x55c7d916dc30): ../dataset/dataset_extracted/train_split/patient071/patient071_frame01_gt.nii has unexpected scales in sform\n",
      "\n",
      "WARNING: In /tmp/SimpleITK-build/ITK/Modules/IO/NIFTI/src/itkNiftiImageIO.cxx, line 2008\n",
      "NiftiImageIO (0x55c7d916dc30): ../dataset/dataset_extracted/train_split/patient071/patient071_frame01_gt.nii has unexpected scales in sform\n",
      "\n",
      "WARNING: In /tmp/SimpleITK-build/ITK/Modules/IO/NIFTI/src/itkNiftiImageIO.cxx, line 2008\n",
      "NiftiImageIO (0x55c7d916dc30): ../dataset/dataset_extracted/train_split/patient071/patient071_frame09.nii has unexpected scales in sform\n",
      "\n",
      "WARNING: In /tmp/SimpleITK-build/ITK/Modules/IO/NIFTI/src/itkNiftiImageIO.cxx, line 2008\n",
      "NiftiImageIO (0x55c7d916dc30): ../dataset/dataset_extracted/train_split/patient071/patient071_frame09.nii has unexpected scales in sform\n",
      "\n",
      "WARNING: In /tmp/SimpleITK-build/ITK/Modules/IO/NIFTI/src/itkNiftiImageIO.cxx, line 2008\n",
      "NiftiImageIO (0x55c7d916dc30): ../dataset/dataset_extracted/train_split/patient071/patient071_frame09_gt.nii has unexpected scales in sform\n",
      "\n",
      "WARNING: In /tmp/SimpleITK-build/ITK/Modules/IO/NIFTI/src/itkNiftiImageIO.cxx, line 2008\n",
      "NiftiImageIO (0x55c7d916dc30): ../dataset/dataset_extracted/train_split/patient071/patient071_frame09_gt.nii has unexpected scales in sform\n",
      "\n"
     ]
    },
    {
     "name": "stdout",
     "output_type": "stream",
     "text": [
      "Resampling: ../dataset/dataset_extracted/train_split/patient071/patient071_frame09.nii\n",
      "Resampling: ../dataset/dataset_extracted/train_split/patient071/patient071_frame09_gt.nii\n"
     ]
    },
    {
     "name": "stderr",
     "output_type": "stream",
     "text": [
      "WARNING: In /tmp/SimpleITK-build/ITK/Modules/IO/NIFTI/src/itkNiftiImageIO.cxx, line 2008\n",
      "NiftiImageIO (0x55c7d916dc30): ../dataset/dataset_extracted/train_split/patient016/patient016_frame01.nii has unexpected scales in sform\n",
      "\n",
      "WARNING: In /tmp/SimpleITK-build/ITK/Modules/IO/NIFTI/src/itkNiftiImageIO.cxx, line 2008\n",
      "NiftiImageIO (0x55c7d916dc30): ../dataset/dataset_extracted/train_split/patient016/patient016_frame01.nii has unexpected scales in sform\n",
      "\n",
      "WARNING: In /tmp/SimpleITK-build/ITK/Modules/IO/NIFTI/src/itkNiftiImageIO.cxx, line 2008\n",
      "NiftiImageIO (0x55c7d916dc30): ../dataset/dataset_extracted/train_split/patient016/patient016_frame01_gt.nii has unexpected scales in sform\n",
      "\n",
      "WARNING: In /tmp/SimpleITK-build/ITK/Modules/IO/NIFTI/src/itkNiftiImageIO.cxx, line 2008\n",
      "NiftiImageIO (0x55c7d916dc30): ../dataset/dataset_extracted/train_split/patient016/patient016_frame01_gt.nii has unexpected scales in sform\n",
      "\n"
     ]
    },
    {
     "name": "stdout",
     "output_type": "stream",
     "text": [
      "Resampling: ../dataset/dataset_extracted/train_split/patient016/patient016_frame01.nii\n",
      "Resampling: ../dataset/dataset_extracted/train_split/patient016/patient016_frame01_gt.nii\n"
     ]
    },
    {
     "name": "stderr",
     "output_type": "stream",
     "text": [
      "WARNING: In /tmp/SimpleITK-build/ITK/Modules/IO/NIFTI/src/itkNiftiImageIO.cxx, line 2008\n",
      "NiftiImageIO (0x55c7d916dc30): ../dataset/dataset_extracted/train_split/patient016/patient016_frame12.nii has unexpected scales in sform\n",
      "\n",
      "WARNING: In /tmp/SimpleITK-build/ITK/Modules/IO/NIFTI/src/itkNiftiImageIO.cxx, line 2008\n",
      "NiftiImageIO (0x55c7d916dc30): ../dataset/dataset_extracted/train_split/patient016/patient016_frame12.nii has unexpected scales in sform\n",
      "\n",
      "WARNING: In /tmp/SimpleITK-build/ITK/Modules/IO/NIFTI/src/itkNiftiImageIO.cxx, line 2008\n",
      "NiftiImageIO (0x55c7d916dc30): ../dataset/dataset_extracted/train_split/patient016/patient016_frame12_gt.nii has unexpected scales in sform\n",
      "\n",
      "WARNING: In /tmp/SimpleITK-build/ITK/Modules/IO/NIFTI/src/itkNiftiImageIO.cxx, line 2008\n",
      "NiftiImageIO (0x55c7d916dc30): ../dataset/dataset_extracted/train_split/patient016/patient016_frame12_gt.nii has unexpected scales in sform\n",
      "\n"
     ]
    },
    {
     "name": "stdout",
     "output_type": "stream",
     "text": [
      "Resampling: ../dataset/dataset_extracted/train_split/patient016/patient016_frame12.nii\n",
      "Resampling: ../dataset/dataset_extracted/train_split/patient016/patient016_frame12_gt.nii\n",
      "Resampling: ../dataset/dataset_extracted/train_split/patient063/patient063_frame01.nii\n",
      "Resampling: ../dataset/dataset_extracted/train_split/patient063/patient063_frame01_gt.nii\n"
     ]
    },
    {
     "name": "stderr",
     "output_type": "stream",
     "text": [
      "WARNING: In /tmp/SimpleITK-build/ITK/Modules/IO/NIFTI/src/itkNiftiImageIO.cxx, line 2008\n",
      "NiftiImageIO (0x55c7d916dc30): ../dataset/dataset_extracted/train_split/patient063/patient063_frame01.nii has unexpected scales in sform\n",
      "\n",
      "WARNING: In /tmp/SimpleITK-build/ITK/Modules/IO/NIFTI/src/itkNiftiImageIO.cxx, line 2008\n",
      "NiftiImageIO (0x55c7d916dc30): ../dataset/dataset_extracted/train_split/patient063/patient063_frame01.nii has unexpected scales in sform\n",
      "\n",
      "WARNING: In /tmp/SimpleITK-build/ITK/Modules/IO/NIFTI/src/itkNiftiImageIO.cxx, line 2008\n",
      "NiftiImageIO (0x55c7d916dc30): ../dataset/dataset_extracted/train_split/patient063/patient063_frame01_gt.nii has unexpected scales in sform\n",
      "\n",
      "WARNING: In /tmp/SimpleITK-build/ITK/Modules/IO/NIFTI/src/itkNiftiImageIO.cxx, line 2008\n",
      "NiftiImageIO (0x55c7d916dc30): ../dataset/dataset_extracted/train_split/patient063/patient063_frame01_gt.nii has unexpected scales in sform\n",
      "\n",
      "WARNING: In /tmp/SimpleITK-build/ITK/Modules/IO/NIFTI/src/itkNiftiImageIO.cxx, line 2008\n",
      "NiftiImageIO (0x55c7d916dc30): ../dataset/dataset_extracted/train_split/patient063/patient063_frame16.nii has unexpected scales in sform\n",
      "\n",
      "WARNING: In /tmp/SimpleITK-build/ITK/Modules/IO/NIFTI/src/itkNiftiImageIO.cxx, line 2008\n",
      "NiftiImageIO (0x55c7d916dc30): ../dataset/dataset_extracted/train_split/patient063/patient063_frame16.nii has unexpected scales in sform\n",
      "\n"
     ]
    },
    {
     "name": "stdout",
     "output_type": "stream",
     "text": [
      "Resampling: ../dataset/dataset_extracted/train_split/patient063/patient063_frame16.nii\n",
      "Resampling: ../dataset/dataset_extracted/train_split/patient063/patient063_frame16_gt.nii\n",
      "Resampling: ../dataset/dataset_extracted/train_split/patient066/patient066_frame01.nii\n",
      "Resampling: ../dataset/dataset_extracted/train_split/patient066/patient066_frame01_gt.nii\n"
     ]
    },
    {
     "name": "stderr",
     "output_type": "stream",
     "text": [
      "WARNING: In /tmp/SimpleITK-build/ITK/Modules/IO/NIFTI/src/itkNiftiImageIO.cxx, line 2008\n",
      "NiftiImageIO (0x55c7d916dc30): ../dataset/dataset_extracted/train_split/patient063/patient063_frame16_gt.nii has unexpected scales in sform\n",
      "\n",
      "WARNING: In /tmp/SimpleITK-build/ITK/Modules/IO/NIFTI/src/itkNiftiImageIO.cxx, line 2008\n",
      "NiftiImageIO (0x55c7d916dc30): ../dataset/dataset_extracted/train_split/patient063/patient063_frame16_gt.nii has unexpected scales in sform\n",
      "\n",
      "WARNING: In /tmp/SimpleITK-build/ITK/Modules/IO/NIFTI/src/itkNiftiImageIO.cxx, line 2008\n",
      "NiftiImageIO (0x55c7d916dc30): ../dataset/dataset_extracted/train_split/patient066/patient066_frame01.nii has unexpected scales in sform\n",
      "\n",
      "WARNING: In /tmp/SimpleITK-build/ITK/Modules/IO/NIFTI/src/itkNiftiImageIO.cxx, line 2008\n",
      "NiftiImageIO (0x55c7d916dc30): ../dataset/dataset_extracted/train_split/patient066/patient066_frame01.nii has unexpected scales in sform\n",
      "\n",
      "WARNING: In /tmp/SimpleITK-build/ITK/Modules/IO/NIFTI/src/itkNiftiImageIO.cxx, line 2008\n",
      "NiftiImageIO (0x55c7d916dc30): ../dataset/dataset_extracted/train_split/patient066/patient066_frame01_gt.nii has unexpected scales in sform\n",
      "\n",
      "WARNING: In /tmp/SimpleITK-build/ITK/Modules/IO/NIFTI/src/itkNiftiImageIO.cxx, line 2008\n",
      "NiftiImageIO (0x55c7d916dc30): ../dataset/dataset_extracted/train_split/patient066/patient066_frame01_gt.nii has unexpected scales in sform\n",
      "\n",
      "WARNING: In /tmp/SimpleITK-build/ITK/Modules/IO/NIFTI/src/itkNiftiImageIO.cxx, line 2008\n",
      "NiftiImageIO (0x55c7d916dc30): ../dataset/dataset_extracted/train_split/patient066/patient066_frame11.nii has unexpected scales in sform\n",
      "\n",
      "WARNING: In /tmp/SimpleITK-build/ITK/Modules/IO/NIFTI/src/itkNiftiImageIO.cxx, line 2008\n",
      "NiftiImageIO (0x55c7d916dc30): ../dataset/dataset_extracted/train_split/patient066/patient066_frame11.nii has unexpected scales in sform\n",
      "\n",
      "WARNING: In /tmp/SimpleITK-build/ITK/Modules/IO/NIFTI/src/itkNiftiImageIO.cxx, line 2008\n",
      "NiftiImageIO (0x55c7d916dc30): ../dataset/dataset_extracted/train_split/patient066/patient066_frame11_gt.nii has unexpected scales in sform\n",
      "\n",
      "WARNING: In /tmp/SimpleITK-build/ITK/Modules/IO/NIFTI/src/itkNiftiImageIO.cxx, line 2008\n",
      "NiftiImageIO (0x55c7d916dc30): ../dataset/dataset_extracted/train_split/patient066/patient066_frame11_gt.nii has unexpected scales in sform\n",
      "\n"
     ]
    },
    {
     "name": "stdout",
     "output_type": "stream",
     "text": [
      "Resampling: ../dataset/dataset_extracted/train_split/patient066/patient066_frame11.nii\n",
      "Resampling: ../dataset/dataset_extracted/train_split/patient066/patient066_frame11_gt.nii\n"
     ]
    },
    {
     "name": "stderr",
     "output_type": "stream",
     "text": [
      "WARNING: In /tmp/SimpleITK-build/ITK/Modules/IO/NIFTI/src/itkNiftiImageIO.cxx, line 2008\n",
      "NiftiImageIO (0x55c7d916dc30): ../dataset/dataset_extracted/train_split/patient011/patient011_frame01.nii has unexpected scales in sform\n",
      "\n",
      "WARNING: In /tmp/SimpleITK-build/ITK/Modules/IO/NIFTI/src/itkNiftiImageIO.cxx, line 2008\n",
      "NiftiImageIO (0x55c7d916dc30): ../dataset/dataset_extracted/train_split/patient011/patient011_frame01.nii has unexpected scales in sform\n",
      "\n",
      "WARNING: In /tmp/SimpleITK-build/ITK/Modules/IO/NIFTI/src/itkNiftiImageIO.cxx, line 2008\n",
      "NiftiImageIO (0x55c7d916dc30): ../dataset/dataset_extracted/train_split/patient011/patient011_frame01_gt.nii has unexpected scales in sform\n",
      "\n",
      "WARNING: In /tmp/SimpleITK-build/ITK/Modules/IO/NIFTI/src/itkNiftiImageIO.cxx, line 2008\n",
      "NiftiImageIO (0x55c7d916dc30): ../dataset/dataset_extracted/train_split/patient011/patient011_frame01_gt.nii has unexpected scales in sform\n",
      "\n"
     ]
    },
    {
     "name": "stdout",
     "output_type": "stream",
     "text": [
      "Resampling: ../dataset/dataset_extracted/train_split/patient011/patient011_frame01.nii\n",
      "Resampling: ../dataset/dataset_extracted/train_split/patient011/patient011_frame01_gt.nii\n"
     ]
    },
    {
     "name": "stderr",
     "output_type": "stream",
     "text": [
      "WARNING: In /tmp/SimpleITK-build/ITK/Modules/IO/NIFTI/src/itkNiftiImageIO.cxx, line 2008\n",
      "NiftiImageIO (0x55c7d916dc30): ../dataset/dataset_extracted/train_split/patient011/patient011_frame08.nii has unexpected scales in sform\n",
      "\n",
      "WARNING: In /tmp/SimpleITK-build/ITK/Modules/IO/NIFTI/src/itkNiftiImageIO.cxx, line 2008\n",
      "NiftiImageIO (0x55c7d916dc30): ../dataset/dataset_extracted/train_split/patient011/patient011_frame08.nii has unexpected scales in sform\n",
      "\n",
      "WARNING: In /tmp/SimpleITK-build/ITK/Modules/IO/NIFTI/src/itkNiftiImageIO.cxx, line 2008\n",
      "NiftiImageIO (0x55c7d916dc30): ../dataset/dataset_extracted/train_split/patient011/patient011_frame08_gt.nii has unexpected scales in sform\n",
      "\n",
      "WARNING: In /tmp/SimpleITK-build/ITK/Modules/IO/NIFTI/src/itkNiftiImageIO.cxx, line 2008\n",
      "NiftiImageIO (0x55c7d916dc30): ../dataset/dataset_extracted/train_split/patient011/patient011_frame08_gt.nii has unexpected scales in sform\n",
      "\n"
     ]
    },
    {
     "name": "stdout",
     "output_type": "stream",
     "text": [
      "Resampling: ../dataset/dataset_extracted/train_split/patient011/patient011_frame08.nii\n",
      "Resampling: ../dataset/dataset_extracted/train_split/patient011/patient011_frame08_gt.nii\n"
     ]
    },
    {
     "name": "stderr",
     "output_type": "stream",
     "text": [
      "WARNING: In /tmp/SimpleITK-build/ITK/Modules/IO/NIFTI/src/itkNiftiImageIO.cxx, line 2008\n",
      "NiftiImageIO (0x55c7d916dc30): ../dataset/dataset_extracted/train_split/patient054/patient054_frame01.nii has unexpected scales in sform\n",
      "\n",
      "WARNING: In /tmp/SimpleITK-build/ITK/Modules/IO/NIFTI/src/itkNiftiImageIO.cxx, line 2008\n",
      "NiftiImageIO (0x55c7d916dc30): ../dataset/dataset_extracted/train_split/patient054/patient054_frame01.nii has unexpected scales in sform\n",
      "\n",
      "WARNING: In /tmp/SimpleITK-build/ITK/Modules/IO/NIFTI/src/itkNiftiImageIO.cxx, line 2008\n",
      "NiftiImageIO (0x55c7d916dc30): ../dataset/dataset_extracted/train_split/patient054/patient054_frame01_gt.nii has unexpected scales in sform\n",
      "\n",
      "WARNING: In /tmp/SimpleITK-build/ITK/Modules/IO/NIFTI/src/itkNiftiImageIO.cxx, line 2008\n",
      "NiftiImageIO (0x55c7d916dc30): ../dataset/dataset_extracted/train_split/patient054/patient054_frame01_gt.nii has unexpected scales in sform\n",
      "\n"
     ]
    },
    {
     "name": "stdout",
     "output_type": "stream",
     "text": [
      "Resampling: ../dataset/dataset_extracted/train_split/patient054/patient054_frame01.nii\n",
      "Resampling: ../dataset/dataset_extracted/train_split/patient054/patient054_frame01_gt.nii\n",
      "Resampling: ../dataset/dataset_extracted/train_split/patient054/patient054_frame12.nii\n"
     ]
    },
    {
     "name": "stderr",
     "output_type": "stream",
     "text": [
      "WARNING: In /tmp/SimpleITK-build/ITK/Modules/IO/NIFTI/src/itkNiftiImageIO.cxx, line 2008\n",
      "NiftiImageIO (0x55c7d916dc30): ../dataset/dataset_extracted/train_split/patient054/patient054_frame12.nii has unexpected scales in sform\n",
      "\n",
      "WARNING: In /tmp/SimpleITK-build/ITK/Modules/IO/NIFTI/src/itkNiftiImageIO.cxx, line 2008\n",
      "NiftiImageIO (0x55c7d916dc30): ../dataset/dataset_extracted/train_split/patient054/patient054_frame12.nii has unexpected scales in sform\n",
      "\n",
      "WARNING: In /tmp/SimpleITK-build/ITK/Modules/IO/NIFTI/src/itkNiftiImageIO.cxx, line 2008\n",
      "NiftiImageIO (0x55c7d916dc30): ../dataset/dataset_extracted/train_split/patient054/patient054_frame12_gt.nii has unexpected scales in sform\n",
      "\n",
      "WARNING: In /tmp/SimpleITK-build/ITK/Modules/IO/NIFTI/src/itkNiftiImageIO.cxx, line 2008\n",
      "NiftiImageIO (0x55c7d916dc30): ../dataset/dataset_extracted/train_split/patient054/patient054_frame12_gt.nii has unexpected scales in sform\n",
      "\n"
     ]
    },
    {
     "name": "stdout",
     "output_type": "stream",
     "text": [
      "Resampling: ../dataset/dataset_extracted/train_split/patient054/patient054_frame12_gt.nii\n",
      "Resampling: ../dataset/dataset_extracted/train_split/patient077/patient077_frame01.nii\n"
     ]
    },
    {
     "name": "stderr",
     "output_type": "stream",
     "text": [
      "WARNING: In /tmp/SimpleITK-build/ITK/Modules/IO/NIFTI/src/itkNiftiImageIO.cxx, line 2008\n",
      "NiftiImageIO (0x55c7d916dc30): ../dataset/dataset_extracted/train_split/patient077/patient077_frame01.nii has unexpected scales in sform\n",
      "\n",
      "WARNING: In /tmp/SimpleITK-build/ITK/Modules/IO/NIFTI/src/itkNiftiImageIO.cxx, line 2008\n",
      "NiftiImageIO (0x55c7d916dc30): ../dataset/dataset_extracted/train_split/patient077/patient077_frame01.nii has unexpected scales in sform\n",
      "\n",
      "WARNING: In /tmp/SimpleITK-build/ITK/Modules/IO/NIFTI/src/itkNiftiImageIO.cxx, line 2008\n",
      "NiftiImageIO (0x55c7d916dc30): ../dataset/dataset_extracted/train_split/patient077/patient077_frame01_gt.nii has unexpected scales in sform\n",
      "\n",
      "WARNING: In /tmp/SimpleITK-build/ITK/Modules/IO/NIFTI/src/itkNiftiImageIO.cxx, line 2008\n",
      "NiftiImageIO (0x55c7d916dc30): ../dataset/dataset_extracted/train_split/patient077/patient077_frame01_gt.nii has unexpected scales in sform\n",
      "\n",
      "WARNING: In /tmp/SimpleITK-build/ITK/Modules/IO/NIFTI/src/itkNiftiImageIO.cxx, line 2008\n",
      "NiftiImageIO (0x55c7d916dc30): ../dataset/dataset_extracted/train_split/patient077/patient077_frame09.nii has unexpected scales in sform\n",
      "\n"
     ]
    },
    {
     "name": "stdout",
     "output_type": "stream",
     "text": [
      "Resampling: ../dataset/dataset_extracted/train_split/patient077/patient077_frame01_gt.nii\n",
      "Resampling: ../dataset/dataset_extracted/train_split/patient077/patient077_frame09.nii\n",
      "Resampling: ../dataset/dataset_extracted/train_split/patient077/patient077_frame09_gt.nii\n"
     ]
    },
    {
     "name": "stderr",
     "output_type": "stream",
     "text": [
      "WARNING: In /tmp/SimpleITK-build/ITK/Modules/IO/NIFTI/src/itkNiftiImageIO.cxx, line 2008\n",
      "NiftiImageIO (0x55c7d916dc30): ../dataset/dataset_extracted/train_split/patient077/patient077_frame09.nii has unexpected scales in sform\n",
      "\n",
      "WARNING: In /tmp/SimpleITK-build/ITK/Modules/IO/NIFTI/src/itkNiftiImageIO.cxx, line 2008\n",
      "NiftiImageIO (0x55c7d916dc30): ../dataset/dataset_extracted/train_split/patient077/patient077_frame09_gt.nii has unexpected scales in sform\n",
      "\n",
      "WARNING: In /tmp/SimpleITK-build/ITK/Modules/IO/NIFTI/src/itkNiftiImageIO.cxx, line 2008\n",
      "NiftiImageIO (0x55c7d916dc30): ../dataset/dataset_extracted/train_split/patient077/patient077_frame09_gt.nii has unexpected scales in sform\n",
      "\n",
      "WARNING: In /tmp/SimpleITK-build/ITK/Modules/IO/NIFTI/src/itkNiftiImageIO.cxx, line 2008\n",
      "NiftiImageIO (0x55c7d916dc30): ../dataset/dataset_extracted/train_split/patient053/patient053_frame01.nii has unexpected scales in sform\n",
      "\n",
      "WARNING: In /tmp/SimpleITK-build/ITK/Modules/IO/NIFTI/src/itkNiftiImageIO.cxx, line 2008\n",
      "NiftiImageIO (0x55c7d916dc30): ../dataset/dataset_extracted/train_split/patient053/patient053_frame01.nii has unexpected scales in sform\n",
      "\n"
     ]
    },
    {
     "name": "stdout",
     "output_type": "stream",
     "text": [
      "Resampling: ../dataset/dataset_extracted/train_split/patient053/patient053_frame01.nii\n",
      "Resampling: ../dataset/dataset_extracted/train_split/patient053/patient053_frame01_gt.nii\n",
      "Resampling: ../dataset/dataset_extracted/train_split/patient053/patient053_frame12.nii\n",
      "Resampling: ../dataset/dataset_extracted/train_split/patient053/patient053_frame12_gt.nii\n"
     ]
    },
    {
     "name": "stderr",
     "output_type": "stream",
     "text": [
      "WARNING: In /tmp/SimpleITK-build/ITK/Modules/IO/NIFTI/src/itkNiftiImageIO.cxx, line 2008\n",
      "NiftiImageIO (0x55c7d916dc30): ../dataset/dataset_extracted/train_split/patient053/patient053_frame01_gt.nii has unexpected scales in sform\n",
      "\n",
      "WARNING: In /tmp/SimpleITK-build/ITK/Modules/IO/NIFTI/src/itkNiftiImageIO.cxx, line 2008\n",
      "NiftiImageIO (0x55c7d916dc30): ../dataset/dataset_extracted/train_split/patient053/patient053_frame01_gt.nii has unexpected scales in sform\n",
      "\n",
      "WARNING: In /tmp/SimpleITK-build/ITK/Modules/IO/NIFTI/src/itkNiftiImageIO.cxx, line 2008\n",
      "NiftiImageIO (0x55c7d916dc30): ../dataset/dataset_extracted/train_split/patient053/patient053_frame12.nii has unexpected scales in sform\n",
      "\n",
      "WARNING: In /tmp/SimpleITK-build/ITK/Modules/IO/NIFTI/src/itkNiftiImageIO.cxx, line 2008\n",
      "NiftiImageIO (0x55c7d916dc30): ../dataset/dataset_extracted/train_split/patient053/patient053_frame12.nii has unexpected scales in sform\n",
      "\n",
      "WARNING: In /tmp/SimpleITK-build/ITK/Modules/IO/NIFTI/src/itkNiftiImageIO.cxx, line 2008\n",
      "NiftiImageIO (0x55c7d916dc30): ../dataset/dataset_extracted/train_split/patient053/patient053_frame12_gt.nii has unexpected scales in sform\n",
      "\n",
      "WARNING: In /tmp/SimpleITK-build/ITK/Modules/IO/NIFTI/src/itkNiftiImageIO.cxx, line 2008\n",
      "NiftiImageIO (0x55c7d916dc30): ../dataset/dataset_extracted/train_split/patient053/patient053_frame12_gt.nii has unexpected scales in sform\n",
      "\n",
      "WARNING: In /tmp/SimpleITK-build/ITK/Modules/IO/NIFTI/src/itkNiftiImageIO.cxx, line 2008\n",
      "NiftiImageIO (0x55c7d916dc30): ../dataset/dataset_extracted/train_split/patient093/patient093_frame01.nii has unexpected scales in sform\n",
      "\n",
      "WARNING: In /tmp/SimpleITK-build/ITK/Modules/IO/NIFTI/src/itkNiftiImageIO.cxx, line 2008\n",
      "NiftiImageIO (0x55c7d916dc30): ../dataset/dataset_extracted/train_split/patient093/patient093_frame01.nii has unexpected scales in sform\n",
      "\n",
      "WARNING: In /tmp/SimpleITK-build/ITK/Modules/IO/NIFTI/src/itkNiftiImageIO.cxx, line 2008\n",
      "NiftiImageIO (0x55c7d916dc30): ../dataset/dataset_extracted/train_split/patient093/patient093_frame01_gt.nii has unexpected scales in sform\n",
      "\n",
      "WARNING: In /tmp/SimpleITK-build/ITK/Modules/IO/NIFTI/src/itkNiftiImageIO.cxx, line 2008\n",
      "NiftiImageIO (0x55c7d916dc30): ../dataset/dataset_extracted/train_split/patient093/patient093_frame01_gt.nii has unexpected scales in sform\n",
      "\n",
      "WARNING: In /tmp/SimpleITK-build/ITK/Modules/IO/NIFTI/src/itkNiftiImageIO.cxx, line 2008\n",
      "NiftiImageIO (0x55c7d916dc30): ../dataset/dataset_extracted/train_split/patient093/patient093_frame14.nii has unexpected scales in sform\n",
      "\n",
      "WARNING: In /tmp/SimpleITK-build/ITK/Modules/IO/NIFTI/src/itkNiftiImageIO.cxx, line 2008\n",
      "NiftiImageIO (0x55c7d916dc30): ../dataset/dataset_extracted/train_split/patient093/patient093_frame14.nii has unexpected scales in sform\n",
      "\n"
     ]
    },
    {
     "name": "stdout",
     "output_type": "stream",
     "text": [
      "Resampling: ../dataset/dataset_extracted/train_split/patient093/patient093_frame01.nii\n",
      "Resampling: ../dataset/dataset_extracted/train_split/patient093/patient093_frame01_gt.nii\n",
      "Resampling: ../dataset/dataset_extracted/train_split/patient093/patient093_frame14.nii\n"
     ]
    },
    {
     "name": "stderr",
     "output_type": "stream",
     "text": [
      "WARNING: In /tmp/SimpleITK-build/ITK/Modules/IO/NIFTI/src/itkNiftiImageIO.cxx, line 2008\n",
      "NiftiImageIO (0x55c7d916dc30): ../dataset/dataset_extracted/train_split/patient093/patient093_frame14_gt.nii has unexpected scales in sform\n",
      "\n",
      "WARNING: In /tmp/SimpleITK-build/ITK/Modules/IO/NIFTI/src/itkNiftiImageIO.cxx, line 2008\n",
      "NiftiImageIO (0x55c7d916dc30): ../dataset/dataset_extracted/train_split/patient093/patient093_frame14_gt.nii has unexpected scales in sform\n",
      "\n",
      "WARNING: In /tmp/SimpleITK-build/ITK/Modules/IO/NIFTI/src/itkNiftiImageIO.cxx, line 2008\n",
      "NiftiImageIO (0x55c7d916dc30): ../dataset/dataset_extracted/train_split/patient051/patient051_frame01.nii has unexpected scales in sform\n",
      "\n",
      "WARNING: In /tmp/SimpleITK-build/ITK/Modules/IO/NIFTI/src/itkNiftiImageIO.cxx, line 2008\n",
      "NiftiImageIO (0x55c7d916dc30): ../dataset/dataset_extracted/train_split/patient051/patient051_frame01.nii has unexpected scales in sform\n",
      "\n"
     ]
    },
    {
     "name": "stdout",
     "output_type": "stream",
     "text": [
      "Resampling: ../dataset/dataset_extracted/train_split/patient093/patient093_frame14_gt.nii\n",
      "Resampling: ../dataset/dataset_extracted/train_split/patient051/patient051_frame01.nii\n"
     ]
    },
    {
     "name": "stderr",
     "output_type": "stream",
     "text": [
      "WARNING: In /tmp/SimpleITK-build/ITK/Modules/IO/NIFTI/src/itkNiftiImageIO.cxx, line 2008\n",
      "NiftiImageIO (0x55c7d916dc30): ../dataset/dataset_extracted/train_split/patient051/patient051_frame01_gt.nii has unexpected scales in sform\n",
      "\n",
      "WARNING: In /tmp/SimpleITK-build/ITK/Modules/IO/NIFTI/src/itkNiftiImageIO.cxx, line 2008\n",
      "NiftiImageIO (0x55c7d916dc30): ../dataset/dataset_extracted/train_split/patient051/patient051_frame01_gt.nii has unexpected scales in sform\n",
      "\n",
      "WARNING: In /tmp/SimpleITK-build/ITK/Modules/IO/NIFTI/src/itkNiftiImageIO.cxx, line 2008\n",
      "NiftiImageIO (0x55c7d916dc30): ../dataset/dataset_extracted/train_split/patient051/patient051_frame11.nii has unexpected scales in sform\n",
      "\n",
      "WARNING: In /tmp/SimpleITK-build/ITK/Modules/IO/NIFTI/src/itkNiftiImageIO.cxx, line 2008\n",
      "NiftiImageIO (0x55c7d916dc30): ../dataset/dataset_extracted/train_split/patient051/patient051_frame11.nii has unexpected scales in sform\n",
      "\n"
     ]
    },
    {
     "name": "stdout",
     "output_type": "stream",
     "text": [
      "Resampling: ../dataset/dataset_extracted/train_split/patient051/patient051_frame01_gt.nii\n",
      "Resampling: ../dataset/dataset_extracted/train_split/patient051/patient051_frame11.nii\n",
      "Resampling: ../dataset/dataset_extracted/train_split/patient051/patient051_frame11_gt.nii\n"
     ]
    },
    {
     "name": "stderr",
     "output_type": "stream",
     "text": [
      "WARNING: In /tmp/SimpleITK-build/ITK/Modules/IO/NIFTI/src/itkNiftiImageIO.cxx, line 2008\n",
      "NiftiImageIO (0x55c7d916dc30): ../dataset/dataset_extracted/train_split/patient051/patient051_frame11_gt.nii has unexpected scales in sform\n",
      "\n",
      "WARNING: In /tmp/SimpleITK-build/ITK/Modules/IO/NIFTI/src/itkNiftiImageIO.cxx, line 2008\n",
      "NiftiImageIO (0x55c7d916dc30): ../dataset/dataset_extracted/train_split/patient051/patient051_frame11_gt.nii has unexpected scales in sform\n",
      "\n",
      "WARNING: In /tmp/SimpleITK-build/ITK/Modules/IO/NIFTI/src/itkNiftiImageIO.cxx, line 2008\n",
      "NiftiImageIO (0x55c7d916dc30): ../dataset/dataset_extracted/train_split/patient043/patient043_frame01.nii has unexpected scales in sform\n",
      "\n",
      "WARNING: In /tmp/SimpleITK-build/ITK/Modules/IO/NIFTI/src/itkNiftiImageIO.cxx, line 2008\n",
      "NiftiImageIO (0x55c7d916dc30): ../dataset/dataset_extracted/train_split/patient043/patient043_frame01.nii has unexpected scales in sform\n",
      "\n"
     ]
    },
    {
     "name": "stdout",
     "output_type": "stream",
     "text": [
      "Resampling: ../dataset/dataset_extracted/train_split/patient043/patient043_frame01.nii\n",
      "Resampling: ../dataset/dataset_extracted/train_split/patient043/patient043_frame01_gt.nii\n"
     ]
    },
    {
     "name": "stderr",
     "output_type": "stream",
     "text": [
      "WARNING: In /tmp/SimpleITK-build/ITK/Modules/IO/NIFTI/src/itkNiftiImageIO.cxx, line 2008\n",
      "NiftiImageIO (0x55c7d916dc30): ../dataset/dataset_extracted/train_split/patient043/patient043_frame01_gt.nii has unexpected scales in sform\n",
      "\n",
      "WARNING: In /tmp/SimpleITK-build/ITK/Modules/IO/NIFTI/src/itkNiftiImageIO.cxx, line 2008\n",
      "NiftiImageIO (0x55c7d916dc30): ../dataset/dataset_extracted/train_split/patient043/patient043_frame01_gt.nii has unexpected scales in sform\n",
      "\n",
      "WARNING: In /tmp/SimpleITK-build/ITK/Modules/IO/NIFTI/src/itkNiftiImageIO.cxx, line 2008\n",
      "NiftiImageIO (0x55c7d916dc30): ../dataset/dataset_extracted/train_split/patient043/patient043_frame07.nii has unexpected scales in sform\n",
      "\n",
      "WARNING: In /tmp/SimpleITK-build/ITK/Modules/IO/NIFTI/src/itkNiftiImageIO.cxx, line 2008\n",
      "NiftiImageIO (0x55c7d916dc30): ../dataset/dataset_extracted/train_split/patient043/patient043_frame07.nii has unexpected scales in sform\n",
      "\n"
     ]
    },
    {
     "name": "stdout",
     "output_type": "stream",
     "text": [
      "Resampling: ../dataset/dataset_extracted/train_split/patient043/patient043_frame07.nii\n",
      "Resampling: ../dataset/dataset_extracted/train_split/patient043/patient043_frame07_gt.nii\n"
     ]
    },
    {
     "name": "stderr",
     "output_type": "stream",
     "text": [
      "WARNING: In /tmp/SimpleITK-build/ITK/Modules/IO/NIFTI/src/itkNiftiImageIO.cxx, line 2008\n",
      "NiftiImageIO (0x55c7d916dc30): ../dataset/dataset_extracted/train_split/patient043/patient043_frame07_gt.nii has unexpected scales in sform\n",
      "\n",
      "WARNING: In /tmp/SimpleITK-build/ITK/Modules/IO/NIFTI/src/itkNiftiImageIO.cxx, line 2008\n",
      "NiftiImageIO (0x55c7d916dc30): ../dataset/dataset_extracted/train_split/patient043/patient043_frame07_gt.nii has unexpected scales in sform\n",
      "\n",
      "WARNING: In /tmp/SimpleITK-build/ITK/Modules/IO/NIFTI/src/itkNiftiImageIO.cxx, line 2008\n",
      "NiftiImageIO (0x55c7d916dc30): ../dataset/dataset_extracted/train_split/patient068/patient068_frame01.nii has unexpected scales in sform\n",
      "\n",
      "WARNING: In /tmp/SimpleITK-build/ITK/Modules/IO/NIFTI/src/itkNiftiImageIO.cxx, line 2008\n",
      "NiftiImageIO (0x55c7d916dc30): ../dataset/dataset_extracted/train_split/patient068/patient068_frame01.nii has unexpected scales in sform\n",
      "\n"
     ]
    },
    {
     "name": "stdout",
     "output_type": "stream",
     "text": [
      "Resampling: ../dataset/dataset_extracted/train_split/patient068/patient068_frame01.nii\n",
      "Resampling: ../dataset/dataset_extracted/train_split/patient068/patient068_frame01_gt.nii\n",
      "Resampling: ../dataset/dataset_extracted/train_split/patient068/patient068_frame12.nii\n"
     ]
    },
    {
     "name": "stderr",
     "output_type": "stream",
     "text": [
      "WARNING: In /tmp/SimpleITK-build/ITK/Modules/IO/NIFTI/src/itkNiftiImageIO.cxx, line 2008\n",
      "NiftiImageIO (0x55c7d916dc30): ../dataset/dataset_extracted/train_split/patient068/patient068_frame01_gt.nii has unexpected scales in sform\n",
      "\n",
      "WARNING: In /tmp/SimpleITK-build/ITK/Modules/IO/NIFTI/src/itkNiftiImageIO.cxx, line 2008\n",
      "NiftiImageIO (0x55c7d916dc30): ../dataset/dataset_extracted/train_split/patient068/patient068_frame01_gt.nii has unexpected scales in sform\n",
      "\n",
      "WARNING: In /tmp/SimpleITK-build/ITK/Modules/IO/NIFTI/src/itkNiftiImageIO.cxx, line 2008\n",
      "NiftiImageIO (0x55c7d916dc30): ../dataset/dataset_extracted/train_split/patient068/patient068_frame12.nii has unexpected scales in sform\n",
      "\n",
      "WARNING: In /tmp/SimpleITK-build/ITK/Modules/IO/NIFTI/src/itkNiftiImageIO.cxx, line 2008\n",
      "NiftiImageIO (0x55c7d916dc30): ../dataset/dataset_extracted/train_split/patient068/patient068_frame12.nii has unexpected scales in sform\n",
      "\n",
      "WARNING: In /tmp/SimpleITK-build/ITK/Modules/IO/NIFTI/src/itkNiftiImageIO.cxx, line 2008\n",
      "NiftiImageIO (0x55c7d916dc30): ../dataset/dataset_extracted/train_split/patient068/patient068_frame12_gt.nii has unexpected scales in sform\n",
      "\n",
      "WARNING: In /tmp/SimpleITK-build/ITK/Modules/IO/NIFTI/src/itkNiftiImageIO.cxx, line 2008\n",
      "NiftiImageIO (0x55c7d916dc30): ../dataset/dataset_extracted/train_split/patient068/patient068_frame12_gt.nii has unexpected scales in sform\n",
      "\n"
     ]
    },
    {
     "name": "stdout",
     "output_type": "stream",
     "text": [
      "Resampling: ../dataset/dataset_extracted/train_split/patient068/patient068_frame12_gt.nii\n",
      "Resampling: ../dataset/dataset_extracted/train_split/patient031/patient031_frame01.nii\n"
     ]
    },
    {
     "name": "stderr",
     "output_type": "stream",
     "text": [
      "WARNING: In /tmp/SimpleITK-build/ITK/Modules/IO/NIFTI/src/itkNiftiImageIO.cxx, line 2008\n",
      "NiftiImageIO (0x55c7d916dc30): ../dataset/dataset_extracted/train_split/patient031/patient031_frame01.nii has unexpected scales in sform\n",
      "\n",
      "WARNING: In /tmp/SimpleITK-build/ITK/Modules/IO/NIFTI/src/itkNiftiImageIO.cxx, line 2008\n",
      "NiftiImageIO (0x55c7d916dc30): ../dataset/dataset_extracted/train_split/patient031/patient031_frame01.nii has unexpected scales in sform\n",
      "\n",
      "WARNING: In /tmp/SimpleITK-build/ITK/Modules/IO/NIFTI/src/itkNiftiImageIO.cxx, line 2008\n",
      "NiftiImageIO (0x55c7d916dc30): ../dataset/dataset_extracted/train_split/patient031/patient031_frame01_gt.nii has unexpected scales in sform\n",
      "\n",
      "WARNING: In /tmp/SimpleITK-build/ITK/Modules/IO/NIFTI/src/itkNiftiImageIO.cxx, line 2008\n",
      "NiftiImageIO (0x55c7d916dc30): ../dataset/dataset_extracted/train_split/patient031/patient031_frame01_gt.nii has unexpected scales in sform\n",
      "\n",
      "WARNING: In /tmp/SimpleITK-build/ITK/Modules/IO/NIFTI/src/itkNiftiImageIO.cxx, line 2008\n",
      "NiftiImageIO (0x55c7d916dc30): ../dataset/dataset_extracted/train_split/patient031/patient031_frame10.nii has unexpected scales in sform\n",
      "\n",
      "WARNING: In /tmp/SimpleITK-build/ITK/Modules/IO/NIFTI/src/itkNiftiImageIO.cxx, line 2008\n",
      "NiftiImageIO (0x55c7d916dc30): ../dataset/dataset_extracted/train_split/patient031/patient031_frame10.nii has unexpected scales in sform\n",
      "\n"
     ]
    },
    {
     "name": "stdout",
     "output_type": "stream",
     "text": [
      "Resampling: ../dataset/dataset_extracted/train_split/patient031/patient031_frame01_gt.nii\n",
      "Resampling: ../dataset/dataset_extracted/train_split/patient031/patient031_frame10.nii\n",
      "Resampling: ../dataset/dataset_extracted/train_split/patient031/patient031_frame10_gt.nii\n"
     ]
    },
    {
     "name": "stderr",
     "output_type": "stream",
     "text": [
      "WARNING: In /tmp/SimpleITK-build/ITK/Modules/IO/NIFTI/src/itkNiftiImageIO.cxx, line 2008\n",
      "NiftiImageIO (0x55c7d916dc30): ../dataset/dataset_extracted/train_split/patient031/patient031_frame10_gt.nii has unexpected scales in sform\n",
      "\n",
      "WARNING: In /tmp/SimpleITK-build/ITK/Modules/IO/NIFTI/src/itkNiftiImageIO.cxx, line 2008\n",
      "NiftiImageIO (0x55c7d916dc30): ../dataset/dataset_extracted/train_split/patient031/patient031_frame10_gt.nii has unexpected scales in sform\n",
      "\n",
      "WARNING: In /tmp/SimpleITK-build/ITK/Modules/IO/NIFTI/src/itkNiftiImageIO.cxx, line 2008\n",
      "NiftiImageIO (0x55c7d916dc30): ../dataset/dataset_extracted/train_split/patient058/patient058_frame01.nii has unexpected scales in sform\n",
      "\n",
      "WARNING: In /tmp/SimpleITK-build/ITK/Modules/IO/NIFTI/src/itkNiftiImageIO.cxx, line 2008\n",
      "NiftiImageIO (0x55c7d916dc30): ../dataset/dataset_extracted/train_split/patient058/patient058_frame01.nii has unexpected scales in sform\n",
      "\n"
     ]
    },
    {
     "name": "stdout",
     "output_type": "stream",
     "text": [
      "Resampling: ../dataset/dataset_extracted/train_split/patient058/patient058_frame01.nii\n",
      "Resampling: ../dataset/dataset_extracted/train_split/patient058/patient058_frame01_gt.nii\n"
     ]
    },
    {
     "name": "stderr",
     "output_type": "stream",
     "text": [
      "WARNING: In /tmp/SimpleITK-build/ITK/Modules/IO/NIFTI/src/itkNiftiImageIO.cxx, line 2008\n",
      "NiftiImageIO (0x55c7d916dc30): ../dataset/dataset_extracted/train_split/patient058/patient058_frame01_gt.nii has unexpected scales in sform\n",
      "\n",
      "WARNING: In /tmp/SimpleITK-build/ITK/Modules/IO/NIFTI/src/itkNiftiImageIO.cxx, line 2008\n",
      "NiftiImageIO (0x55c7d916dc30): ../dataset/dataset_extracted/train_split/patient058/patient058_frame01_gt.nii has unexpected scales in sform\n",
      "\n",
      "WARNING: In /tmp/SimpleITK-build/ITK/Modules/IO/NIFTI/src/itkNiftiImageIO.cxx, line 2008\n",
      "NiftiImageIO (0x55c7d916dc30): ../dataset/dataset_extracted/train_split/patient058/patient058_frame14.nii has unexpected scales in sform\n",
      "\n",
      "WARNING: In /tmp/SimpleITK-build/ITK/Modules/IO/NIFTI/src/itkNiftiImageIO.cxx, line 2008\n",
      "NiftiImageIO (0x55c7d916dc30): ../dataset/dataset_extracted/train_split/patient058/patient058_frame14.nii has unexpected scales in sform\n",
      "\n"
     ]
    },
    {
     "name": "stdout",
     "output_type": "stream",
     "text": [
      "Resampling: ../dataset/dataset_extracted/train_split/patient058/patient058_frame14.nii\n",
      "Resampling: ../dataset/dataset_extracted/train_split/patient058/patient058_frame14_gt.nii\n"
     ]
    },
    {
     "name": "stderr",
     "output_type": "stream",
     "text": [
      "WARNING: In /tmp/SimpleITK-build/ITK/Modules/IO/NIFTI/src/itkNiftiImageIO.cxx, line 2008\n",
      "NiftiImageIO (0x55c7d916dc30): ../dataset/dataset_extracted/train_split/patient058/patient058_frame14_gt.nii has unexpected scales in sform\n",
      "\n",
      "WARNING: In /tmp/SimpleITK-build/ITK/Modules/IO/NIFTI/src/itkNiftiImageIO.cxx, line 2008\n",
      "NiftiImageIO (0x55c7d916dc30): ../dataset/dataset_extracted/train_split/patient058/patient058_frame14_gt.nii has unexpected scales in sform\n",
      "\n",
      "WARNING: In /tmp/SimpleITK-build/ITK/Modules/IO/NIFTI/src/itkNiftiImageIO.cxx, line 2008\n",
      "NiftiImageIO (0x55c7d916dc30): ../dataset/dataset_extracted/train_split/patient075/patient075_frame01.nii has unexpected scales in sform\n",
      "\n",
      "WARNING: In /tmp/SimpleITK-build/ITK/Modules/IO/NIFTI/src/itkNiftiImageIO.cxx, line 2008\n",
      "NiftiImageIO (0x55c7d916dc30): ../dataset/dataset_extracted/train_split/patient075/patient075_frame01.nii has unexpected scales in sform\n",
      "\n"
     ]
    },
    {
     "name": "stdout",
     "output_type": "stream",
     "text": [
      "Resampling: ../dataset/dataset_extracted/train_split/patient075/patient075_frame01.nii\n",
      "Resampling: ../dataset/dataset_extracted/train_split/patient075/patient075_frame01_gt.nii\n"
     ]
    },
    {
     "name": "stderr",
     "output_type": "stream",
     "text": [
      "WARNING: In /tmp/SimpleITK-build/ITK/Modules/IO/NIFTI/src/itkNiftiImageIO.cxx, line 2008\n",
      "NiftiImageIO (0x55c7d916dc30): ../dataset/dataset_extracted/train_split/patient075/patient075_frame01_gt.nii has unexpected scales in sform\n",
      "\n",
      "WARNING: In /tmp/SimpleITK-build/ITK/Modules/IO/NIFTI/src/itkNiftiImageIO.cxx, line 2008\n",
      "NiftiImageIO (0x55c7d916dc30): ../dataset/dataset_extracted/train_split/patient075/patient075_frame01_gt.nii has unexpected scales in sform\n",
      "\n",
      "WARNING: In /tmp/SimpleITK-build/ITK/Modules/IO/NIFTI/src/itkNiftiImageIO.cxx, line 2008\n",
      "NiftiImageIO (0x55c7d916dc30): ../dataset/dataset_extracted/train_split/patient075/patient075_frame06.nii has unexpected scales in sform\n",
      "\n",
      "WARNING: In /tmp/SimpleITK-build/ITK/Modules/IO/NIFTI/src/itkNiftiImageIO.cxx, line 2008\n",
      "NiftiImageIO (0x55c7d916dc30): ../dataset/dataset_extracted/train_split/patient075/patient075_frame06.nii has unexpected scales in sform\n",
      "\n",
      "WARNING: In /tmp/SimpleITK-build/ITK/Modules/IO/NIFTI/src/itkNiftiImageIO.cxx, line 2008\n",
      "NiftiImageIO (0x55c7d916dc30): ../dataset/dataset_extracted/train_split/patient075/patient075_frame06_gt.nii has unexpected scales in sform\n",
      "\n",
      "WARNING: In /tmp/SimpleITK-build/ITK/Modules/IO/NIFTI/src/itkNiftiImageIO.cxx, line 2008\n",
      "NiftiImageIO (0x55c7d916dc30): ../dataset/dataset_extracted/train_split/patient075/patient075_frame06_gt.nii has unexpected scales in sform\n",
      "\n"
     ]
    },
    {
     "name": "stdout",
     "output_type": "stream",
     "text": [
      "Resampling: ../dataset/dataset_extracted/train_split/patient075/patient075_frame06.nii\n",
      "Resampling: ../dataset/dataset_extracted/train_split/patient075/patient075_frame06_gt.nii\n"
     ]
    },
    {
     "name": "stderr",
     "output_type": "stream",
     "text": [
      "WARNING: In /tmp/SimpleITK-build/ITK/Modules/IO/NIFTI/src/itkNiftiImageIO.cxx, line 2008\n",
      "NiftiImageIO (0x55c7d916dc30): ../dataset/dataset_extracted/train_split/patient047/patient047_frame01.nii has unexpected scales in sform\n",
      "\n",
      "WARNING: In /tmp/SimpleITK-build/ITK/Modules/IO/NIFTI/src/itkNiftiImageIO.cxx, line 2008\n",
      "NiftiImageIO (0x55c7d916dc30): ../dataset/dataset_extracted/train_split/patient047/patient047_frame01.nii has unexpected scales in sform\n",
      "\n",
      "WARNING: In /tmp/SimpleITK-build/ITK/Modules/IO/NIFTI/src/itkNiftiImageIO.cxx, line 2008\n",
      "NiftiImageIO (0x55c7d916dc30): ../dataset/dataset_extracted/train_split/patient047/patient047_frame01_gt.nii has unexpected scales in sform\n",
      "\n",
      "WARNING: In /tmp/SimpleITK-build/ITK/Modules/IO/NIFTI/src/itkNiftiImageIO.cxx, line 2008\n",
      "NiftiImageIO (0x55c7d916dc30): ../dataset/dataset_extracted/train_split/patient047/patient047_frame01_gt.nii has unexpected scales in sform\n",
      "\n"
     ]
    },
    {
     "name": "stdout",
     "output_type": "stream",
     "text": [
      "Resampling: ../dataset/dataset_extracted/train_split/patient047/patient047_frame01.nii\n",
      "Resampling: ../dataset/dataset_extracted/train_split/patient047/patient047_frame01_gt.nii\n"
     ]
    },
    {
     "name": "stderr",
     "output_type": "stream",
     "text": [
      "WARNING: In /tmp/SimpleITK-build/ITK/Modules/IO/NIFTI/src/itkNiftiImageIO.cxx, line 2008\n",
      "NiftiImageIO (0x55c7d916dc30): ../dataset/dataset_extracted/train_split/patient047/patient047_frame09.nii has unexpected scales in sform\n",
      "\n",
      "WARNING: In /tmp/SimpleITK-build/ITK/Modules/IO/NIFTI/src/itkNiftiImageIO.cxx, line 2008\n",
      "NiftiImageIO (0x55c7d916dc30): ../dataset/dataset_extracted/train_split/patient047/patient047_frame09.nii has unexpected scales in sform\n",
      "\n",
      "WARNING: In /tmp/SimpleITK-build/ITK/Modules/IO/NIFTI/src/itkNiftiImageIO.cxx, line 2008\n",
      "NiftiImageIO (0x55c7d916dc30): ../dataset/dataset_extracted/train_split/patient047/patient047_frame09_gt.nii has unexpected scales in sform\n",
      "\n",
      "WARNING: In /tmp/SimpleITK-build/ITK/Modules/IO/NIFTI/src/itkNiftiImageIO.cxx, line 2008\n",
      "NiftiImageIO (0x55c7d916dc30): ../dataset/dataset_extracted/train_split/patient047/patient047_frame09_gt.nii has unexpected scales in sform\n",
      "\n"
     ]
    },
    {
     "name": "stdout",
     "output_type": "stream",
     "text": [
      "Resampling: ../dataset/dataset_extracted/train_split/patient047/patient047_frame09.nii\n",
      "Resampling: ../dataset/dataset_extracted/train_split/patient047/patient047_frame09_gt.nii\n"
     ]
    },
    {
     "name": "stderr",
     "output_type": "stream",
     "text": [
      "WARNING: In /tmp/SimpleITK-build/ITK/Modules/IO/NIFTI/src/itkNiftiImageIO.cxx, line 2008\n",
      "NiftiImageIO (0x55c7d916dc30): ../dataset/dataset_extracted/train_split/patient033/patient033_frame01.nii has unexpected scales in sform\n",
      "\n",
      "WARNING: In /tmp/SimpleITK-build/ITK/Modules/IO/NIFTI/src/itkNiftiImageIO.cxx, line 2008\n",
      "NiftiImageIO (0x55c7d916dc30): ../dataset/dataset_extracted/train_split/patient033/patient033_frame01.nii has unexpected scales in sform\n",
      "\n",
      "WARNING: In /tmp/SimpleITK-build/ITK/Modules/IO/NIFTI/src/itkNiftiImageIO.cxx, line 2008\n",
      "NiftiImageIO (0x55c7d916dc30): ../dataset/dataset_extracted/train_split/patient033/patient033_frame01_gt.nii has unexpected scales in sform\n",
      "\n",
      "WARNING: In /tmp/SimpleITK-build/ITK/Modules/IO/NIFTI/src/itkNiftiImageIO.cxx, line 2008\n",
      "NiftiImageIO (0x55c7d916dc30): ../dataset/dataset_extracted/train_split/patient033/patient033_frame01_gt.nii has unexpected scales in sform\n",
      "\n"
     ]
    },
    {
     "name": "stdout",
     "output_type": "stream",
     "text": [
      "Resampling: ../dataset/dataset_extracted/train_split/patient033/patient033_frame01.nii\n",
      "Resampling: ../dataset/dataset_extracted/train_split/patient033/patient033_frame01_gt.nii\n"
     ]
    },
    {
     "name": "stderr",
     "output_type": "stream",
     "text": [
      "WARNING: In /tmp/SimpleITK-build/ITK/Modules/IO/NIFTI/src/itkNiftiImageIO.cxx, line 2008\n",
      "NiftiImageIO (0x55c7d916dc30): ../dataset/dataset_extracted/train_split/patient033/patient033_frame14.nii has unexpected scales in sform\n",
      "\n",
      "WARNING: In /tmp/SimpleITK-build/ITK/Modules/IO/NIFTI/src/itkNiftiImageIO.cxx, line 2008\n",
      "NiftiImageIO (0x55c7d916dc30): ../dataset/dataset_extracted/train_split/patient033/patient033_frame14.nii has unexpected scales in sform\n",
      "\n",
      "WARNING: In /tmp/SimpleITK-build/ITK/Modules/IO/NIFTI/src/itkNiftiImageIO.cxx, line 2008\n",
      "NiftiImageIO (0x55c7d916dc30): ../dataset/dataset_extracted/train_split/patient033/patient033_frame14_gt.nii has unexpected scales in sform\n",
      "\n",
      "WARNING: In /tmp/SimpleITK-build/ITK/Modules/IO/NIFTI/src/itkNiftiImageIO.cxx, line 2008\n",
      "NiftiImageIO (0x55c7d916dc30): ../dataset/dataset_extracted/train_split/patient033/patient033_frame14_gt.nii has unexpected scales in sform\n",
      "\n",
      "WARNING: In /tmp/SimpleITK-build/ITK/Modules/IO/NIFTI/src/itkNiftiImageIO.cxx, line 2008\n",
      "NiftiImageIO (0x55c7d916dc30): ../dataset/dataset_extracted/train_split/patient100/patient100_frame01.nii has unexpected scales in sform\n",
      "\n",
      "WARNING: In /tmp/SimpleITK-build/ITK/Modules/IO/NIFTI/src/itkNiftiImageIO.cxx, line 2008\n",
      "NiftiImageIO (0x55c7d916dc30): ../dataset/dataset_extracted/train_split/patient100/patient100_frame01.nii has unexpected scales in sform\n",
      "\n"
     ]
    },
    {
     "name": "stdout",
     "output_type": "stream",
     "text": [
      "Resampling: ../dataset/dataset_extracted/train_split/patient033/patient033_frame14.nii\n",
      "Resampling: ../dataset/dataset_extracted/train_split/patient033/patient033_frame14_gt.nii\n",
      "Resampling: ../dataset/dataset_extracted/train_split/patient100/patient100_frame01.nii\n",
      "Resampling: ../dataset/dataset_extracted/train_split/patient100/patient100_frame01_gt.nii\n"
     ]
    },
    {
     "name": "stderr",
     "output_type": "stream",
     "text": [
      "WARNING: In /tmp/SimpleITK-build/ITK/Modules/IO/NIFTI/src/itkNiftiImageIO.cxx, line 2008\n",
      "NiftiImageIO (0x55c7d916dc30): ../dataset/dataset_extracted/train_split/patient100/patient100_frame01_gt.nii has unexpected scales in sform\n",
      "\n",
      "WARNING: In /tmp/SimpleITK-build/ITK/Modules/IO/NIFTI/src/itkNiftiImageIO.cxx, line 2008\n",
      "NiftiImageIO (0x55c7d916dc30): ../dataset/dataset_extracted/train_split/patient100/patient100_frame01_gt.nii has unexpected scales in sform\n",
      "\n",
      "WARNING: In /tmp/SimpleITK-build/ITK/Modules/IO/NIFTI/src/itkNiftiImageIO.cxx, line 2008\n",
      "NiftiImageIO (0x55c7d916dc30): ../dataset/dataset_extracted/train_split/patient100/patient100_frame13.nii has unexpected scales in sform\n",
      "\n",
      "WARNING: In /tmp/SimpleITK-build/ITK/Modules/IO/NIFTI/src/itkNiftiImageIO.cxx, line 2008\n",
      "NiftiImageIO (0x55c7d916dc30): ../dataset/dataset_extracted/train_split/patient100/patient100_frame13.nii has unexpected scales in sform\n",
      "\n"
     ]
    },
    {
     "name": "stdout",
     "output_type": "stream",
     "text": [
      "Resampling: ../dataset/dataset_extracted/train_split/patient100/patient100_frame13.nii\n",
      "Resampling: ../dataset/dataset_extracted/train_split/patient100/patient100_frame13_gt.nii\n",
      "Resampling: ../dataset/dataset_extracted/train_split/patient070/patient070_frame01.nii\n"
     ]
    },
    {
     "name": "stderr",
     "output_type": "stream",
     "text": [
      "WARNING: In /tmp/SimpleITK-build/ITK/Modules/IO/NIFTI/src/itkNiftiImageIO.cxx, line 2008\n",
      "NiftiImageIO (0x55c7d916dc30): ../dataset/dataset_extracted/train_split/patient100/patient100_frame13_gt.nii has unexpected scales in sform\n",
      "\n",
      "WARNING: In /tmp/SimpleITK-build/ITK/Modules/IO/NIFTI/src/itkNiftiImageIO.cxx, line 2008\n",
      "NiftiImageIO (0x55c7d916dc30): ../dataset/dataset_extracted/train_split/patient100/patient100_frame13_gt.nii has unexpected scales in sform\n",
      "\n",
      "WARNING: In /tmp/SimpleITK-build/ITK/Modules/IO/NIFTI/src/itkNiftiImageIO.cxx, line 2008\n",
      "NiftiImageIO (0x55c7d916dc30): ../dataset/dataset_extracted/train_split/patient070/patient070_frame01.nii has unexpected scales in sform\n",
      "\n",
      "WARNING: In /tmp/SimpleITK-build/ITK/Modules/IO/NIFTI/src/itkNiftiImageIO.cxx, line 2008\n",
      "NiftiImageIO (0x55c7d916dc30): ../dataset/dataset_extracted/train_split/patient070/patient070_frame01.nii has unexpected scales in sform\n",
      "\n",
      "WARNING: In /tmp/SimpleITK-build/ITK/Modules/IO/NIFTI/src/itkNiftiImageIO.cxx, line 2008\n",
      "NiftiImageIO (0x55c7d916dc30): ../dataset/dataset_extracted/train_split/patient070/patient070_frame01_gt.nii has unexpected scales in sform\n",
      "\n",
      "WARNING: In /tmp/SimpleITK-build/ITK/Modules/IO/NIFTI/src/itkNiftiImageIO.cxx, line 2008\n",
      "NiftiImageIO (0x55c7d916dc30): ../dataset/dataset_extracted/train_split/patient070/patient070_frame01_gt.nii has unexpected scales in sform\n",
      "\n"
     ]
    },
    {
     "name": "stdout",
     "output_type": "stream",
     "text": [
      "Resampling: ../dataset/dataset_extracted/train_split/patient070/patient070_frame01_gt.nii\n",
      "Resampling: ../dataset/dataset_extracted/train_split/patient070/patient070_frame10.nii\n",
      "Resampling: ../dataset/dataset_extracted/train_split/patient070/patient070_frame10_gt.nii\n"
     ]
    },
    {
     "name": "stderr",
     "output_type": "stream",
     "text": [
      "WARNING: In /tmp/SimpleITK-build/ITK/Modules/IO/NIFTI/src/itkNiftiImageIO.cxx, line 2008\n",
      "NiftiImageIO (0x55c7d916dc30): ../dataset/dataset_extracted/train_split/patient070/patient070_frame10.nii has unexpected scales in sform\n",
      "\n",
      "WARNING: In /tmp/SimpleITK-build/ITK/Modules/IO/NIFTI/src/itkNiftiImageIO.cxx, line 2008\n",
      "NiftiImageIO (0x55c7d916dc30): ../dataset/dataset_extracted/train_split/patient070/patient070_frame10.nii has unexpected scales in sform\n",
      "\n",
      "WARNING: In /tmp/SimpleITK-build/ITK/Modules/IO/NIFTI/src/itkNiftiImageIO.cxx, line 2008\n",
      "NiftiImageIO (0x55c7d916dc30): ../dataset/dataset_extracted/train_split/patient070/patient070_frame10_gt.nii has unexpected scales in sform\n",
      "\n",
      "WARNING: In /tmp/SimpleITK-build/ITK/Modules/IO/NIFTI/src/itkNiftiImageIO.cxx, line 2008\n",
      "NiftiImageIO (0x55c7d916dc30): ../dataset/dataset_extracted/train_split/patient070/patient070_frame10_gt.nii has unexpected scales in sform\n",
      "\n",
      "WARNING: In /tmp/SimpleITK-build/ITK/Modules/IO/NIFTI/src/itkNiftiImageIO.cxx, line 2008\n",
      "NiftiImageIO (0x55c7d916dc30): ../dataset/dataset_extracted/train_split/patient095/patient095_frame01.nii has unexpected scales in sform\n",
      "\n",
      "WARNING: In /tmp/SimpleITK-build/ITK/Modules/IO/NIFTI/src/itkNiftiImageIO.cxx, line 2008\n",
      "NiftiImageIO (0x55c7d916dc30): ../dataset/dataset_extracted/train_split/patient095/patient095_frame01.nii has unexpected scales in sform\n",
      "\n",
      "WARNING: In /tmp/SimpleITK-build/ITK/Modules/IO/NIFTI/src/itkNiftiImageIO.cxx, line 2008\n",
      "NiftiImageIO (0x55c7d916dc30): ../dataset/dataset_extracted/train_split/patient095/patient095_frame01_gt.nii has unexpected scales in sform\n",
      "\n",
      "WARNING: In /tmp/SimpleITK-build/ITK/Modules/IO/NIFTI/src/itkNiftiImageIO.cxx, line 2008\n",
      "NiftiImageIO (0x55c7d916dc30): ../dataset/dataset_extracted/train_split/patient095/patient095_frame01_gt.nii has unexpected scales in sform\n",
      "\n"
     ]
    },
    {
     "name": "stdout",
     "output_type": "stream",
     "text": [
      "Resampling: ../dataset/dataset_extracted/train_split/patient095/patient095_frame01.nii\n",
      "Resampling: ../dataset/dataset_extracted/train_split/patient095/patient095_frame01_gt.nii\n"
     ]
    },
    {
     "name": "stderr",
     "output_type": "stream",
     "text": [
      "WARNING: In /tmp/SimpleITK-build/ITK/Modules/IO/NIFTI/src/itkNiftiImageIO.cxx, line 2008\n",
      "NiftiImageIO (0x55c7d916dc30): ../dataset/dataset_extracted/train_split/patient095/patient095_frame12.nii has unexpected scales in sform\n",
      "\n",
      "WARNING: In /tmp/SimpleITK-build/ITK/Modules/IO/NIFTI/src/itkNiftiImageIO.cxx, line 2008\n",
      "NiftiImageIO (0x55c7d916dc30): ../dataset/dataset_extracted/train_split/patient095/patient095_frame12.nii has unexpected scales in sform\n",
      "\n",
      "WARNING: In /tmp/SimpleITK-build/ITK/Modules/IO/NIFTI/src/itkNiftiImageIO.cxx, line 2008\n",
      "NiftiImageIO (0x55c7d916dc30): ../dataset/dataset_extracted/train_split/patient095/patient095_frame12_gt.nii has unexpected scales in sform\n",
      "\n",
      "WARNING: In /tmp/SimpleITK-build/ITK/Modules/IO/NIFTI/src/itkNiftiImageIO.cxx, line 2008\n",
      "NiftiImageIO (0x55c7d916dc30): ../dataset/dataset_extracted/train_split/patient095/patient095_frame12_gt.nii has unexpected scales in sform\n",
      "\n"
     ]
    },
    {
     "name": "stdout",
     "output_type": "stream",
     "text": [
      "Resampling: ../dataset/dataset_extracted/train_split/patient095/patient095_frame12.nii\n",
      "Resampling: ../dataset/dataset_extracted/train_split/patient095/patient095_frame12_gt.nii\n"
     ]
    },
    {
     "name": "stderr",
     "output_type": "stream",
     "text": [
      "WARNING: In /tmp/SimpleITK-build/ITK/Modules/IO/NIFTI/src/itkNiftiImageIO.cxx, line 2008\n",
      "NiftiImageIO (0x55c7d916dc30): ../dataset/dataset_extracted/train_split/patient009/patient009_frame01.nii has unexpected scales in sform\n",
      "\n",
      "WARNING: In /tmp/SimpleITK-build/ITK/Modules/IO/NIFTI/src/itkNiftiImageIO.cxx, line 2008\n",
      "NiftiImageIO (0x55c7d916dc30): ../dataset/dataset_extracted/train_split/patient009/patient009_frame01.nii has unexpected scales in sform\n",
      "\n",
      "WARNING: In /tmp/SimpleITK-build/ITK/Modules/IO/NIFTI/src/itkNiftiImageIO.cxx, line 2008\n",
      "NiftiImageIO (0x55c7d916dc30): ../dataset/dataset_extracted/train_split/patient009/patient009_frame01_gt.nii has unexpected scales in sform\n",
      "\n",
      "WARNING: In /tmp/SimpleITK-build/ITK/Modules/IO/NIFTI/src/itkNiftiImageIO.cxx, line 2008\n",
      "NiftiImageIO (0x55c7d916dc30): ../dataset/dataset_extracted/train_split/patient009/patient009_frame01_gt.nii has unexpected scales in sform\n",
      "\n"
     ]
    },
    {
     "name": "stdout",
     "output_type": "stream",
     "text": [
      "Resampling: ../dataset/dataset_extracted/train_split/patient009/patient009_frame01.nii\n",
      "Resampling: ../dataset/dataset_extracted/train_split/patient009/patient009_frame01_gt.nii\n"
     ]
    },
    {
     "name": "stderr",
     "output_type": "stream",
     "text": [
      "WARNING: In /tmp/SimpleITK-build/ITK/Modules/IO/NIFTI/src/itkNiftiImageIO.cxx, line 2008\n",
      "NiftiImageIO (0x55c7d916dc30): ../dataset/dataset_extracted/train_split/patient009/patient009_frame13.nii has unexpected scales in sform\n",
      "\n",
      "WARNING: In /tmp/SimpleITK-build/ITK/Modules/IO/NIFTI/src/itkNiftiImageIO.cxx, line 2008\n",
      "NiftiImageIO (0x55c7d916dc30): ../dataset/dataset_extracted/train_split/patient009/patient009_frame13.nii has unexpected scales in sform\n",
      "\n",
      "WARNING: In /tmp/SimpleITK-build/ITK/Modules/IO/NIFTI/src/itkNiftiImageIO.cxx, line 2008\n",
      "NiftiImageIO (0x55c7d916dc30): ../dataset/dataset_extracted/train_split/patient009/patient009_frame13_gt.nii has unexpected scales in sform\n",
      "\n",
      "WARNING: In /tmp/SimpleITK-build/ITK/Modules/IO/NIFTI/src/itkNiftiImageIO.cxx, line 2008\n",
      "NiftiImageIO (0x55c7d916dc30): ../dataset/dataset_extracted/train_split/patient009/patient009_frame13_gt.nii has unexpected scales in sform\n",
      "\n"
     ]
    },
    {
     "name": "stdout",
     "output_type": "stream",
     "text": [
      "Resampling: ../dataset/dataset_extracted/train_split/patient009/patient009_frame13.nii\n",
      "Resampling: ../dataset/dataset_extracted/train_split/patient009/patient009_frame13_gt.nii\n"
     ]
    },
    {
     "name": "stderr",
     "output_type": "stream",
     "text": [
      "WARNING: In /tmp/SimpleITK-build/ITK/Modules/IO/NIFTI/src/itkNiftiImageIO.cxx, line 2008\n",
      "NiftiImageIO (0x55c7d916dc30): ../dataset/dataset_extracted/train_split/patient039/patient039_frame01.nii has unexpected scales in sform\n",
      "\n",
      "WARNING: In /tmp/SimpleITK-build/ITK/Modules/IO/NIFTI/src/itkNiftiImageIO.cxx, line 2008\n",
      "NiftiImageIO (0x55c7d916dc30): ../dataset/dataset_extracted/train_split/patient039/patient039_frame01.nii has unexpected scales in sform\n",
      "\n",
      "WARNING: In /tmp/SimpleITK-build/ITK/Modules/IO/NIFTI/src/itkNiftiImageIO.cxx, line 2008\n",
      "NiftiImageIO (0x55c7d916dc30): ../dataset/dataset_extracted/train_split/patient039/patient039_frame01_gt.nii has unexpected scales in sform\n",
      "\n",
      "WARNING: In /tmp/SimpleITK-build/ITK/Modules/IO/NIFTI/src/itkNiftiImageIO.cxx, line 2008\n",
      "NiftiImageIO (0x55c7d916dc30): ../dataset/dataset_extracted/train_split/patient039/patient039_frame01_gt.nii has unexpected scales in sform\n",
      "\n"
     ]
    },
    {
     "name": "stdout",
     "output_type": "stream",
     "text": [
      "Resampling: ../dataset/dataset_extracted/train_split/patient039/patient039_frame01.nii\n",
      "Resampling: ../dataset/dataset_extracted/train_split/patient039/patient039_frame01_gt.nii\n"
     ]
    },
    {
     "name": "stderr",
     "output_type": "stream",
     "text": [
      "WARNING: In /tmp/SimpleITK-build/ITK/Modules/IO/NIFTI/src/itkNiftiImageIO.cxx, line 2008\n",
      "NiftiImageIO (0x55c7d916dc30): ../dataset/dataset_extracted/train_split/patient039/patient039_frame10.nii has unexpected scales in sform\n",
      "\n",
      "WARNING: In /tmp/SimpleITK-build/ITK/Modules/IO/NIFTI/src/itkNiftiImageIO.cxx, line 2008\n",
      "NiftiImageIO (0x55c7d916dc30): ../dataset/dataset_extracted/train_split/patient039/patient039_frame10.nii has unexpected scales in sform\n",
      "\n",
      "WARNING: In /tmp/SimpleITK-build/ITK/Modules/IO/NIFTI/src/itkNiftiImageIO.cxx, line 2008\n",
      "NiftiImageIO (0x55c7d916dc30): ../dataset/dataset_extracted/train_split/patient039/patient039_frame10_gt.nii has unexpected scales in sform\n",
      "\n",
      "WARNING: In /tmp/SimpleITK-build/ITK/Modules/IO/NIFTI/src/itkNiftiImageIO.cxx, line 2008\n",
      "NiftiImageIO (0x55c7d916dc30): ../dataset/dataset_extracted/train_split/patient039/patient039_frame10_gt.nii has unexpected scales in sform\n",
      "\n"
     ]
    },
    {
     "name": "stdout",
     "output_type": "stream",
     "text": [
      "Resampling: ../dataset/dataset_extracted/train_split/patient039/patient039_frame10.nii\n",
      "Resampling: ../dataset/dataset_extracted/train_split/patient039/patient039_frame10_gt.nii\n"
     ]
    },
    {
     "name": "stderr",
     "output_type": "stream",
     "text": [
      "WARNING: In /tmp/SimpleITK-build/ITK/Modules/IO/NIFTI/src/itkNiftiImageIO.cxx, line 2008\n",
      "NiftiImageIO (0x55c7d916dc30): ../dataset/dataset_extracted/train_split/patient079/patient079_frame01.nii has unexpected scales in sform\n",
      "\n",
      "WARNING: In /tmp/SimpleITK-build/ITK/Modules/IO/NIFTI/src/itkNiftiImageIO.cxx, line 2008\n",
      "NiftiImageIO (0x55c7d916dc30): ../dataset/dataset_extracted/train_split/patient079/patient079_frame01.nii has unexpected scales in sform\n",
      "\n",
      "WARNING: In /tmp/SimpleITK-build/ITK/Modules/IO/NIFTI/src/itkNiftiImageIO.cxx, line 2008\n",
      "NiftiImageIO (0x55c7d916dc30): ../dataset/dataset_extracted/train_split/patient079/patient079_frame01_gt.nii has unexpected scales in sform\n",
      "\n",
      "WARNING: In /tmp/SimpleITK-build/ITK/Modules/IO/NIFTI/src/itkNiftiImageIO.cxx, line 2008\n",
      "NiftiImageIO (0x55c7d916dc30): ../dataset/dataset_extracted/train_split/patient079/patient079_frame01_gt.nii has unexpected scales in sform\n",
      "\n"
     ]
    },
    {
     "name": "stdout",
     "output_type": "stream",
     "text": [
      "Resampling: ../dataset/dataset_extracted/train_split/patient079/patient079_frame01.nii\n",
      "Resampling: ../dataset/dataset_extracted/train_split/patient079/patient079_frame01_gt.nii\n"
     ]
    },
    {
     "name": "stderr",
     "output_type": "stream",
     "text": [
      "WARNING: In /tmp/SimpleITK-build/ITK/Modules/IO/NIFTI/src/itkNiftiImageIO.cxx, line 2008\n",
      "NiftiImageIO (0x55c7d916dc30): ../dataset/dataset_extracted/train_split/patient079/patient079_frame11.nii has unexpected scales in sform\n",
      "\n",
      "WARNING: In /tmp/SimpleITK-build/ITK/Modules/IO/NIFTI/src/itkNiftiImageIO.cxx, line 2008\n",
      "NiftiImageIO (0x55c7d916dc30): ../dataset/dataset_extracted/train_split/patient079/patient079_frame11.nii has unexpected scales in sform\n",
      "\n",
      "WARNING: In /tmp/SimpleITK-build/ITK/Modules/IO/NIFTI/src/itkNiftiImageIO.cxx, line 2008\n",
      "NiftiImageIO (0x55c7d916dc30): ../dataset/dataset_extracted/train_split/patient079/patient079_frame11_gt.nii has unexpected scales in sform\n",
      "\n",
      "WARNING: In /tmp/SimpleITK-build/ITK/Modules/IO/NIFTI/src/itkNiftiImageIO.cxx, line 2008\n",
      "NiftiImageIO (0x55c7d916dc30): ../dataset/dataset_extracted/train_split/patient079/patient079_frame11_gt.nii has unexpected scales in sform\n",
      "\n"
     ]
    },
    {
     "name": "stdout",
     "output_type": "stream",
     "text": [
      "Resampling: ../dataset/dataset_extracted/train_split/patient079/patient079_frame11.nii\n",
      "Resampling: ../dataset/dataset_extracted/train_split/patient079/patient079_frame11_gt.nii\n"
     ]
    },
    {
     "name": "stderr",
     "output_type": "stream",
     "text": [
      "WARNING: In /tmp/SimpleITK-build/ITK/Modules/IO/NIFTI/src/itkNiftiImageIO.cxx, line 2008\n",
      "NiftiImageIO (0x55c7d916dc30): ../dataset/dataset_extracted/train_split/patient083/patient083_frame01.nii has unexpected scales in sform\n",
      "\n",
      "WARNING: In /tmp/SimpleITK-build/ITK/Modules/IO/NIFTI/src/itkNiftiImageIO.cxx, line 2008\n",
      "NiftiImageIO (0x55c7d916dc30): ../dataset/dataset_extracted/train_split/patient083/patient083_frame01.nii has unexpected scales in sform\n",
      "\n",
      "WARNING: In /tmp/SimpleITK-build/ITK/Modules/IO/NIFTI/src/itkNiftiImageIO.cxx, line 2008\n",
      "NiftiImageIO (0x55c7d916dc30): ../dataset/dataset_extracted/train_split/patient083/patient083_frame01_gt.nii has unexpected scales in sform\n",
      "\n",
      "WARNING: In /tmp/SimpleITK-build/ITK/Modules/IO/NIFTI/src/itkNiftiImageIO.cxx, line 2008\n",
      "NiftiImageIO (0x55c7d916dc30): ../dataset/dataset_extracted/train_split/patient083/patient083_frame01_gt.nii has unexpected scales in sform\n",
      "\n"
     ]
    },
    {
     "name": "stdout",
     "output_type": "stream",
     "text": [
      "Resampling: ../dataset/dataset_extracted/train_split/patient083/patient083_frame01.nii\n",
      "Resampling: ../dataset/dataset_extracted/train_split/patient083/patient083_frame01_gt.nii\n",
      "Resampling: ../dataset/dataset_extracted/train_split/patient083/patient083_frame08.nii\n"
     ]
    },
    {
     "name": "stderr",
     "output_type": "stream",
     "text": [
      "WARNING: In /tmp/SimpleITK-build/ITK/Modules/IO/NIFTI/src/itkNiftiImageIO.cxx, line 2008\n",
      "NiftiImageIO (0x55c7d916dc30): ../dataset/dataset_extracted/train_split/patient083/patient083_frame08.nii has unexpected scales in sform\n",
      "\n",
      "WARNING: In /tmp/SimpleITK-build/ITK/Modules/IO/NIFTI/src/itkNiftiImageIO.cxx, line 2008\n",
      "NiftiImageIO (0x55c7d916dc30): ../dataset/dataset_extracted/train_split/patient083/patient083_frame08.nii has unexpected scales in sform\n",
      "\n",
      "WARNING: In /tmp/SimpleITK-build/ITK/Modules/IO/NIFTI/src/itkNiftiImageIO.cxx, line 2008\n",
      "NiftiImageIO (0x55c7d916dc30): ../dataset/dataset_extracted/train_split/patient083/patient083_frame08_gt.nii has unexpected scales in sform\n",
      "\n",
      "WARNING: In /tmp/SimpleITK-build/ITK/Modules/IO/NIFTI/src/itkNiftiImageIO.cxx, line 2008\n",
      "NiftiImageIO (0x55c7d916dc30): ../dataset/dataset_extracted/train_split/patient083/patient083_frame08_gt.nii has unexpected scales in sform\n",
      "\n",
      "WARNING: In /tmp/SimpleITK-build/ITK/Modules/IO/NIFTI/src/itkNiftiImageIO.cxx, line 2008\n",
      "NiftiImageIO (0x55c7d916dc30): ../dataset/dataset_extracted/train_split/patient049/patient049_frame01.nii has unexpected scales in sform\n",
      "\n",
      "WARNING: In /tmp/SimpleITK-build/ITK/Modules/IO/NIFTI/src/itkNiftiImageIO.cxx, line 2008\n",
      "NiftiImageIO (0x55c7d916dc30): ../dataset/dataset_extracted/train_split/patient049/patient049_frame01.nii has unexpected scales in sform\n",
      "\n"
     ]
    },
    {
     "name": "stdout",
     "output_type": "stream",
     "text": [
      "Resampling: ../dataset/dataset_extracted/train_split/patient083/patient083_frame08_gt.nii\n",
      "Resampling: ../dataset/dataset_extracted/train_split/patient049/patient049_frame01.nii\n",
      "Resampling: ../dataset/dataset_extracted/train_split/patient049/patient049_frame01_gt.nii\n",
      "Resampling: ../dataset/dataset_extracted/train_split/patient049/patient049_frame11.nii\n"
     ]
    },
    {
     "name": "stderr",
     "output_type": "stream",
     "text": [
      "WARNING: In /tmp/SimpleITK-build/ITK/Modules/IO/NIFTI/src/itkNiftiImageIO.cxx, line 2008\n",
      "NiftiImageIO (0x55c7d916dc30): ../dataset/dataset_extracted/train_split/patient049/patient049_frame01_gt.nii has unexpected scales in sform\n",
      "\n",
      "WARNING: In /tmp/SimpleITK-build/ITK/Modules/IO/NIFTI/src/itkNiftiImageIO.cxx, line 2008\n",
      "NiftiImageIO (0x55c7d916dc30): ../dataset/dataset_extracted/train_split/patient049/patient049_frame01_gt.nii has unexpected scales in sform\n",
      "\n",
      "WARNING: In /tmp/SimpleITK-build/ITK/Modules/IO/NIFTI/src/itkNiftiImageIO.cxx, line 2008\n",
      "NiftiImageIO (0x55c7d916dc30): ../dataset/dataset_extracted/train_split/patient049/patient049_frame11.nii has unexpected scales in sform\n",
      "\n",
      "WARNING: In /tmp/SimpleITK-build/ITK/Modules/IO/NIFTI/src/itkNiftiImageIO.cxx, line 2008\n",
      "NiftiImageIO (0x55c7d916dc30): ../dataset/dataset_extracted/train_split/patient049/patient049_frame11.nii has unexpected scales in sform\n",
      "\n",
      "WARNING: In /tmp/SimpleITK-build/ITK/Modules/IO/NIFTI/src/itkNiftiImageIO.cxx, line 2008\n",
      "NiftiImageIO (0x55c7d916dc30): ../dataset/dataset_extracted/train_split/patient049/patient049_frame11_gt.nii has unexpected scales in sform\n",
      "\n",
      "WARNING: In /tmp/SimpleITK-build/ITK/Modules/IO/NIFTI/src/itkNiftiImageIO.cxx, line 2008\n",
      "NiftiImageIO (0x55c7d916dc30): ../dataset/dataset_extracted/train_split/patient049/patient049_frame11_gt.nii has unexpected scales in sform\n",
      "\n"
     ]
    },
    {
     "name": "stdout",
     "output_type": "stream",
     "text": [
      "Resampling: ../dataset/dataset_extracted/train_split/patient049/patient049_frame11_gt.nii\n",
      "Resampling: ../dataset/dataset_extracted/train_split/patient046/patient046_frame01.nii\n"
     ]
    },
    {
     "name": "stderr",
     "output_type": "stream",
     "text": [
      "WARNING: In /tmp/SimpleITK-build/ITK/Modules/IO/NIFTI/src/itkNiftiImageIO.cxx, line 2008\n",
      "NiftiImageIO (0x55c7d916dc30): ../dataset/dataset_extracted/train_split/patient046/patient046_frame01.nii has unexpected scales in sform\n",
      "\n",
      "WARNING: In /tmp/SimpleITK-build/ITK/Modules/IO/NIFTI/src/itkNiftiImageIO.cxx, line 2008\n",
      "NiftiImageIO (0x55c7d916dc30): ../dataset/dataset_extracted/train_split/patient046/patient046_frame01.nii has unexpected scales in sform\n",
      "\n",
      "WARNING: In /tmp/SimpleITK-build/ITK/Modules/IO/NIFTI/src/itkNiftiImageIO.cxx, line 2008\n",
      "NiftiImageIO (0x55c7d916dc30): ../dataset/dataset_extracted/train_split/patient046/patient046_frame01_gt.nii has unexpected scales in sform\n",
      "\n",
      "WARNING: In /tmp/SimpleITK-build/ITK/Modules/IO/NIFTI/src/itkNiftiImageIO.cxx, line 2008\n",
      "NiftiImageIO (0x55c7d916dc30): ../dataset/dataset_extracted/train_split/patient046/patient046_frame01_gt.nii has unexpected scales in sform\n",
      "\n"
     ]
    },
    {
     "name": "stdout",
     "output_type": "stream",
     "text": [
      "Resampling: ../dataset/dataset_extracted/train_split/patient046/patient046_frame01_gt.nii\n",
      "Resampling: ../dataset/dataset_extracted/train_split/patient046/patient046_frame10.nii\n"
     ]
    },
    {
     "name": "stderr",
     "output_type": "stream",
     "text": [
      "WARNING: In /tmp/SimpleITK-build/ITK/Modules/IO/NIFTI/src/itkNiftiImageIO.cxx, line 2008\n",
      "NiftiImageIO (0x55c7d916dc30): ../dataset/dataset_extracted/train_split/patient046/patient046_frame10.nii has unexpected scales in sform\n",
      "\n",
      "WARNING: In /tmp/SimpleITK-build/ITK/Modules/IO/NIFTI/src/itkNiftiImageIO.cxx, line 2008\n",
      "NiftiImageIO (0x55c7d916dc30): ../dataset/dataset_extracted/train_split/patient046/patient046_frame10.nii has unexpected scales in sform\n",
      "\n",
      "WARNING: In /tmp/SimpleITK-build/ITK/Modules/IO/NIFTI/src/itkNiftiImageIO.cxx, line 2008\n",
      "NiftiImageIO (0x55c7d916dc30): ../dataset/dataset_extracted/train_split/patient046/patient046_frame10_gt.nii has unexpected scales in sform\n",
      "\n",
      "WARNING: In /tmp/SimpleITK-build/ITK/Modules/IO/NIFTI/src/itkNiftiImageIO.cxx, line 2008\n",
      "NiftiImageIO (0x55c7d916dc30): ../dataset/dataset_extracted/train_split/patient046/patient046_frame10_gt.nii has unexpected scales in sform\n",
      "\n"
     ]
    },
    {
     "name": "stdout",
     "output_type": "stream",
     "text": [
      "Resampling: ../dataset/dataset_extracted/train_split/patient046/patient046_frame10_gt.nii\n",
      "Resampling: ../dataset/dataset_extracted/train_split/patient044/patient044_frame01.nii\n",
      "Resampling: ../dataset/dataset_extracted/train_split/patient044/patient044_frame01_gt.nii\n"
     ]
    },
    {
     "name": "stderr",
     "output_type": "stream",
     "text": [
      "WARNING: In /tmp/SimpleITK-build/ITK/Modules/IO/NIFTI/src/itkNiftiImageIO.cxx, line 2008\n",
      "NiftiImageIO (0x55c7d916dc30): ../dataset/dataset_extracted/train_split/patient044/patient044_frame01.nii has unexpected scales in sform\n",
      "\n",
      "WARNING: In /tmp/SimpleITK-build/ITK/Modules/IO/NIFTI/src/itkNiftiImageIO.cxx, line 2008\n",
      "NiftiImageIO (0x55c7d916dc30): ../dataset/dataset_extracted/train_split/patient044/patient044_frame01.nii has unexpected scales in sform\n",
      "\n",
      "WARNING: In /tmp/SimpleITK-build/ITK/Modules/IO/NIFTI/src/itkNiftiImageIO.cxx, line 2008\n",
      "NiftiImageIO (0x55c7d916dc30): ../dataset/dataset_extracted/train_split/patient044/patient044_frame01_gt.nii has unexpected scales in sform\n",
      "\n",
      "WARNING: In /tmp/SimpleITK-build/ITK/Modules/IO/NIFTI/src/itkNiftiImageIO.cxx, line 2008\n",
      "NiftiImageIO (0x55c7d916dc30): ../dataset/dataset_extracted/train_split/patient044/patient044_frame01_gt.nii has unexpected scales in sform\n",
      "\n",
      "WARNING: In /tmp/SimpleITK-build/ITK/Modules/IO/NIFTI/src/itkNiftiImageIO.cxx, line 2008\n",
      "NiftiImageIO (0x55c7d916dc30): ../dataset/dataset_extracted/train_split/patient044/patient044_frame11.nii has unexpected scales in sform\n",
      "\n",
      "WARNING: In /tmp/SimpleITK-build/ITK/Modules/IO/NIFTI/src/itkNiftiImageIO.cxx, line 2008\n",
      "NiftiImageIO (0x55c7d916dc30): ../dataset/dataset_extracted/train_split/patient044/patient044_frame11.nii has unexpected scales in sform\n",
      "\n"
     ]
    },
    {
     "name": "stdout",
     "output_type": "stream",
     "text": [
      "Resampling: ../dataset/dataset_extracted/train_split/patient044/patient044_frame11.nii\n",
      "Resampling: ../dataset/dataset_extracted/train_split/patient044/patient044_frame11_gt.nii\n"
     ]
    },
    {
     "name": "stderr",
     "output_type": "stream",
     "text": [
      "WARNING: In /tmp/SimpleITK-build/ITK/Modules/IO/NIFTI/src/itkNiftiImageIO.cxx, line 2008\n",
      "NiftiImageIO (0x55c7d916dc30): ../dataset/dataset_extracted/train_split/patient044/patient044_frame11_gt.nii has unexpected scales in sform\n",
      "\n",
      "WARNING: In /tmp/SimpleITK-build/ITK/Modules/IO/NIFTI/src/itkNiftiImageIO.cxx, line 2008\n",
      "NiftiImageIO (0x55c7d916dc30): ../dataset/dataset_extracted/train_split/patient044/patient044_frame11_gt.nii has unexpected scales in sform\n",
      "\n",
      "WARNING: In /tmp/SimpleITK-build/ITK/Modules/IO/NIFTI/src/itkNiftiImageIO.cxx, line 2008\n",
      "NiftiImageIO (0x55c7d916dc30): ../dataset/dataset_extracted/train_split/patient099/patient099_frame01.nii has unexpected scales in sform\n",
      "\n",
      "WARNING: In /tmp/SimpleITK-build/ITK/Modules/IO/NIFTI/src/itkNiftiImageIO.cxx, line 2008\n",
      "NiftiImageIO (0x55c7d916dc30): ../dataset/dataset_extracted/train_split/patient099/patient099_frame01.nii has unexpected scales in sform\n",
      "\n"
     ]
    },
    {
     "name": "stdout",
     "output_type": "stream",
     "text": [
      "Resampling: ../dataset/dataset_extracted/train_split/patient099/patient099_frame01.nii\n",
      "Resampling: ../dataset/dataset_extracted/train_split/patient099/patient099_frame01_gt.nii\n"
     ]
    },
    {
     "name": "stderr",
     "output_type": "stream",
     "text": [
      "WARNING: In /tmp/SimpleITK-build/ITK/Modules/IO/NIFTI/src/itkNiftiImageIO.cxx, line 2008\n",
      "NiftiImageIO (0x55c7d916dc30): ../dataset/dataset_extracted/train_split/patient099/patient099_frame01_gt.nii has unexpected scales in sform\n",
      "\n",
      "WARNING: In /tmp/SimpleITK-build/ITK/Modules/IO/NIFTI/src/itkNiftiImageIO.cxx, line 2008\n",
      "NiftiImageIO (0x55c7d916dc30): ../dataset/dataset_extracted/train_split/patient099/patient099_frame01_gt.nii has unexpected scales in sform\n",
      "\n",
      "WARNING: In /tmp/SimpleITK-build/ITK/Modules/IO/NIFTI/src/itkNiftiImageIO.cxx, line 2008\n",
      "NiftiImageIO (0x55c7d916dc30): ../dataset/dataset_extracted/train_split/patient099/patient099_frame09.nii has unexpected scales in sform\n",
      "\n",
      "WARNING: In /tmp/SimpleITK-build/ITK/Modules/IO/NIFTI/src/itkNiftiImageIO.cxx, line 2008\n",
      "NiftiImageIO (0x55c7d916dc30): ../dataset/dataset_extracted/train_split/patient099/patient099_frame09.nii has unexpected scales in sform\n",
      "\n"
     ]
    },
    {
     "name": "stdout",
     "output_type": "stream",
     "text": [
      "Resampling: ../dataset/dataset_extracted/train_split/patient099/patient099_frame09.nii\n",
      "Resampling: ../dataset/dataset_extracted/train_split/patient099/patient099_frame09_gt.nii\n"
     ]
    },
    {
     "name": "stderr",
     "output_type": "stream",
     "text": [
      "WARNING: In /tmp/SimpleITK-build/ITK/Modules/IO/NIFTI/src/itkNiftiImageIO.cxx, line 2008\n",
      "NiftiImageIO (0x55c7d916dc30): ../dataset/dataset_extracted/train_split/patient099/patient099_frame09_gt.nii has unexpected scales in sform\n",
      "\n",
      "WARNING: In /tmp/SimpleITK-build/ITK/Modules/IO/NIFTI/src/itkNiftiImageIO.cxx, line 2008\n",
      "NiftiImageIO (0x55c7d916dc30): ../dataset/dataset_extracted/train_split/patient099/patient099_frame09_gt.nii has unexpected scales in sform\n",
      "\n",
      "WARNING: In /tmp/SimpleITK-build/ITK/Modules/IO/NIFTI/src/itkNiftiImageIO.cxx, line 2008\n",
      "NiftiImageIO (0x55c7d916dc30): ../dataset/dataset_extracted/train_split/patient052/patient052_frame01.nii has unexpected scales in sform\n",
      "\n",
      "WARNING: In /tmp/SimpleITK-build/ITK/Modules/IO/NIFTI/src/itkNiftiImageIO.cxx, line 2008\n",
      "NiftiImageIO (0x55c7d916dc30): ../dataset/dataset_extracted/train_split/patient052/patient052_frame01.nii has unexpected scales in sform\n",
      "\n"
     ]
    },
    {
     "name": "stdout",
     "output_type": "stream",
     "text": [
      "Resampling: ../dataset/dataset_extracted/train_split/patient052/patient052_frame01.nii\n",
      "Resampling: ../dataset/dataset_extracted/train_split/patient052/patient052_frame01_gt.nii\n",
      "Resampling: ../dataset/dataset_extracted/train_split/patient052/patient052_frame09.nii\n"
     ]
    },
    {
     "name": "stderr",
     "output_type": "stream",
     "text": [
      "WARNING: In /tmp/SimpleITK-build/ITK/Modules/IO/NIFTI/src/itkNiftiImageIO.cxx, line 2008\n",
      "NiftiImageIO (0x55c7d916dc30): ../dataset/dataset_extracted/train_split/patient052/patient052_frame01_gt.nii has unexpected scales in sform\n",
      "\n",
      "WARNING: In /tmp/SimpleITK-build/ITK/Modules/IO/NIFTI/src/itkNiftiImageIO.cxx, line 2008\n",
      "NiftiImageIO (0x55c7d916dc30): ../dataset/dataset_extracted/train_split/patient052/patient052_frame01_gt.nii has unexpected scales in sform\n",
      "\n",
      "WARNING: In /tmp/SimpleITK-build/ITK/Modules/IO/NIFTI/src/itkNiftiImageIO.cxx, line 2008\n",
      "NiftiImageIO (0x55c7d916dc30): ../dataset/dataset_extracted/train_split/patient052/patient052_frame09.nii has unexpected scales in sform\n",
      "\n",
      "WARNING: In /tmp/SimpleITK-build/ITK/Modules/IO/NIFTI/src/itkNiftiImageIO.cxx, line 2008\n",
      "NiftiImageIO (0x55c7d916dc30): ../dataset/dataset_extracted/train_split/patient052/patient052_frame09.nii has unexpected scales in sform\n",
      "\n",
      "WARNING: In /tmp/SimpleITK-build/ITK/Modules/IO/NIFTI/src/itkNiftiImageIO.cxx, line 2008\n",
      "NiftiImageIO (0x55c7d916dc30): ../dataset/dataset_extracted/train_split/patient052/patient052_frame09_gt.nii has unexpected scales in sform\n",
      "\n",
      "WARNING: In /tmp/SimpleITK-build/ITK/Modules/IO/NIFTI/src/itkNiftiImageIO.cxx, line 2008\n",
      "NiftiImageIO (0x55c7d916dc30): ../dataset/dataset_extracted/train_split/patient052/patient052_frame09_gt.nii has unexpected scales in sform\n",
      "\n"
     ]
    },
    {
     "name": "stdout",
     "output_type": "stream",
     "text": [
      "Resampling: ../dataset/dataset_extracted/train_split/patient052/patient052_frame09_gt.nii\n",
      "Resampling: ../dataset/dataset_extracted/train_split/patient086/patient086_frame01.nii\n",
      "Resampling: ../dataset/dataset_extracted/train_split/patient086/patient086_frame01_gt.nii\n"
     ]
    },
    {
     "name": "stderr",
     "output_type": "stream",
     "text": [
      "WARNING: In /tmp/SimpleITK-build/ITK/Modules/IO/NIFTI/src/itkNiftiImageIO.cxx, line 2008\n",
      "NiftiImageIO (0x55c7d916dc30): ../dataset/dataset_extracted/train_split/patient086/patient086_frame01.nii has unexpected scales in sform\n",
      "\n",
      "WARNING: In /tmp/SimpleITK-build/ITK/Modules/IO/NIFTI/src/itkNiftiImageIO.cxx, line 2008\n",
      "NiftiImageIO (0x55c7d916dc30): ../dataset/dataset_extracted/train_split/patient086/patient086_frame01.nii has unexpected scales in sform\n",
      "\n",
      "WARNING: In /tmp/SimpleITK-build/ITK/Modules/IO/NIFTI/src/itkNiftiImageIO.cxx, line 2008\n",
      "NiftiImageIO (0x55c7d916dc30): ../dataset/dataset_extracted/train_split/patient086/patient086_frame01_gt.nii has unexpected scales in sform\n",
      "\n",
      "WARNING: In /tmp/SimpleITK-build/ITK/Modules/IO/NIFTI/src/itkNiftiImageIO.cxx, line 2008\n",
      "NiftiImageIO (0x55c7d916dc30): ../dataset/dataset_extracted/train_split/patient086/patient086_frame01_gt.nii has unexpected scales in sform\n",
      "\n",
      "WARNING: In /tmp/SimpleITK-build/ITK/Modules/IO/NIFTI/src/itkNiftiImageIO.cxx, line 2008\n",
      "NiftiImageIO (0x55c7d916dc30): ../dataset/dataset_extracted/train_split/patient086/patient086_frame08.nii has unexpected scales in sform\n",
      "\n",
      "WARNING: In /tmp/SimpleITK-build/ITK/Modules/IO/NIFTI/src/itkNiftiImageIO.cxx, line 2008\n",
      "NiftiImageIO (0x55c7d916dc30): ../dataset/dataset_extracted/train_split/patient086/patient086_frame08.nii has unexpected scales in sform\n",
      "\n"
     ]
    },
    {
     "name": "stdout",
     "output_type": "stream",
     "text": [
      "Resampling: ../dataset/dataset_extracted/train_split/patient086/patient086_frame08.nii\n",
      "Resampling: ../dataset/dataset_extracted/train_split/patient086/patient086_frame08_gt.nii\n"
     ]
    },
    {
     "name": "stderr",
     "output_type": "stream",
     "text": [
      "WARNING: In /tmp/SimpleITK-build/ITK/Modules/IO/NIFTI/src/itkNiftiImageIO.cxx, line 2008\n",
      "NiftiImageIO (0x55c7d916dc30): ../dataset/dataset_extracted/train_split/patient086/patient086_frame08_gt.nii has unexpected scales in sform\n",
      "\n",
      "WARNING: In /tmp/SimpleITK-build/ITK/Modules/IO/NIFTI/src/itkNiftiImageIO.cxx, line 2008\n",
      "NiftiImageIO (0x55c7d916dc30): ../dataset/dataset_extracted/train_split/patient086/patient086_frame08_gt.nii has unexpected scales in sform\n",
      "\n",
      "WARNING: In /tmp/SimpleITK-build/ITK/Modules/IO/NIFTI/src/itkNiftiImageIO.cxx, line 2008\n",
      "NiftiImageIO (0x55c7d916dc30): ../dataset/dataset_extracted/train_split/patient013/patient013_frame01.nii has unexpected scales in sform\n",
      "\n",
      "WARNING: In /tmp/SimpleITK-build/ITK/Modules/IO/NIFTI/src/itkNiftiImageIO.cxx, line 2008\n",
      "NiftiImageIO (0x55c7d916dc30): ../dataset/dataset_extracted/train_split/patient013/patient013_frame01.nii has unexpected scales in sform\n",
      "\n"
     ]
    },
    {
     "name": "stdout",
     "output_type": "stream",
     "text": [
      "Resampling: ../dataset/dataset_extracted/train_split/patient013/patient013_frame01.nii\n",
      "Resampling: ../dataset/dataset_extracted/train_split/patient013/patient013_frame01_gt.nii\n"
     ]
    },
    {
     "name": "stderr",
     "output_type": "stream",
     "text": [
      "WARNING: In /tmp/SimpleITK-build/ITK/Modules/IO/NIFTI/src/itkNiftiImageIO.cxx, line 2008\n",
      "NiftiImageIO (0x55c7d916dc30): ../dataset/dataset_extracted/train_split/patient013/patient013_frame01_gt.nii has unexpected scales in sform\n",
      "\n",
      "WARNING: In /tmp/SimpleITK-build/ITK/Modules/IO/NIFTI/src/itkNiftiImageIO.cxx, line 2008\n",
      "NiftiImageIO (0x55c7d916dc30): ../dataset/dataset_extracted/train_split/patient013/patient013_frame01_gt.nii has unexpected scales in sform\n",
      "\n",
      "WARNING: In /tmp/SimpleITK-build/ITK/Modules/IO/NIFTI/src/itkNiftiImageIO.cxx, line 2008\n",
      "NiftiImageIO (0x55c7d916dc30): ../dataset/dataset_extracted/train_split/patient013/patient013_frame14.nii has unexpected scales in sform\n",
      "\n",
      "WARNING: In /tmp/SimpleITK-build/ITK/Modules/IO/NIFTI/src/itkNiftiImageIO.cxx, line 2008\n",
      "NiftiImageIO (0x55c7d916dc30): ../dataset/dataset_extracted/train_split/patient013/patient013_frame14.nii has unexpected scales in sform\n",
      "\n"
     ]
    },
    {
     "name": "stdout",
     "output_type": "stream",
     "text": [
      "Resampling: ../dataset/dataset_extracted/train_split/patient013/patient013_frame14.nii\n",
      "Resampling: ../dataset/dataset_extracted/train_split/patient013/patient013_frame14_gt.nii\n"
     ]
    },
    {
     "name": "stderr",
     "output_type": "stream",
     "text": [
      "WARNING: In /tmp/SimpleITK-build/ITK/Modules/IO/NIFTI/src/itkNiftiImageIO.cxx, line 2008\n",
      "NiftiImageIO (0x55c7d916dc30): ../dataset/dataset_extracted/train_split/patient013/patient013_frame14_gt.nii has unexpected scales in sform\n",
      "\n",
      "WARNING: In /tmp/SimpleITK-build/ITK/Modules/IO/NIFTI/src/itkNiftiImageIO.cxx, line 2008\n",
      "NiftiImageIO (0x55c7d916dc30): ../dataset/dataset_extracted/train_split/patient013/patient013_frame14_gt.nii has unexpected scales in sform\n",
      "\n",
      "WARNING: In /tmp/SimpleITK-build/ITK/Modules/IO/NIFTI/src/itkNiftiImageIO.cxx, line 2008\n",
      "NiftiImageIO (0x55c7d916dc30): ../dataset/dataset_extracted/train_split/patient037/patient037_frame01.nii has unexpected scales in sform\n",
      "\n",
      "WARNING: In /tmp/SimpleITK-build/ITK/Modules/IO/NIFTI/src/itkNiftiImageIO.cxx, line 2008\n",
      "NiftiImageIO (0x55c7d916dc30): ../dataset/dataset_extracted/train_split/patient037/patient037_frame01.nii has unexpected scales in sform\n",
      "\n",
      "WARNING: In /tmp/SimpleITK-build/ITK/Modules/IO/NIFTI/src/itkNiftiImageIO.cxx, line 2008\n",
      "NiftiImageIO (0x55c7d916dc30): ../dataset/dataset_extracted/train_split/patient037/patient037_frame01_gt.nii has unexpected scales in sform\n",
      "\n",
      "WARNING: In /tmp/SimpleITK-build/ITK/Modules/IO/NIFTI/src/itkNiftiImageIO.cxx, line 2008\n",
      "NiftiImageIO (0x55c7d916dc30): ../dataset/dataset_extracted/train_split/patient037/patient037_frame01_gt.nii has unexpected scales in sform\n",
      "\n"
     ]
    },
    {
     "name": "stdout",
     "output_type": "stream",
     "text": [
      "Resampling: ../dataset/dataset_extracted/train_split/patient037/patient037_frame01.nii\n",
      "Resampling: ../dataset/dataset_extracted/train_split/patient037/patient037_frame01_gt.nii\n",
      "Resampling: ../dataset/dataset_extracted/train_split/patient037/patient037_frame12.nii\n",
      "Resampling: ../dataset/dataset_extracted/train_split/patient037/patient037_frame12_gt.nii\n"
     ]
    },
    {
     "name": "stderr",
     "output_type": "stream",
     "text": [
      "WARNING: In /tmp/SimpleITK-build/ITK/Modules/IO/NIFTI/src/itkNiftiImageIO.cxx, line 2008\n",
      "NiftiImageIO (0x55c7d916dc30): ../dataset/dataset_extracted/train_split/patient037/patient037_frame12.nii has unexpected scales in sform\n",
      "\n",
      "WARNING: In /tmp/SimpleITK-build/ITK/Modules/IO/NIFTI/src/itkNiftiImageIO.cxx, line 2008\n",
      "NiftiImageIO (0x55c7d916dc30): ../dataset/dataset_extracted/train_split/patient037/patient037_frame12.nii has unexpected scales in sform\n",
      "\n",
      "WARNING: In /tmp/SimpleITK-build/ITK/Modules/IO/NIFTI/src/itkNiftiImageIO.cxx, line 2008\n",
      "NiftiImageIO (0x55c7d916dc30): ../dataset/dataset_extracted/train_split/patient037/patient037_frame12_gt.nii has unexpected scales in sform\n",
      "\n",
      "WARNING: In /tmp/SimpleITK-build/ITK/Modules/IO/NIFTI/src/itkNiftiImageIO.cxx, line 2008\n",
      "NiftiImageIO (0x55c7d916dc30): ../dataset/dataset_extracted/train_split/patient037/patient037_frame12_gt.nii has unexpected scales in sform\n",
      "\n",
      "WARNING: In /tmp/SimpleITK-build/ITK/Modules/IO/NIFTI/src/itkNiftiImageIO.cxx, line 2008\n",
      "NiftiImageIO (0x55c7d916dc30): ../dataset/dataset_extracted/train_split/patient024/patient024_frame01.nii has unexpected scales in sform\n",
      "\n",
      "WARNING: In /tmp/SimpleITK-build/ITK/Modules/IO/NIFTI/src/itkNiftiImageIO.cxx, line 2008\n",
      "NiftiImageIO (0x55c7d916dc30): ../dataset/dataset_extracted/train_split/patient024/patient024_frame01.nii has unexpected scales in sform\n",
      "\n"
     ]
    },
    {
     "name": "stdout",
     "output_type": "stream",
     "text": [
      "Resampling: ../dataset/dataset_extracted/train_split/patient024/patient024_frame01.nii\n",
      "Resampling: ../dataset/dataset_extracted/train_split/patient024/patient024_frame01_gt.nii\n",
      "Resampling: ../dataset/dataset_extracted/train_split/patient024/patient024_frame09.nii\n",
      "Resampling: ../dataset/dataset_extracted/train_split/patient024/patient024_frame09_gt.nii\n"
     ]
    },
    {
     "name": "stderr",
     "output_type": "stream",
     "text": [
      "WARNING: In /tmp/SimpleITK-build/ITK/Modules/IO/NIFTI/src/itkNiftiImageIO.cxx, line 2008\n",
      "NiftiImageIO (0x55c7d916dc30): ../dataset/dataset_extracted/train_split/patient024/patient024_frame01_gt.nii has unexpected scales in sform\n",
      "\n",
      "WARNING: In /tmp/SimpleITK-build/ITK/Modules/IO/NIFTI/src/itkNiftiImageIO.cxx, line 2008\n",
      "NiftiImageIO (0x55c7d916dc30): ../dataset/dataset_extracted/train_split/patient024/patient024_frame01_gt.nii has unexpected scales in sform\n",
      "\n",
      "WARNING: In /tmp/SimpleITK-build/ITK/Modules/IO/NIFTI/src/itkNiftiImageIO.cxx, line 2008\n",
      "NiftiImageIO (0x55c7d916dc30): ../dataset/dataset_extracted/train_split/patient024/patient024_frame09.nii has unexpected scales in sform\n",
      "\n",
      "WARNING: In /tmp/SimpleITK-build/ITK/Modules/IO/NIFTI/src/itkNiftiImageIO.cxx, line 2008\n",
      "NiftiImageIO (0x55c7d916dc30): ../dataset/dataset_extracted/train_split/patient024/patient024_frame09.nii has unexpected scales in sform\n",
      "\n",
      "WARNING: In /tmp/SimpleITK-build/ITK/Modules/IO/NIFTI/src/itkNiftiImageIO.cxx, line 2008\n",
      "NiftiImageIO (0x55c7d916dc30): ../dataset/dataset_extracted/train_split/patient024/patient024_frame09_gt.nii has unexpected scales in sform\n",
      "\n",
      "WARNING: In /tmp/SimpleITK-build/ITK/Modules/IO/NIFTI/src/itkNiftiImageIO.cxx, line 2008\n",
      "NiftiImageIO (0x55c7d916dc30): ../dataset/dataset_extracted/train_split/patient024/patient024_frame09_gt.nii has unexpected scales in sform\n",
      "\n",
      "WARNING: In /tmp/SimpleITK-build/ITK/Modules/IO/NIFTI/src/itkNiftiImageIO.cxx, line 2008\n",
      "NiftiImageIO (0x55c7d916dc30): ../dataset/dataset_extracted/train_split/patient041/patient041_frame01.nii has unexpected scales in sform\n",
      "\n",
      "WARNING: In /tmp/SimpleITK-build/ITK/Modules/IO/NIFTI/src/itkNiftiImageIO.cxx, line 2008\n",
      "NiftiImageIO (0x55c7d916dc30): ../dataset/dataset_extracted/train_split/patient041/patient041_frame01.nii has unexpected scales in sform\n",
      "\n",
      "WARNING: In /tmp/SimpleITK-build/ITK/Modules/IO/NIFTI/src/itkNiftiImageIO.cxx, line 2008\n",
      "NiftiImageIO (0x55c7d916dc30): ../dataset/dataset_extracted/train_split/patient041/patient041_frame01_gt.nii has unexpected scales in sform\n",
      "\n",
      "WARNING: In /tmp/SimpleITK-build/ITK/Modules/IO/NIFTI/src/itkNiftiImageIO.cxx, line 2008\n",
      "NiftiImageIO (0x55c7d916dc30): ../dataset/dataset_extracted/train_split/patient041/patient041_frame01_gt.nii has unexpected scales in sform\n",
      "\n"
     ]
    },
    {
     "name": "stdout",
     "output_type": "stream",
     "text": [
      "Resampling: ../dataset/dataset_extracted/train_split/patient041/patient041_frame01.nii\n",
      "Resampling: ../dataset/dataset_extracted/train_split/patient041/patient041_frame01_gt.nii\n",
      "Resampling: ../dataset/dataset_extracted/train_split/patient041/patient041_frame11.nii\n"
     ]
    },
    {
     "name": "stderr",
     "output_type": "stream",
     "text": [
      "WARNING: In /tmp/SimpleITK-build/ITK/Modules/IO/NIFTI/src/itkNiftiImageIO.cxx, line 2008\n",
      "NiftiImageIO (0x55c7d916dc30): ../dataset/dataset_extracted/train_split/patient041/patient041_frame11.nii has unexpected scales in sform\n",
      "\n",
      "WARNING: In /tmp/SimpleITK-build/ITK/Modules/IO/NIFTI/src/itkNiftiImageIO.cxx, line 2008\n",
      "NiftiImageIO (0x55c7d916dc30): ../dataset/dataset_extracted/train_split/patient041/patient041_frame11.nii has unexpected scales in sform\n",
      "\n",
      "WARNING: In /tmp/SimpleITK-build/ITK/Modules/IO/NIFTI/src/itkNiftiImageIO.cxx, line 2008\n",
      "NiftiImageIO (0x55c7d916dc30): ../dataset/dataset_extracted/train_split/patient041/patient041_frame11_gt.nii has unexpected scales in sform\n",
      "\n",
      "WARNING: In /tmp/SimpleITK-build/ITK/Modules/IO/NIFTI/src/itkNiftiImageIO.cxx, line 2008\n",
      "NiftiImageIO (0x55c7d916dc30): ../dataset/dataset_extracted/train_split/patient041/patient041_frame11_gt.nii has unexpected scales in sform\n",
      "\n",
      "WARNING: In /tmp/SimpleITK-build/ITK/Modules/IO/NIFTI/src/itkNiftiImageIO.cxx, line 2008\n",
      "NiftiImageIO (0x55c7d916dc30): ../dataset/dataset_extracted/train_split/patient042/patient042_frame01.nii has unexpected scales in sform\n",
      "\n",
      "WARNING: In /tmp/SimpleITK-build/ITK/Modules/IO/NIFTI/src/itkNiftiImageIO.cxx, line 2008\n",
      "NiftiImageIO (0x55c7d916dc30): ../dataset/dataset_extracted/train_split/patient042/patient042_frame01.nii has unexpected scales in sform\n",
      "\n"
     ]
    },
    {
     "name": "stdout",
     "output_type": "stream",
     "text": [
      "Resampling: ../dataset/dataset_extracted/train_split/patient041/patient041_frame11_gt.nii\n",
      "Resampling: ../dataset/dataset_extracted/train_split/patient042/patient042_frame01.nii\n"
     ]
    },
    {
     "name": "stderr",
     "output_type": "stream",
     "text": [
      "WARNING: In /tmp/SimpleITK-build/ITK/Modules/IO/NIFTI/src/itkNiftiImageIO.cxx, line 2008\n",
      "NiftiImageIO (0x55c7d916dc30): ../dataset/dataset_extracted/train_split/patient042/patient042_frame01_gt.nii has unexpected scales in sform\n",
      "\n",
      "WARNING: In /tmp/SimpleITK-build/ITK/Modules/IO/NIFTI/src/itkNiftiImageIO.cxx, line 2008\n",
      "NiftiImageIO (0x55c7d916dc30): ../dataset/dataset_extracted/train_split/patient042/patient042_frame01_gt.nii has unexpected scales in sform\n",
      "\n",
      "WARNING: In /tmp/SimpleITK-build/ITK/Modules/IO/NIFTI/src/itkNiftiImageIO.cxx, line 2008\n",
      "NiftiImageIO (0x55c7d916dc30): ../dataset/dataset_extracted/train_split/patient042/patient042_frame16.nii has unexpected scales in sform\n",
      "\n",
      "WARNING: In /tmp/SimpleITK-build/ITK/Modules/IO/NIFTI/src/itkNiftiImageIO.cxx, line 2008\n",
      "NiftiImageIO (0x55c7d916dc30): ../dataset/dataset_extracted/train_split/patient042/patient042_frame16.nii has unexpected scales in sform\n",
      "\n",
      "WARNING: In /tmp/SimpleITK-build/ITK/Modules/IO/NIFTI/src/itkNiftiImageIO.cxx, line 2008\n",
      "NiftiImageIO (0x55c7d916dc30): ../dataset/dataset_extracted/train_split/patient042/patient042_frame16_gt.nii has unexpected scales in sform\n",
      "\n",
      "WARNING: In /tmp/SimpleITK-build/ITK/Modules/IO/NIFTI/src/itkNiftiImageIO.cxx, line 2008\n",
      "NiftiImageIO (0x55c7d916dc30): ../dataset/dataset_extracted/train_split/patient042/patient042_frame16_gt.nii has unexpected scales in sform\n",
      "\n"
     ]
    },
    {
     "name": "stdout",
     "output_type": "stream",
     "text": [
      "Resampling: ../dataset/dataset_extracted/train_split/patient042/patient042_frame01_gt.nii\n",
      "Resampling: ../dataset/dataset_extracted/train_split/patient042/patient042_frame16.nii\n",
      "Resampling: ../dataset/dataset_extracted/train_split/patient042/patient042_frame16_gt.nii\n"
     ]
    },
    {
     "name": "stderr",
     "output_type": "stream",
     "text": [
      "WARNING: In /tmp/SimpleITK-build/ITK/Modules/IO/NIFTI/src/itkNiftiImageIO.cxx, line 2008\n",
      "NiftiImageIO (0x55c7d916dc30): ../dataset/dataset_extracted/train_split/patient019/patient019_frame01.nii has unexpected scales in sform\n",
      "\n",
      "WARNING: In /tmp/SimpleITK-build/ITK/Modules/IO/NIFTI/src/itkNiftiImageIO.cxx, line 2008\n",
      "NiftiImageIO (0x55c7d916dc30): ../dataset/dataset_extracted/train_split/patient019/patient019_frame01.nii has unexpected scales in sform\n",
      "\n",
      "WARNING: In /tmp/SimpleITK-build/ITK/Modules/IO/NIFTI/src/itkNiftiImageIO.cxx, line 2008\n",
      "NiftiImageIO (0x55c7d916dc30): ../dataset/dataset_extracted/train_split/patient019/patient019_frame01_gt.nii has unexpected scales in sform\n",
      "\n",
      "WARNING: In /tmp/SimpleITK-build/ITK/Modules/IO/NIFTI/src/itkNiftiImageIO.cxx, line 2008\n",
      "NiftiImageIO (0x55c7d916dc30): ../dataset/dataset_extracted/train_split/patient019/patient019_frame01_gt.nii has unexpected scales in sform\n",
      "\n"
     ]
    },
    {
     "name": "stdout",
     "output_type": "stream",
     "text": [
      "Resampling: ../dataset/dataset_extracted/train_split/patient019/patient019_frame01.nii\n",
      "Resampling: ../dataset/dataset_extracted/train_split/patient019/patient019_frame01_gt.nii\n"
     ]
    },
    {
     "name": "stderr",
     "output_type": "stream",
     "text": [
      "WARNING: In /tmp/SimpleITK-build/ITK/Modules/IO/NIFTI/src/itkNiftiImageIO.cxx, line 2008\n",
      "NiftiImageIO (0x55c7d916dc30): ../dataset/dataset_extracted/train_split/patient019/patient019_frame11.nii has unexpected scales in sform\n",
      "\n",
      "WARNING: In /tmp/SimpleITK-build/ITK/Modules/IO/NIFTI/src/itkNiftiImageIO.cxx, line 2008\n",
      "NiftiImageIO (0x55c7d916dc30): ../dataset/dataset_extracted/train_split/patient019/patient019_frame11.nii has unexpected scales in sform\n",
      "\n",
      "WARNING: In /tmp/SimpleITK-build/ITK/Modules/IO/NIFTI/src/itkNiftiImageIO.cxx, line 2008\n",
      "NiftiImageIO (0x55c7d916dc30): ../dataset/dataset_extracted/train_split/patient019/patient019_frame11_gt.nii has unexpected scales in sform\n",
      "\n",
      "WARNING: In /tmp/SimpleITK-build/ITK/Modules/IO/NIFTI/src/itkNiftiImageIO.cxx, line 2008\n",
      "NiftiImageIO (0x55c7d916dc30): ../dataset/dataset_extracted/train_split/patient019/patient019_frame11_gt.nii has unexpected scales in sform\n",
      "\n"
     ]
    },
    {
     "name": "stdout",
     "output_type": "stream",
     "text": [
      "Resampling: ../dataset/dataset_extracted/train_split/patient019/patient019_frame11.nii\n",
      "Resampling: ../dataset/dataset_extracted/train_split/patient019/patient019_frame11_gt.nii\n"
     ]
    },
    {
     "name": "stderr",
     "output_type": "stream",
     "text": [
      "WARNING: In /tmp/SimpleITK-build/ITK/Modules/IO/NIFTI/src/itkNiftiImageIO.cxx, line 2008\n",
      "NiftiImageIO (0x55c7d916dc30): ../dataset/dataset_extracted/train_split/patient081/patient081_frame01.nii has unexpected scales in sform\n",
      "\n",
      "WARNING: In /tmp/SimpleITK-build/ITK/Modules/IO/NIFTI/src/itkNiftiImageIO.cxx, line 2008\n",
      "NiftiImageIO (0x55c7d916dc30): ../dataset/dataset_extracted/train_split/patient081/patient081_frame01.nii has unexpected scales in sform\n",
      "\n",
      "WARNING: In /tmp/SimpleITK-build/ITK/Modules/IO/NIFTI/src/itkNiftiImageIO.cxx, line 2008\n",
      "NiftiImageIO (0x55c7d916dc30): ../dataset/dataset_extracted/train_split/patient081/patient081_frame01_gt.nii has unexpected scales in sform\n",
      "\n",
      "WARNING: In /tmp/SimpleITK-build/ITK/Modules/IO/NIFTI/src/itkNiftiImageIO.cxx, line 2008\n",
      "NiftiImageIO (0x55c7d916dc30): ../dataset/dataset_extracted/train_split/patient081/patient081_frame01_gt.nii has unexpected scales in sform\n",
      "\n"
     ]
    },
    {
     "name": "stdout",
     "output_type": "stream",
     "text": [
      "Resampling: ../dataset/dataset_extracted/train_split/patient081/patient081_frame01.nii\n",
      "Resampling: ../dataset/dataset_extracted/train_split/patient081/patient081_frame01_gt.nii\n"
     ]
    },
    {
     "name": "stderr",
     "output_type": "stream",
     "text": [
      "WARNING: In /tmp/SimpleITK-build/ITK/Modules/IO/NIFTI/src/itkNiftiImageIO.cxx, line 2008\n",
      "NiftiImageIO (0x55c7d916dc30): ../dataset/dataset_extracted/train_split/patient081/patient081_frame07.nii has unexpected scales in sform\n",
      "\n",
      "WARNING: In /tmp/SimpleITK-build/ITK/Modules/IO/NIFTI/src/itkNiftiImageIO.cxx, line 2008\n",
      "NiftiImageIO (0x55c7d916dc30): ../dataset/dataset_extracted/train_split/patient081/patient081_frame07.nii has unexpected scales in sform\n",
      "\n",
      "WARNING: In /tmp/SimpleITK-build/ITK/Modules/IO/NIFTI/src/itkNiftiImageIO.cxx, line 2008\n",
      "NiftiImageIO (0x55c7d916dc30): ../dataset/dataset_extracted/train_split/patient081/patient081_frame07_gt.nii has unexpected scales in sform\n",
      "\n",
      "WARNING: In /tmp/SimpleITK-build/ITK/Modules/IO/NIFTI/src/itkNiftiImageIO.cxx, line 2008\n",
      "NiftiImageIO (0x55c7d916dc30): ../dataset/dataset_extracted/train_split/patient081/patient081_frame07_gt.nii has unexpected scales in sform\n",
      "\n"
     ]
    },
    {
     "name": "stdout",
     "output_type": "stream",
     "text": [
      "Resampling: ../dataset/dataset_extracted/train_split/patient081/patient081_frame07.nii\n",
      "Resampling: ../dataset/dataset_extracted/train_split/patient081/patient081_frame07_gt.nii\n",
      "Resampling: ../dataset/dataset_extracted/train_split/patient073/patient073_frame01.nii\n"
     ]
    },
    {
     "name": "stderr",
     "output_type": "stream",
     "text": [
      "WARNING: In /tmp/SimpleITK-build/ITK/Modules/IO/NIFTI/src/itkNiftiImageIO.cxx, line 2008\n",
      "NiftiImageIO (0x55c7d916dc30): ../dataset/dataset_extracted/train_split/patient073/patient073_frame01.nii has unexpected scales in sform\n",
      "\n",
      "WARNING: In /tmp/SimpleITK-build/ITK/Modules/IO/NIFTI/src/itkNiftiImageIO.cxx, line 2008\n",
      "NiftiImageIO (0x55c7d916dc30): ../dataset/dataset_extracted/train_split/patient073/patient073_frame01.nii has unexpected scales in sform\n",
      "\n",
      "WARNING: In /tmp/SimpleITK-build/ITK/Modules/IO/NIFTI/src/itkNiftiImageIO.cxx, line 2008\n",
      "NiftiImageIO (0x55c7d916dc30): ../dataset/dataset_extracted/train_split/patient073/patient073_frame01_gt.nii has unexpected scales in sform\n",
      "\n",
      "WARNING: In /tmp/SimpleITK-build/ITK/Modules/IO/NIFTI/src/itkNiftiImageIO.cxx, line 2008\n",
      "NiftiImageIO (0x55c7d916dc30): ../dataset/dataset_extracted/train_split/patient073/patient073_frame01_gt.nii has unexpected scales in sform\n",
      "\n",
      "WARNING: In /tmp/SimpleITK-build/ITK/Modules/IO/NIFTI/src/itkNiftiImageIO.cxx, line 2008\n",
      "NiftiImageIO (0x55c7d916dc30): ../dataset/dataset_extracted/train_split/patient073/patient073_frame10.nii has unexpected scales in sform\n",
      "\n",
      "WARNING: In /tmp/SimpleITK-build/ITK/Modules/IO/NIFTI/src/itkNiftiImageIO.cxx, line 2008\n",
      "NiftiImageIO (0x55c7d916dc30): ../dataset/dataset_extracted/train_split/patient073/patient073_frame10.nii has unexpected scales in sform\n",
      "\n"
     ]
    },
    {
     "name": "stdout",
     "output_type": "stream",
     "text": [
      "Resampling: ../dataset/dataset_extracted/train_split/patient073/patient073_frame01_gt.nii\n",
      "Resampling: ../dataset/dataset_extracted/train_split/patient073/patient073_frame10.nii\n",
      "Resampling: ../dataset/dataset_extracted/train_split/patient073/patient073_frame10_gt.nii\n"
     ]
    },
    {
     "name": "stderr",
     "output_type": "stream",
     "text": [
      "WARNING: In /tmp/SimpleITK-build/ITK/Modules/IO/NIFTI/src/itkNiftiImageIO.cxx, line 2008\n",
      "NiftiImageIO (0x55c7d916dc30): ../dataset/dataset_extracted/train_split/patient073/patient073_frame10_gt.nii has unexpected scales in sform\n",
      "\n",
      "WARNING: In /tmp/SimpleITK-build/ITK/Modules/IO/NIFTI/src/itkNiftiImageIO.cxx, line 2008\n",
      "NiftiImageIO (0x55c7d916dc30): ../dataset/dataset_extracted/train_split/patient073/patient073_frame10_gt.nii has unexpected scales in sform\n",
      "\n",
      "WARNING: In /tmp/SimpleITK-build/ITK/Modules/IO/NIFTI/src/itkNiftiImageIO.cxx, line 2008\n",
      "NiftiImageIO (0x55c7d916dc30): ../dataset/dataset_extracted/train_split/patient059/patient059_frame01.nii has unexpected scales in sform\n",
      "\n",
      "WARNING: In /tmp/SimpleITK-build/ITK/Modules/IO/NIFTI/src/itkNiftiImageIO.cxx, line 2008\n",
      "NiftiImageIO (0x55c7d916dc30): ../dataset/dataset_extracted/train_split/patient059/patient059_frame01.nii has unexpected scales in sform\n",
      "\n"
     ]
    },
    {
     "name": "stdout",
     "output_type": "stream",
     "text": [
      "Resampling: ../dataset/dataset_extracted/train_split/patient059/patient059_frame01.nii\n",
      "Resampling: ../dataset/dataset_extracted/train_split/patient059/patient059_frame01_gt.nii\n"
     ]
    },
    {
     "name": "stderr",
     "output_type": "stream",
     "text": [
      "WARNING: In /tmp/SimpleITK-build/ITK/Modules/IO/NIFTI/src/itkNiftiImageIO.cxx, line 2008\n",
      "NiftiImageIO (0x55c7d916dc30): ../dataset/dataset_extracted/train_split/patient059/patient059_frame01_gt.nii has unexpected scales in sform\n",
      "\n",
      "WARNING: In /tmp/SimpleITK-build/ITK/Modules/IO/NIFTI/src/itkNiftiImageIO.cxx, line 2008\n",
      "NiftiImageIO (0x55c7d916dc30): ../dataset/dataset_extracted/train_split/patient059/patient059_frame01_gt.nii has unexpected scales in sform\n",
      "\n",
      "WARNING: In /tmp/SimpleITK-build/ITK/Modules/IO/NIFTI/src/itkNiftiImageIO.cxx, line 2008\n",
      "NiftiImageIO (0x55c7d916dc30): ../dataset/dataset_extracted/train_split/patient059/patient059_frame09.nii has unexpected scales in sform\n",
      "\n",
      "WARNING: In /tmp/SimpleITK-build/ITK/Modules/IO/NIFTI/src/itkNiftiImageIO.cxx, line 2008\n",
      "NiftiImageIO (0x55c7d916dc30): ../dataset/dataset_extracted/train_split/patient059/patient059_frame09.nii has unexpected scales in sform\n",
      "\n"
     ]
    },
    {
     "name": "stdout",
     "output_type": "stream",
     "text": [
      "Resampling: ../dataset/dataset_extracted/train_split/patient059/patient059_frame09.nii\n",
      "Resampling: ../dataset/dataset_extracted/train_split/patient059/patient059_frame09_gt.nii\n",
      "Resampling: ../dataset/dataset_extracted/train_split/patient008/patient008_frame01.nii\n"
     ]
    },
    {
     "name": "stderr",
     "output_type": "stream",
     "text": [
      "WARNING: In /tmp/SimpleITK-build/ITK/Modules/IO/NIFTI/src/itkNiftiImageIO.cxx, line 2008\n",
      "NiftiImageIO (0x55c7d916dc30): ../dataset/dataset_extracted/train_split/patient059/patient059_frame09_gt.nii has unexpected scales in sform\n",
      "\n",
      "WARNING: In /tmp/SimpleITK-build/ITK/Modules/IO/NIFTI/src/itkNiftiImageIO.cxx, line 2008\n",
      "NiftiImageIO (0x55c7d916dc30): ../dataset/dataset_extracted/train_split/patient059/patient059_frame09_gt.nii has unexpected scales in sform\n",
      "\n",
      "WARNING: In /tmp/SimpleITK-build/ITK/Modules/IO/NIFTI/src/itkNiftiImageIO.cxx, line 2008\n",
      "NiftiImageIO (0x55c7d916dc30): ../dataset/dataset_extracted/train_split/patient008/patient008_frame01.nii has unexpected scales in sform\n",
      "\n",
      "WARNING: In /tmp/SimpleITK-build/ITK/Modules/IO/NIFTI/src/itkNiftiImageIO.cxx, line 2008\n",
      "NiftiImageIO (0x55c7d916dc30): ../dataset/dataset_extracted/train_split/patient008/patient008_frame01.nii has unexpected scales in sform\n",
      "\n",
      "WARNING: In /tmp/SimpleITK-build/ITK/Modules/IO/NIFTI/src/itkNiftiImageIO.cxx, line 2008\n",
      "NiftiImageIO (0x55c7d916dc30): ../dataset/dataset_extracted/train_split/patient008/patient008_frame01_gt.nii has unexpected scales in sform\n",
      "\n",
      "WARNING: In /tmp/SimpleITK-build/ITK/Modules/IO/NIFTI/src/itkNiftiImageIO.cxx, line 2008\n",
      "NiftiImageIO (0x55c7d916dc30): ../dataset/dataset_extracted/train_split/patient008/patient008_frame01_gt.nii has unexpected scales in sform\n",
      "\n"
     ]
    },
    {
     "name": "stdout",
     "output_type": "stream",
     "text": [
      "Resampling: ../dataset/dataset_extracted/train_split/patient008/patient008_frame01_gt.nii\n",
      "Resampling: ../dataset/dataset_extracted/train_split/patient008/patient008_frame13.nii\n",
      "Resampling: ../dataset/dataset_extracted/train_split/patient008/patient008_frame13_gt.nii\n"
     ]
    },
    {
     "name": "stderr",
     "output_type": "stream",
     "text": [
      "WARNING: In /tmp/SimpleITK-build/ITK/Modules/IO/NIFTI/src/itkNiftiImageIO.cxx, line 2008\n",
      "NiftiImageIO (0x55c7d916dc30): ../dataset/dataset_extracted/train_split/patient008/patient008_frame13.nii has unexpected scales in sform\n",
      "\n",
      "WARNING: In /tmp/SimpleITK-build/ITK/Modules/IO/NIFTI/src/itkNiftiImageIO.cxx, line 2008\n",
      "NiftiImageIO (0x55c7d916dc30): ../dataset/dataset_extracted/train_split/patient008/patient008_frame13.nii has unexpected scales in sform\n",
      "\n",
      "WARNING: In /tmp/SimpleITK-build/ITK/Modules/IO/NIFTI/src/itkNiftiImageIO.cxx, line 2008\n",
      "NiftiImageIO (0x55c7d916dc30): ../dataset/dataset_extracted/train_split/patient008/patient008_frame13_gt.nii has unexpected scales in sform\n",
      "\n",
      "WARNING: In /tmp/SimpleITK-build/ITK/Modules/IO/NIFTI/src/itkNiftiImageIO.cxx, line 2008\n",
      "NiftiImageIO (0x55c7d916dc30): ../dataset/dataset_extracted/train_split/patient008/patient008_frame13_gt.nii has unexpected scales in sform\n",
      "\n",
      "WARNING: In /tmp/SimpleITK-build/ITK/Modules/IO/NIFTI/src/itkNiftiImageIO.cxx, line 2008\n",
      "NiftiImageIO (0x55c7d916dc30): ../dataset/dataset_extracted/train_split/patient035/patient035_frame01.nii has unexpected scales in sform\n",
      "\n",
      "WARNING: In /tmp/SimpleITK-build/ITK/Modules/IO/NIFTI/src/itkNiftiImageIO.cxx, line 2008\n",
      "NiftiImageIO (0x55c7d916dc30): ../dataset/dataset_extracted/train_split/patient035/patient035_frame01.nii has unexpected scales in sform\n",
      "\n",
      "WARNING: In /tmp/SimpleITK-build/ITK/Modules/IO/NIFTI/src/itkNiftiImageIO.cxx, line 2008\n",
      "NiftiImageIO (0x55c7d916dc30): ../dataset/dataset_extracted/train_split/patient035/patient035_frame01_gt.nii has unexpected scales in sform\n",
      "\n",
      "WARNING: In /tmp/SimpleITK-build/ITK/Modules/IO/NIFTI/src/itkNiftiImageIO.cxx, line 2008\n",
      "NiftiImageIO (0x55c7d916dc30): ../dataset/dataset_extracted/train_split/patient035/patient035_frame01_gt.nii has unexpected scales in sform\n",
      "\n"
     ]
    },
    {
     "name": "stdout",
     "output_type": "stream",
     "text": [
      "Resampling: ../dataset/dataset_extracted/train_split/patient035/patient035_frame01.nii\n",
      "Resampling: ../dataset/dataset_extracted/train_split/patient035/patient035_frame01_gt.nii\n"
     ]
    },
    {
     "name": "stderr",
     "output_type": "stream",
     "text": [
      "WARNING: In /tmp/SimpleITK-build/ITK/Modules/IO/NIFTI/src/itkNiftiImageIO.cxx, line 2008\n",
      "NiftiImageIO (0x55c7d916dc30): ../dataset/dataset_extracted/train_split/patient035/patient035_frame11.nii has unexpected scales in sform\n",
      "\n",
      "WARNING: In /tmp/SimpleITK-build/ITK/Modules/IO/NIFTI/src/itkNiftiImageIO.cxx, line 2008\n",
      "NiftiImageIO (0x55c7d916dc30): ../dataset/dataset_extracted/train_split/patient035/patient035_frame11.nii has unexpected scales in sform\n",
      "\n",
      "WARNING: In /tmp/SimpleITK-build/ITK/Modules/IO/NIFTI/src/itkNiftiImageIO.cxx, line 2008\n",
      "NiftiImageIO (0x55c7d916dc30): ../dataset/dataset_extracted/train_split/patient035/patient035_frame11_gt.nii has unexpected scales in sform\n",
      "\n",
      "WARNING: In /tmp/SimpleITK-build/ITK/Modules/IO/NIFTI/src/itkNiftiImageIO.cxx, line 2008\n",
      "NiftiImageIO (0x55c7d916dc30): ../dataset/dataset_extracted/train_split/patient035/patient035_frame11_gt.nii has unexpected scales in sform\n",
      "\n"
     ]
    },
    {
     "name": "stdout",
     "output_type": "stream",
     "text": [
      "Resampling: ../dataset/dataset_extracted/train_split/patient035/patient035_frame11.nii\n",
      "Resampling: ../dataset/dataset_extracted/train_split/patient035/patient035_frame11_gt.nii\n"
     ]
    },
    {
     "name": "stderr",
     "output_type": "stream",
     "text": [
      "WARNING: In /tmp/SimpleITK-build/ITK/Modules/IO/NIFTI/src/itkNiftiImageIO.cxx, line 2008\n",
      "NiftiImageIO (0x55c7d916dc30): ../dataset/dataset_extracted/train_split/patient082/patient082_frame01.nii has unexpected scales in sform\n",
      "\n",
      "WARNING: In /tmp/SimpleITK-build/ITK/Modules/IO/NIFTI/src/itkNiftiImageIO.cxx, line 2008\n",
      "NiftiImageIO (0x55c7d916dc30): ../dataset/dataset_extracted/train_split/patient082/patient082_frame01.nii has unexpected scales in sform\n",
      "\n",
      "WARNING: In /tmp/SimpleITK-build/ITK/Modules/IO/NIFTI/src/itkNiftiImageIO.cxx, line 2008\n",
      "NiftiImageIO (0x55c7d916dc30): ../dataset/dataset_extracted/train_split/patient082/patient082_frame01_gt.nii has unexpected scales in sform\n",
      "\n",
      "WARNING: In /tmp/SimpleITK-build/ITK/Modules/IO/NIFTI/src/itkNiftiImageIO.cxx, line 2008\n",
      "NiftiImageIO (0x55c7d916dc30): ../dataset/dataset_extracted/train_split/patient082/patient082_frame01_gt.nii has unexpected scales in sform\n",
      "\n"
     ]
    },
    {
     "name": "stdout",
     "output_type": "stream",
     "text": [
      "Resampling: ../dataset/dataset_extracted/train_split/patient082/patient082_frame01.nii\n",
      "Resampling: ../dataset/dataset_extracted/train_split/patient082/patient082_frame01_gt.nii\n"
     ]
    },
    {
     "name": "stderr",
     "output_type": "stream",
     "text": [
      "WARNING: In /tmp/SimpleITK-build/ITK/Modules/IO/NIFTI/src/itkNiftiImageIO.cxx, line 2008\n",
      "NiftiImageIO (0x55c7d916dc30): ../dataset/dataset_extracted/train_split/patient082/patient082_frame07.nii has unexpected scales in sform\n",
      "\n",
      "WARNING: In /tmp/SimpleITK-build/ITK/Modules/IO/NIFTI/src/itkNiftiImageIO.cxx, line 2008\n",
      "NiftiImageIO (0x55c7d916dc30): ../dataset/dataset_extracted/train_split/patient082/patient082_frame07.nii has unexpected scales in sform\n",
      "\n",
      "WARNING: In /tmp/SimpleITK-build/ITK/Modules/IO/NIFTI/src/itkNiftiImageIO.cxx, line 2008\n",
      "NiftiImageIO (0x55c7d916dc30): ../dataset/dataset_extracted/train_split/patient082/patient082_frame07_gt.nii has unexpected scales in sform\n",
      "\n",
      "WARNING: In /tmp/SimpleITK-build/ITK/Modules/IO/NIFTI/src/itkNiftiImageIO.cxx, line 2008\n",
      "NiftiImageIO (0x55c7d916dc30): ../dataset/dataset_extracted/train_split/patient082/patient082_frame07_gt.nii has unexpected scales in sform\n",
      "\n"
     ]
    },
    {
     "name": "stdout",
     "output_type": "stream",
     "text": [
      "Resampling: ../dataset/dataset_extracted/train_split/patient082/patient082_frame07.nii\n",
      "Resampling: ../dataset/dataset_extracted/train_split/patient082/patient082_frame07_gt.nii\n"
     ]
    },
    {
     "name": "stderr",
     "output_type": "stream",
     "text": [
      "WARNING: In /tmp/SimpleITK-build/ITK/Modules/IO/NIFTI/src/itkNiftiImageIO.cxx, line 2008\n",
      "NiftiImageIO (0x55c7d916dc30): ../dataset/dataset_extracted/train_split/patient048/patient048_frame01.nii has unexpected scales in sform\n",
      "\n",
      "WARNING: In /tmp/SimpleITK-build/ITK/Modules/IO/NIFTI/src/itkNiftiImageIO.cxx, line 2008\n",
      "NiftiImageIO (0x55c7d916dc30): ../dataset/dataset_extracted/train_split/patient048/patient048_frame01.nii has unexpected scales in sform\n",
      "\n",
      "WARNING: In /tmp/SimpleITK-build/ITK/Modules/IO/NIFTI/src/itkNiftiImageIO.cxx, line 2008\n",
      "NiftiImageIO (0x55c7d916dc30): ../dataset/dataset_extracted/train_split/patient048/patient048_frame01_gt.nii has unexpected scales in sform\n",
      "\n",
      "WARNING: In /tmp/SimpleITK-build/ITK/Modules/IO/NIFTI/src/itkNiftiImageIO.cxx, line 2008\n",
      "NiftiImageIO (0x55c7d916dc30): ../dataset/dataset_extracted/train_split/patient048/patient048_frame01_gt.nii has unexpected scales in sform\n",
      "\n"
     ]
    },
    {
     "name": "stdout",
     "output_type": "stream",
     "text": [
      "Resampling: ../dataset/dataset_extracted/train_split/patient048/patient048_frame01.nii\n",
      "Resampling: ../dataset/dataset_extracted/train_split/patient048/patient048_frame01_gt.nii\n"
     ]
    },
    {
     "name": "stderr",
     "output_type": "stream",
     "text": [
      "WARNING: In /tmp/SimpleITK-build/ITK/Modules/IO/NIFTI/src/itkNiftiImageIO.cxx, line 2008\n",
      "NiftiImageIO (0x55c7d916dc30): ../dataset/dataset_extracted/train_split/patient048/patient048_frame08.nii has unexpected scales in sform\n",
      "\n",
      "WARNING: In /tmp/SimpleITK-build/ITK/Modules/IO/NIFTI/src/itkNiftiImageIO.cxx, line 2008\n",
      "NiftiImageIO (0x55c7d916dc30): ../dataset/dataset_extracted/train_split/patient048/patient048_frame08.nii has unexpected scales in sform\n",
      "\n",
      "WARNING: In /tmp/SimpleITK-build/ITK/Modules/IO/NIFTI/src/itkNiftiImageIO.cxx, line 2008\n",
      "NiftiImageIO (0x55c7d916dc30): ../dataset/dataset_extracted/train_split/patient048/patient048_frame08_gt.nii has unexpected scales in sform\n",
      "\n",
      "WARNING: In /tmp/SimpleITK-build/ITK/Modules/IO/NIFTI/src/itkNiftiImageIO.cxx, line 2008\n",
      "NiftiImageIO (0x55c7d916dc30): ../dataset/dataset_extracted/train_split/patient048/patient048_frame08_gt.nii has unexpected scales in sform\n",
      "\n",
      "WARNING: In /tmp/SimpleITK-build/ITK/Modules/IO/NIFTI/src/itkNiftiImageIO.cxx, line 2008\n",
      "NiftiImageIO (0x55c7d916dc30): ../dataset/dataset_extracted/train_split/patient003/patient003_frame01.nii has unexpected scales in sform\n",
      "\n",
      "WARNING: In /tmp/SimpleITK-build/ITK/Modules/IO/NIFTI/src/itkNiftiImageIO.cxx, line 2008\n",
      "NiftiImageIO (0x55c7d916dc30): ../dataset/dataset_extracted/train_split/patient003/patient003_frame01.nii has unexpected scales in sform\n",
      "\n"
     ]
    },
    {
     "name": "stdout",
     "output_type": "stream",
     "text": [
      "Resampling: ../dataset/dataset_extracted/train_split/patient048/patient048_frame08.nii\n",
      "Resampling: ../dataset/dataset_extracted/train_split/patient048/patient048_frame08_gt.nii\n",
      "Resampling: ../dataset/dataset_extracted/train_split/patient003/patient003_frame01.nii\n"
     ]
    },
    {
     "name": "stderr",
     "output_type": "stream",
     "text": [
      "WARNING: In /tmp/SimpleITK-build/ITK/Modules/IO/NIFTI/src/itkNiftiImageIO.cxx, line 2008\n",
      "NiftiImageIO (0x55c7d916dc30): ../dataset/dataset_extracted/train_split/patient003/patient003_frame01_gt.nii has unexpected scales in sform\n",
      "\n",
      "WARNING: In /tmp/SimpleITK-build/ITK/Modules/IO/NIFTI/src/itkNiftiImageIO.cxx, line 2008\n",
      "NiftiImageIO (0x55c7d916dc30): ../dataset/dataset_extracted/train_split/patient003/patient003_frame01_gt.nii has unexpected scales in sform\n",
      "\n",
      "WARNING: In /tmp/SimpleITK-build/ITK/Modules/IO/NIFTI/src/itkNiftiImageIO.cxx, line 2008\n",
      "NiftiImageIO (0x55c7d916dc30): ../dataset/dataset_extracted/train_split/patient003/patient003_frame15.nii has unexpected scales in sform\n",
      "\n",
      "WARNING: In /tmp/SimpleITK-build/ITK/Modules/IO/NIFTI/src/itkNiftiImageIO.cxx, line 2008\n",
      "NiftiImageIO (0x55c7d916dc30): ../dataset/dataset_extracted/train_split/patient003/patient003_frame15.nii has unexpected scales in sform\n",
      "\n",
      "WARNING: In /tmp/SimpleITK-build/ITK/Modules/IO/NIFTI/src/itkNiftiImageIO.cxx, line 2008\n",
      "NiftiImageIO (0x55c7d916dc30): ../dataset/dataset_extracted/train_split/patient003/patient003_frame15_gt.nii has unexpected scales in sform\n",
      "\n",
      "WARNING: In /tmp/SimpleITK-build/ITK/Modules/IO/NIFTI/src/itkNiftiImageIO.cxx, line 2008\n",
      "NiftiImageIO (0x55c7d916dc30): ../dataset/dataset_extracted/train_split/patient003/patient003_frame15_gt.nii has unexpected scales in sform\n",
      "\n"
     ]
    },
    {
     "name": "stdout",
     "output_type": "stream",
     "text": [
      "Resampling: ../dataset/dataset_extracted/train_split/patient003/patient003_frame01_gt.nii\n",
      "Resampling: ../dataset/dataset_extracted/train_split/patient003/patient003_frame15.nii\n",
      "Resampling: ../dataset/dataset_extracted/train_split/patient003/patient003_frame15_gt.nii\n"
     ]
    },
    {
     "name": "stderr",
     "output_type": "stream",
     "text": [
      "WARNING: In /tmp/SimpleITK-build/ITK/Modules/IO/NIFTI/src/itkNiftiImageIO.cxx, line 2008\n",
      "NiftiImageIO (0x55c7d916dc30): ../dataset/dataset_extracted/train_split/patient017/patient017_frame01.nii has unexpected scales in sform\n",
      "\n",
      "WARNING: In /tmp/SimpleITK-build/ITK/Modules/IO/NIFTI/src/itkNiftiImageIO.cxx, line 2008\n",
      "NiftiImageIO (0x55c7d916dc30): ../dataset/dataset_extracted/train_split/patient017/patient017_frame01.nii has unexpected scales in sform\n",
      "\n",
      "WARNING: In /tmp/SimpleITK-build/ITK/Modules/IO/NIFTI/src/itkNiftiImageIO.cxx, line 2008\n",
      "NiftiImageIO (0x55c7d916dc30): ../dataset/dataset_extracted/train_split/patient017/patient017_frame01_gt.nii has unexpected scales in sform\n",
      "\n",
      "WARNING: In /tmp/SimpleITK-build/ITK/Modules/IO/NIFTI/src/itkNiftiImageIO.cxx, line 2008\n",
      "NiftiImageIO (0x55c7d916dc30): ../dataset/dataset_extracted/train_split/patient017/patient017_frame01_gt.nii has unexpected scales in sform\n",
      "\n"
     ]
    },
    {
     "name": "stdout",
     "output_type": "stream",
     "text": [
      "Resampling: ../dataset/dataset_extracted/train_split/patient017/patient017_frame01.nii\n",
      "Resampling: ../dataset/dataset_extracted/train_split/patient017/patient017_frame01_gt.nii\n"
     ]
    },
    {
     "name": "stderr",
     "output_type": "stream",
     "text": [
      "WARNING: In /tmp/SimpleITK-build/ITK/Modules/IO/NIFTI/src/itkNiftiImageIO.cxx, line 2008\n",
      "NiftiImageIO (0x55c7d916dc30): ../dataset/dataset_extracted/train_split/patient017/patient017_frame09.nii has unexpected scales in sform\n",
      "\n",
      "WARNING: In /tmp/SimpleITK-build/ITK/Modules/IO/NIFTI/src/itkNiftiImageIO.cxx, line 2008\n",
      "NiftiImageIO (0x55c7d916dc30): ../dataset/dataset_extracted/train_split/patient017/patient017_frame09.nii has unexpected scales in sform\n",
      "\n",
      "WARNING: In /tmp/SimpleITK-build/ITK/Modules/IO/NIFTI/src/itkNiftiImageIO.cxx, line 2008\n",
      "NiftiImageIO (0x55c7d916dc30): ../dataset/dataset_extracted/train_split/patient017/patient017_frame09_gt.nii has unexpected scales in sform\n",
      "\n",
      "WARNING: In /tmp/SimpleITK-build/ITK/Modules/IO/NIFTI/src/itkNiftiImageIO.cxx, line 2008\n",
      "NiftiImageIO (0x55c7d916dc30): ../dataset/dataset_extracted/train_split/patient017/patient017_frame09_gt.nii has unexpected scales in sform\n",
      "\n"
     ]
    },
    {
     "name": "stdout",
     "output_type": "stream",
     "text": [
      "Resampling: ../dataset/dataset_extracted/train_split/patient017/patient017_frame09.nii\n",
      "Resampling: ../dataset/dataset_extracted/train_split/patient017/patient017_frame09_gt.nii\n"
     ]
    },
    {
     "name": "stderr",
     "output_type": "stream",
     "text": [
      "WARNING: In /tmp/SimpleITK-build/ITK/Modules/IO/NIFTI/src/itkNiftiImageIO.cxx, line 2008\n",
      "NiftiImageIO (0x55c7d916dc30): ../dataset/dataset_extracted/train_split/patient040/patient040_frame01.nii has unexpected scales in sform\n",
      "\n",
      "WARNING: In /tmp/SimpleITK-build/ITK/Modules/IO/NIFTI/src/itkNiftiImageIO.cxx, line 2008\n",
      "NiftiImageIO (0x55c7d916dc30): ../dataset/dataset_extracted/train_split/patient040/patient040_frame01.nii has unexpected scales in sform\n",
      "\n",
      "WARNING: In /tmp/SimpleITK-build/ITK/Modules/IO/NIFTI/src/itkNiftiImageIO.cxx, line 2008\n",
      "NiftiImageIO (0x55c7d916dc30): ../dataset/dataset_extracted/train_split/patient040/patient040_frame01_gt.nii has unexpected scales in sform\n",
      "\n",
      "WARNING: In /tmp/SimpleITK-build/ITK/Modules/IO/NIFTI/src/itkNiftiImageIO.cxx, line 2008\n",
      "NiftiImageIO (0x55c7d916dc30): ../dataset/dataset_extracted/train_split/patient040/patient040_frame01_gt.nii has unexpected scales in sform\n",
      "\n"
     ]
    },
    {
     "name": "stdout",
     "output_type": "stream",
     "text": [
      "Resampling: ../dataset/dataset_extracted/train_split/patient040/patient040_frame01.nii\n",
      "Resampling: ../dataset/dataset_extracted/train_split/patient040/patient040_frame01_gt.nii\n"
     ]
    },
    {
     "name": "stderr",
     "output_type": "stream",
     "text": [
      "WARNING: In /tmp/SimpleITK-build/ITK/Modules/IO/NIFTI/src/itkNiftiImageIO.cxx, line 2008\n",
      "NiftiImageIO (0x55c7d916dc30): ../dataset/dataset_extracted/train_split/patient040/patient040_frame13.nii has unexpected scales in sform\n",
      "\n",
      "WARNING: In /tmp/SimpleITK-build/ITK/Modules/IO/NIFTI/src/itkNiftiImageIO.cxx, line 2008\n",
      "NiftiImageIO (0x55c7d916dc30): ../dataset/dataset_extracted/train_split/patient040/patient040_frame13.nii has unexpected scales in sform\n",
      "\n",
      "WARNING: In /tmp/SimpleITK-build/ITK/Modules/IO/NIFTI/src/itkNiftiImageIO.cxx, line 2008\n",
      "NiftiImageIO (0x55c7d916dc30): ../dataset/dataset_extracted/train_split/patient040/patient040_frame13_gt.nii has unexpected scales in sform\n",
      "\n",
      "WARNING: In /tmp/SimpleITK-build/ITK/Modules/IO/NIFTI/src/itkNiftiImageIO.cxx, line 2008\n",
      "NiftiImageIO (0x55c7d916dc30): ../dataset/dataset_extracted/train_split/patient040/patient040_frame13_gt.nii has unexpected scales in sform\n",
      "\n"
     ]
    },
    {
     "name": "stdout",
     "output_type": "stream",
     "text": [
      "Resampling: ../dataset/dataset_extracted/train_split/patient040/patient040_frame13.nii\n",
      "Resampling: ../dataset/dataset_extracted/train_split/patient040/patient040_frame13_gt.nii\n"
     ]
    },
    {
     "name": "stderr",
     "output_type": "stream",
     "text": [
      "WARNING: In /tmp/SimpleITK-build/ITK/Modules/IO/NIFTI/src/itkNiftiImageIO.cxx, line 2008\n",
      "NiftiImageIO (0x55c7d916dc30): ../dataset/dataset_extracted/train_split/patient069/patient069_frame01.nii has unexpected scales in sform\n",
      "\n",
      "WARNING: In /tmp/SimpleITK-build/ITK/Modules/IO/NIFTI/src/itkNiftiImageIO.cxx, line 2008\n",
      "NiftiImageIO (0x55c7d916dc30): ../dataset/dataset_extracted/train_split/patient069/patient069_frame01.nii has unexpected scales in sform\n",
      "\n",
      "WARNING: In /tmp/SimpleITK-build/ITK/Modules/IO/NIFTI/src/itkNiftiImageIO.cxx, line 2008\n",
      "NiftiImageIO (0x55c7d916dc30): ../dataset/dataset_extracted/train_split/patient069/patient069_frame01_gt.nii has unexpected scales in sform\n",
      "\n",
      "WARNING: In /tmp/SimpleITK-build/ITK/Modules/IO/NIFTI/src/itkNiftiImageIO.cxx, line 2008\n",
      "NiftiImageIO (0x55c7d916dc30): ../dataset/dataset_extracted/train_split/patient069/patient069_frame01_gt.nii has unexpected scales in sform\n",
      "\n"
     ]
    },
    {
     "name": "stdout",
     "output_type": "stream",
     "text": [
      "Resampling: ../dataset/dataset_extracted/train_split/patient069/patient069_frame01.nii\n",
      "Resampling: ../dataset/dataset_extracted/train_split/patient069/patient069_frame01_gt.nii\n"
     ]
    },
    {
     "name": "stderr",
     "output_type": "stream",
     "text": [
      "WARNING: In /tmp/SimpleITK-build/ITK/Modules/IO/NIFTI/src/itkNiftiImageIO.cxx, line 2008\n",
      "NiftiImageIO (0x55c7d916dc30): ../dataset/dataset_extracted/train_split/patient069/patient069_frame12.nii has unexpected scales in sform\n",
      "\n",
      "WARNING: In /tmp/SimpleITK-build/ITK/Modules/IO/NIFTI/src/itkNiftiImageIO.cxx, line 2008\n",
      "NiftiImageIO (0x55c7d916dc30): ../dataset/dataset_extracted/train_split/patient069/patient069_frame12.nii has unexpected scales in sform\n",
      "\n",
      "WARNING: In /tmp/SimpleITK-build/ITK/Modules/IO/NIFTI/src/itkNiftiImageIO.cxx, line 2008\n",
      "NiftiImageIO (0x55c7d916dc30): ../dataset/dataset_extracted/train_split/patient069/patient069_frame12_gt.nii has unexpected scales in sform\n",
      "\n",
      "WARNING: In /tmp/SimpleITK-build/ITK/Modules/IO/NIFTI/src/itkNiftiImageIO.cxx, line 2008\n",
      "NiftiImageIO (0x55c7d916dc30): ../dataset/dataset_extracted/train_split/patient069/patient069_frame12_gt.nii has unexpected scales in sform\n",
      "\n"
     ]
    },
    {
     "name": "stdout",
     "output_type": "stream",
     "text": [
      "Resampling: ../dataset/dataset_extracted/train_split/patient069/patient069_frame12.nii\n",
      "Resampling: ../dataset/dataset_extracted/train_split/patient069/patient069_frame12_gt.nii\n",
      "Resampling: ../dataset/dataset_extracted/train_split/patient023/patient023_frame01.nii\n"
     ]
    },
    {
     "name": "stderr",
     "output_type": "stream",
     "text": [
      "WARNING: In /tmp/SimpleITK-build/ITK/Modules/IO/NIFTI/src/itkNiftiImageIO.cxx, line 2008\n",
      "NiftiImageIO (0x55c7d916dc30): ../dataset/dataset_extracted/train_split/patient023/patient023_frame01.nii has unexpected scales in sform\n",
      "\n",
      "WARNING: In /tmp/SimpleITK-build/ITK/Modules/IO/NIFTI/src/itkNiftiImageIO.cxx, line 2008\n",
      "NiftiImageIO (0x55c7d916dc30): ../dataset/dataset_extracted/train_split/patient023/patient023_frame01.nii has unexpected scales in sform\n",
      "\n",
      "WARNING: In /tmp/SimpleITK-build/ITK/Modules/IO/NIFTI/src/itkNiftiImageIO.cxx, line 2008\n",
      "NiftiImageIO (0x55c7d916dc30): ../dataset/dataset_extracted/train_split/patient023/patient023_frame01_gt.nii has unexpected scales in sform\n",
      "\n",
      "WARNING: In /tmp/SimpleITK-build/ITK/Modules/IO/NIFTI/src/itkNiftiImageIO.cxx, line 2008\n",
      "NiftiImageIO (0x55c7d916dc30): ../dataset/dataset_extracted/train_split/patient023/patient023_frame01_gt.nii has unexpected scales in sform\n",
      "\n",
      "WARNING: In /tmp/SimpleITK-build/ITK/Modules/IO/NIFTI/src/itkNiftiImageIO.cxx, line 2008\n",
      "NiftiImageIO (0x55c7d916dc30): ../dataset/dataset_extracted/train_split/patient023/patient023_frame09.nii has unexpected scales in sform\n",
      "\n",
      "WARNING: In /tmp/SimpleITK-build/ITK/Modules/IO/NIFTI/src/itkNiftiImageIO.cxx, line 2008\n",
      "NiftiImageIO (0x55c7d916dc30): ../dataset/dataset_extracted/train_split/patient023/patient023_frame09.nii has unexpected scales in sform\n",
      "\n"
     ]
    },
    {
     "name": "stdout",
     "output_type": "stream",
     "text": [
      "Resampling: ../dataset/dataset_extracted/train_split/patient023/patient023_frame01_gt.nii\n",
      "Resampling: ../dataset/dataset_extracted/train_split/patient023/patient023_frame09.nii\n",
      "Resampling: ../dataset/dataset_extracted/train_split/patient023/patient023_frame09_gt.nii\n"
     ]
    },
    {
     "name": "stderr",
     "output_type": "stream",
     "text": [
      "WARNING: In /tmp/SimpleITK-build/ITK/Modules/IO/NIFTI/src/itkNiftiImageIO.cxx, line 2008\n",
      "NiftiImageIO (0x55c7d916dc30): ../dataset/dataset_extracted/train_split/patient023/patient023_frame09_gt.nii has unexpected scales in sform\n",
      "\n",
      "WARNING: In /tmp/SimpleITK-build/ITK/Modules/IO/NIFTI/src/itkNiftiImageIO.cxx, line 2008\n",
      "NiftiImageIO (0x55c7d916dc30): ../dataset/dataset_extracted/train_split/patient023/patient023_frame09_gt.nii has unexpected scales in sform\n",
      "\n",
      "WARNING: In /tmp/SimpleITK-build/ITK/Modules/IO/NIFTI/src/itkNiftiImageIO.cxx, line 2008\n",
      "NiftiImageIO (0x55c7d916dc30): ../dataset/dataset_extracted/train_split/patient061/patient061_frame01.nii has unexpected scales in sform\n",
      "\n",
      "WARNING: In /tmp/SimpleITK-build/ITK/Modules/IO/NIFTI/src/itkNiftiImageIO.cxx, line 2008\n",
      "NiftiImageIO (0x55c7d916dc30): ../dataset/dataset_extracted/train_split/patient061/patient061_frame01.nii has unexpected scales in sform\n",
      "\n",
      "WARNING: In /tmp/SimpleITK-build/ITK/Modules/IO/NIFTI/src/itkNiftiImageIO.cxx, line 2008\n",
      "NiftiImageIO (0x55c7d916dc30): ../dataset/dataset_extracted/train_split/patient061/patient061_frame01_gt.nii has unexpected scales in sform\n",
      "\n",
      "WARNING: In /tmp/SimpleITK-build/ITK/Modules/IO/NIFTI/src/itkNiftiImageIO.cxx, line 2008\n",
      "NiftiImageIO (0x55c7d916dc30): ../dataset/dataset_extracted/train_split/patient061/patient061_frame01_gt.nii has unexpected scales in sform\n",
      "\n"
     ]
    },
    {
     "name": "stdout",
     "output_type": "stream",
     "text": [
      "Resampling: ../dataset/dataset_extracted/train_split/patient061/patient061_frame01.nii\n",
      "Resampling: ../dataset/dataset_extracted/train_split/patient061/patient061_frame01_gt.nii\n",
      "Resampling: ../dataset/dataset_extracted/train_split/patient061/patient061_frame10.nii\n"
     ]
    },
    {
     "name": "stderr",
     "output_type": "stream",
     "text": [
      "WARNING: In /tmp/SimpleITK-build/ITK/Modules/IO/NIFTI/src/itkNiftiImageIO.cxx, line 2008\n",
      "NiftiImageIO (0x55c7d916dc30): ../dataset/dataset_extracted/train_split/patient061/patient061_frame10.nii has unexpected scales in sform\n",
      "\n",
      "WARNING: In /tmp/SimpleITK-build/ITK/Modules/IO/NIFTI/src/itkNiftiImageIO.cxx, line 2008\n",
      "NiftiImageIO (0x55c7d916dc30): ../dataset/dataset_extracted/train_split/patient061/patient061_frame10.nii has unexpected scales in sform\n",
      "\n",
      "WARNING: In /tmp/SimpleITK-build/ITK/Modules/IO/NIFTI/src/itkNiftiImageIO.cxx, line 2008\n",
      "NiftiImageIO (0x55c7d916dc30): ../dataset/dataset_extracted/train_split/patient061/patient061_frame10_gt.nii has unexpected scales in sform\n",
      "\n",
      "WARNING: In /tmp/SimpleITK-build/ITK/Modules/IO/NIFTI/src/itkNiftiImageIO.cxx, line 2008\n",
      "NiftiImageIO (0x55c7d916dc30): ../dataset/dataset_extracted/train_split/patient061/patient061_frame10_gt.nii has unexpected scales in sform\n",
      "\n"
     ]
    },
    {
     "name": "stdout",
     "output_type": "stream",
     "text": [
      "Resampling: ../dataset/dataset_extracted/train_split/patient061/patient061_frame10_gt.nii\n"
     ]
    },
    {
     "name": "stderr",
     "output_type": "stream",
     "text": [
      "WARNING: In /tmp/SimpleITK-build/ITK/Modules/IO/NIFTI/src/itkNiftiImageIO.cxx, line 2008\n",
      "NiftiImageIO (0x55c7d916dc30): ../dataset/dataset_extracted/train_split/patient025/patient025_frame01.nii has unexpected scales in sform\n",
      "\n",
      "WARNING: In /tmp/SimpleITK-build/ITK/Modules/IO/NIFTI/src/itkNiftiImageIO.cxx, line 2008\n",
      "NiftiImageIO (0x55c7d916dc30): ../dataset/dataset_extracted/train_split/patient025/patient025_frame01.nii has unexpected scales in sform\n",
      "\n",
      "WARNING: In /tmp/SimpleITK-build/ITK/Modules/IO/NIFTI/src/itkNiftiImageIO.cxx, line 2008\n",
      "NiftiImageIO (0x55c7d916dc30): ../dataset/dataset_extracted/train_split/patient025/patient025_frame01_gt.nii has unexpected scales in sform\n",
      "\n",
      "WARNING: In /tmp/SimpleITK-build/ITK/Modules/IO/NIFTI/src/itkNiftiImageIO.cxx, line 2008\n",
      "NiftiImageIO (0x55c7d916dc30): ../dataset/dataset_extracted/train_split/patient025/patient025_frame01_gt.nii has unexpected scales in sform\n",
      "\n"
     ]
    },
    {
     "name": "stdout",
     "output_type": "stream",
     "text": [
      "Resampling: ../dataset/dataset_extracted/train_split/patient025/patient025_frame01.nii\n",
      "Resampling: ../dataset/dataset_extracted/train_split/patient025/patient025_frame01_gt.nii\n"
     ]
    },
    {
     "name": "stderr",
     "output_type": "stream",
     "text": [
      "WARNING: In /tmp/SimpleITK-build/ITK/Modules/IO/NIFTI/src/itkNiftiImageIO.cxx, line 2008\n",
      "NiftiImageIO (0x55c7d916dc30): ../dataset/dataset_extracted/train_split/patient025/patient025_frame09.nii has unexpected scales in sform\n",
      "\n",
      "WARNING: In /tmp/SimpleITK-build/ITK/Modules/IO/NIFTI/src/itkNiftiImageIO.cxx, line 2008\n",
      "NiftiImageIO (0x55c7d916dc30): ../dataset/dataset_extracted/train_split/patient025/patient025_frame09.nii has unexpected scales in sform\n",
      "\n",
      "WARNING: In /tmp/SimpleITK-build/ITK/Modules/IO/NIFTI/src/itkNiftiImageIO.cxx, line 2008\n",
      "NiftiImageIO (0x55c7d916dc30): ../dataset/dataset_extracted/train_split/patient025/patient025_frame09_gt.nii has unexpected scales in sform\n",
      "\n",
      "WARNING: In /tmp/SimpleITK-build/ITK/Modules/IO/NIFTI/src/itkNiftiImageIO.cxx, line 2008\n",
      "NiftiImageIO (0x55c7d916dc30): ../dataset/dataset_extracted/train_split/patient025/patient025_frame09_gt.nii has unexpected scales in sform\n",
      "\n",
      "WARNING: In /tmp/SimpleITK-build/ITK/Modules/IO/NIFTI/src/itkNiftiImageIO.cxx, line 2008\n",
      "NiftiImageIO (0x55c7d916dc30): ../dataset/dataset_extracted/train_split/patient006/patient006_frame01.nii has unexpected scales in sform\n",
      "\n",
      "WARNING: In /tmp/SimpleITK-build/ITK/Modules/IO/NIFTI/src/itkNiftiImageIO.cxx, line 2008\n",
      "NiftiImageIO (0x55c7d916dc30): ../dataset/dataset_extracted/train_split/patient006/patient006_frame01.nii has unexpected scales in sform\n",
      "\n"
     ]
    },
    {
     "name": "stdout",
     "output_type": "stream",
     "text": [
      "Resampling: ../dataset/dataset_extracted/train_split/patient025/patient025_frame09.nii\n",
      "Resampling: ../dataset/dataset_extracted/train_split/patient025/patient025_frame09_gt.nii\n",
      "Resampling: ../dataset/dataset_extracted/train_split/patient006/patient006_frame01.nii\n"
     ]
    },
    {
     "name": "stderr",
     "output_type": "stream",
     "text": [
      "WARNING: In /tmp/SimpleITK-build/ITK/Modules/IO/NIFTI/src/itkNiftiImageIO.cxx, line 2008\n",
      "NiftiImageIO (0x55c7d916dc30): ../dataset/dataset_extracted/train_split/patient006/patient006_frame01_gt.nii has unexpected scales in sform\n",
      "\n",
      "WARNING: In /tmp/SimpleITK-build/ITK/Modules/IO/NIFTI/src/itkNiftiImageIO.cxx, line 2008\n",
      "NiftiImageIO (0x55c7d916dc30): ../dataset/dataset_extracted/train_split/patient006/patient006_frame01_gt.nii has unexpected scales in sform\n",
      "\n",
      "WARNING: In /tmp/SimpleITK-build/ITK/Modules/IO/NIFTI/src/itkNiftiImageIO.cxx, line 2008\n",
      "NiftiImageIO (0x55c7d916dc30): ../dataset/dataset_extracted/train_split/patient006/patient006_frame16.nii has unexpected scales in sform\n",
      "\n",
      "WARNING: In /tmp/SimpleITK-build/ITK/Modules/IO/NIFTI/src/itkNiftiImageIO.cxx, line 2008\n",
      "NiftiImageIO (0x55c7d916dc30): ../dataset/dataset_extracted/train_split/patient006/patient006_frame16.nii has unexpected scales in sform\n",
      "\n"
     ]
    },
    {
     "name": "stdout",
     "output_type": "stream",
     "text": [
      "Resampling: ../dataset/dataset_extracted/train_split/patient006/patient006_frame01_gt.nii\n",
      "Resampling: ../dataset/dataset_extracted/train_split/patient006/patient006_frame16.nii\n"
     ]
    },
    {
     "name": "stderr",
     "output_type": "stream",
     "text": [
      "WARNING: In /tmp/SimpleITK-build/ITK/Modules/IO/NIFTI/src/itkNiftiImageIO.cxx, line 2008\n",
      "NiftiImageIO (0x55c7d916dc30): ../dataset/dataset_extracted/train_split/patient006/patient006_frame16_gt.nii has unexpected scales in sform\n",
      "\n",
      "WARNING: In /tmp/SimpleITK-build/ITK/Modules/IO/NIFTI/src/itkNiftiImageIO.cxx, line 2008\n",
      "NiftiImageIO (0x55c7d916dc30): ../dataset/dataset_extracted/train_split/patient006/patient006_frame16_gt.nii has unexpected scales in sform\n",
      "\n",
      "WARNING: In /tmp/SimpleITK-build/ITK/Modules/IO/NIFTI/src/itkNiftiImageIO.cxx, line 2008\n",
      "NiftiImageIO (0x55c7d916dc30): ../dataset/dataset_extracted/train_split/patient007/patient007_frame01.nii has unexpected scales in sform\n",
      "\n",
      "WARNING: In /tmp/SimpleITK-build/ITK/Modules/IO/NIFTI/src/itkNiftiImageIO.cxx, line 2008\n",
      "NiftiImageIO (0x55c7d916dc30): ../dataset/dataset_extracted/train_split/patient007/patient007_frame01.nii has unexpected scales in sform\n",
      "\n",
      "WARNING: In /tmp/SimpleITK-build/ITK/Modules/IO/NIFTI/src/itkNiftiImageIO.cxx, line 2008\n",
      "NiftiImageIO (0x55c7d916dc30): ../dataset/dataset_extracted/train_split/patient007/patient007_frame01_gt.nii has unexpected scales in sform\n",
      "\n",
      "WARNING: In /tmp/SimpleITK-build/ITK/Modules/IO/NIFTI/src/itkNiftiImageIO.cxx, line 2008\n",
      "NiftiImageIO (0x55c7d916dc30): ../dataset/dataset_extracted/train_split/patient007/patient007_frame01_gt.nii has unexpected scales in sform\n",
      "\n"
     ]
    },
    {
     "name": "stdout",
     "output_type": "stream",
     "text": [
      "Resampling: ../dataset/dataset_extracted/train_split/patient006/patient006_frame16_gt.nii\n",
      "Resampling: ../dataset/dataset_extracted/train_split/patient007/patient007_frame01.nii\n",
      "Resampling: ../dataset/dataset_extracted/train_split/patient007/patient007_frame01_gt.nii\n"
     ]
    },
    {
     "name": "stderr",
     "output_type": "stream",
     "text": [
      "WARNING: In /tmp/SimpleITK-build/ITK/Modules/IO/NIFTI/src/itkNiftiImageIO.cxx, line 2008\n",
      "NiftiImageIO (0x55c7d916dc30): ../dataset/dataset_extracted/train_split/patient007/patient007_frame07.nii has unexpected scales in sform\n",
      "\n",
      "WARNING: In /tmp/SimpleITK-build/ITK/Modules/IO/NIFTI/src/itkNiftiImageIO.cxx, line 2008\n",
      "NiftiImageIO (0x55c7d916dc30): ../dataset/dataset_extracted/train_split/patient007/patient007_frame07.nii has unexpected scales in sform\n",
      "\n",
      "WARNING: In /tmp/SimpleITK-build/ITK/Modules/IO/NIFTI/src/itkNiftiImageIO.cxx, line 2008\n",
      "NiftiImageIO (0x55c7d916dc30): ../dataset/dataset_extracted/train_split/patient007/patient007_frame07_gt.nii has unexpected scales in sform\n",
      "\n",
      "WARNING: In /tmp/SimpleITK-build/ITK/Modules/IO/NIFTI/src/itkNiftiImageIO.cxx, line 2008\n",
      "NiftiImageIO (0x55c7d916dc30): ../dataset/dataset_extracted/train_split/patient007/patient007_frame07_gt.nii has unexpected scales in sform\n",
      "\n",
      "WARNING: In /tmp/SimpleITK-build/ITK/Modules/IO/NIFTI/src/itkNiftiImageIO.cxx, line 2008\n",
      "NiftiImageIO (0x55c7d916dc30): ../dataset/dataset_extracted/train_split/patient022/patient022_frame01.nii has unexpected scales in sform\n",
      "\n"
     ]
    },
    {
     "name": "stdout",
     "output_type": "stream",
     "text": [
      "Resampling: ../dataset/dataset_extracted/train_split/patient007/patient007_frame07.nii\n",
      "Resampling: ../dataset/dataset_extracted/train_split/patient007/patient007_frame07_gt.nii\n",
      "Resampling: ../dataset/dataset_extracted/train_split/patient022/patient022_frame01.nii\n"
     ]
    },
    {
     "name": "stderr",
     "output_type": "stream",
     "text": [
      "WARNING: In /tmp/SimpleITK-build/ITK/Modules/IO/NIFTI/src/itkNiftiImageIO.cxx, line 2008\n",
      "NiftiImageIO (0x55c7d916dc30): ../dataset/dataset_extracted/train_split/patient022/patient022_frame01.nii has unexpected scales in sform\n",
      "\n",
      "WARNING: In /tmp/SimpleITK-build/ITK/Modules/IO/NIFTI/src/itkNiftiImageIO.cxx, line 2008\n",
      "NiftiImageIO (0x55c7d916dc30): ../dataset/dataset_extracted/train_split/patient022/patient022_frame01_gt.nii has unexpected scales in sform\n",
      "\n",
      "WARNING: In /tmp/SimpleITK-build/ITK/Modules/IO/NIFTI/src/itkNiftiImageIO.cxx, line 2008\n",
      "NiftiImageIO (0x55c7d916dc30): ../dataset/dataset_extracted/train_split/patient022/patient022_frame01_gt.nii has unexpected scales in sform\n",
      "\n",
      "WARNING: In /tmp/SimpleITK-build/ITK/Modules/IO/NIFTI/src/itkNiftiImageIO.cxx, line 2008\n",
      "NiftiImageIO (0x55c7d916dc30): ../dataset/dataset_extracted/train_split/patient022/patient022_frame11.nii has unexpected scales in sform\n",
      "\n",
      "WARNING: In /tmp/SimpleITK-build/ITK/Modules/IO/NIFTI/src/itkNiftiImageIO.cxx, line 2008\n",
      "NiftiImageIO (0x55c7d916dc30): ../dataset/dataset_extracted/train_split/patient022/patient022_frame11.nii has unexpected scales in sform\n",
      "\n"
     ]
    },
    {
     "name": "stdout",
     "output_type": "stream",
     "text": [
      "Resampling: ../dataset/dataset_extracted/train_split/patient022/patient022_frame01_gt.nii\n",
      "Resampling: ../dataset/dataset_extracted/train_split/patient022/patient022_frame11.nii\n",
      "Resampling: ../dataset/dataset_extracted/train_split/patient022/patient022_frame11_gt.nii\n"
     ]
    },
    {
     "name": "stderr",
     "output_type": "stream",
     "text": [
      "WARNING: In /tmp/SimpleITK-build/ITK/Modules/IO/NIFTI/src/itkNiftiImageIO.cxx, line 2008\n",
      "NiftiImageIO (0x55c7d916dc30): ../dataset/dataset_extracted/train_split/patient022/patient022_frame11_gt.nii has unexpected scales in sform\n",
      "\n",
      "WARNING: In /tmp/SimpleITK-build/ITK/Modules/IO/NIFTI/src/itkNiftiImageIO.cxx, line 2008\n",
      "NiftiImageIO (0x55c7d916dc30): ../dataset/dataset_extracted/train_split/patient022/patient022_frame11_gt.nii has unexpected scales in sform\n",
      "\n",
      "WARNING: In /tmp/SimpleITK-build/ITK/Modules/IO/NIFTI/src/itkNiftiImageIO.cxx, line 2008\n",
      "NiftiImageIO (0x55c7d916dc30): ../dataset/dataset_extracted/train_split/patient050/patient050_frame01.nii has unexpected scales in sform\n",
      "\n",
      "WARNING: In /tmp/SimpleITK-build/ITK/Modules/IO/NIFTI/src/itkNiftiImageIO.cxx, line 2008\n",
      "NiftiImageIO (0x55c7d916dc30): ../dataset/dataset_extracted/train_split/patient050/patient050_frame01.nii has unexpected scales in sform\n",
      "\n"
     ]
    },
    {
     "name": "stdout",
     "output_type": "stream",
     "text": [
      "Resampling: ../dataset/dataset_extracted/train_split/patient050/patient050_frame01.nii\n",
      "Resampling: ../dataset/dataset_extracted/train_split/patient050/patient050_frame01_gt.nii\n",
      "Resampling: ../dataset/dataset_extracted/train_split/patient050/patient050_frame12.nii\n"
     ]
    },
    {
     "name": "stderr",
     "output_type": "stream",
     "text": [
      "WARNING: In /tmp/SimpleITK-build/ITK/Modules/IO/NIFTI/src/itkNiftiImageIO.cxx, line 2008\n",
      "NiftiImageIO (0x55c7d916dc30): ../dataset/dataset_extracted/train_split/patient050/patient050_frame01_gt.nii has unexpected scales in sform\n",
      "\n",
      "WARNING: In /tmp/SimpleITK-build/ITK/Modules/IO/NIFTI/src/itkNiftiImageIO.cxx, line 2008\n",
      "NiftiImageIO (0x55c7d916dc30): ../dataset/dataset_extracted/train_split/patient050/patient050_frame01_gt.nii has unexpected scales in sform\n",
      "\n",
      "WARNING: In /tmp/SimpleITK-build/ITK/Modules/IO/NIFTI/src/itkNiftiImageIO.cxx, line 2008\n",
      "NiftiImageIO (0x55c7d916dc30): ../dataset/dataset_extracted/train_split/patient050/patient050_frame12.nii has unexpected scales in sform\n",
      "\n",
      "WARNING: In /tmp/SimpleITK-build/ITK/Modules/IO/NIFTI/src/itkNiftiImageIO.cxx, line 2008\n",
      "NiftiImageIO (0x55c7d916dc30): ../dataset/dataset_extracted/train_split/patient050/patient050_frame12.nii has unexpected scales in sform\n",
      "\n",
      "WARNING: In /tmp/SimpleITK-build/ITK/Modules/IO/NIFTI/src/itkNiftiImageIO.cxx, line 2008\n",
      "NiftiImageIO (0x55c7d916dc30): ../dataset/dataset_extracted/train_split/patient050/patient050_frame12_gt.nii has unexpected scales in sform\n",
      "\n",
      "WARNING: In /tmp/SimpleITK-build/ITK/Modules/IO/NIFTI/src/itkNiftiImageIO.cxx, line 2008\n",
      "NiftiImageIO (0x55c7d916dc30): ../dataset/dataset_extracted/train_split/patient050/patient050_frame12_gt.nii has unexpected scales in sform\n",
      "\n"
     ]
    },
    {
     "name": "stdout",
     "output_type": "stream",
     "text": [
      "Resampling: ../dataset/dataset_extracted/train_split/patient050/patient050_frame12_gt.nii\n",
      "Resampling: ../dataset/dataset_extracted/train_split/patient064/patient064_frame01.nii\n"
     ]
    },
    {
     "name": "stderr",
     "output_type": "stream",
     "text": [
      "WARNING: In /tmp/SimpleITK-build/ITK/Modules/IO/NIFTI/src/itkNiftiImageIO.cxx, line 2008\n",
      "NiftiImageIO (0x55c7d916dc30): ../dataset/dataset_extracted/train_split/patient064/patient064_frame01.nii has unexpected scales in sform\n",
      "\n",
      "WARNING: In /tmp/SimpleITK-build/ITK/Modules/IO/NIFTI/src/itkNiftiImageIO.cxx, line 2008\n",
      "NiftiImageIO (0x55c7d916dc30): ../dataset/dataset_extracted/train_split/patient064/patient064_frame01.nii has unexpected scales in sform\n",
      "\n",
      "WARNING: In /tmp/SimpleITK-build/ITK/Modules/IO/NIFTI/src/itkNiftiImageIO.cxx, line 2008\n",
      "NiftiImageIO (0x55c7d916dc30): ../dataset/dataset_extracted/train_split/patient064/patient064_frame01_gt.nii has unexpected scales in sform\n",
      "\n",
      "WARNING: In /tmp/SimpleITK-build/ITK/Modules/IO/NIFTI/src/itkNiftiImageIO.cxx, line 2008\n",
      "NiftiImageIO (0x55c7d916dc30): ../dataset/dataset_extracted/train_split/patient064/patient064_frame01_gt.nii has unexpected scales in sform\n",
      "\n"
     ]
    },
    {
     "name": "stdout",
     "output_type": "stream",
     "text": [
      "Resampling: ../dataset/dataset_extracted/train_split/patient064/patient064_frame01_gt.nii\n",
      "Resampling: ../dataset/dataset_extracted/train_split/patient064/patient064_frame12.nii\n",
      "Resampling: ../dataset/dataset_extracted/train_split/patient064/patient064_frame12_gt.nii\n"
     ]
    },
    {
     "name": "stderr",
     "output_type": "stream",
     "text": [
      "WARNING: In /tmp/SimpleITK-build/ITK/Modules/IO/NIFTI/src/itkNiftiImageIO.cxx, line 2008\n",
      "NiftiImageIO (0x55c7d916dc30): ../dataset/dataset_extracted/train_split/patient064/patient064_frame12.nii has unexpected scales in sform\n",
      "\n",
      "WARNING: In /tmp/SimpleITK-build/ITK/Modules/IO/NIFTI/src/itkNiftiImageIO.cxx, line 2008\n",
      "NiftiImageIO (0x55c7d916dc30): ../dataset/dataset_extracted/train_split/patient064/patient064_frame12.nii has unexpected scales in sform\n",
      "\n",
      "WARNING: In /tmp/SimpleITK-build/ITK/Modules/IO/NIFTI/src/itkNiftiImageIO.cxx, line 2008\n",
      "NiftiImageIO (0x55c7d916dc30): ../dataset/dataset_extracted/train_split/patient064/patient064_frame12_gt.nii has unexpected scales in sform\n",
      "\n",
      "WARNING: In /tmp/SimpleITK-build/ITK/Modules/IO/NIFTI/src/itkNiftiImageIO.cxx, line 2008\n",
      "NiftiImageIO (0x55c7d916dc30): ../dataset/dataset_extracted/train_split/patient064/patient064_frame12_gt.nii has unexpected scales in sform\n",
      "\n",
      "WARNING: In /tmp/SimpleITK-build/ITK/Modules/IO/NIFTI/src/itkNiftiImageIO.cxx, line 2008\n",
      "NiftiImageIO (0x55c7d916dc30): ../dataset/dataset_extracted/train_split/patient092/patient092_frame01.nii has unexpected scales in sform\n",
      "\n",
      "WARNING: In /tmp/SimpleITK-build/ITK/Modules/IO/NIFTI/src/itkNiftiImageIO.cxx, line 2008\n",
      "NiftiImageIO (0x55c7d916dc30): ../dataset/dataset_extracted/train_split/patient092/patient092_frame01.nii has unexpected scales in sform\n",
      "\n",
      "WARNING: In /tmp/SimpleITK-build/ITK/Modules/IO/NIFTI/src/itkNiftiImageIO.cxx, line 2008\n",
      "NiftiImageIO (0x55c7d916dc30): ../dataset/dataset_extracted/train_split/patient092/patient092_frame01_gt.nii has unexpected scales in sform\n",
      "\n",
      "WARNING: In /tmp/SimpleITK-build/ITK/Modules/IO/NIFTI/src/itkNiftiImageIO.cxx, line 2008\n",
      "NiftiImageIO (0x55c7d916dc30): ../dataset/dataset_extracted/train_split/patient092/patient092_frame01_gt.nii has unexpected scales in sform\n",
      "\n"
     ]
    },
    {
     "name": "stdout",
     "output_type": "stream",
     "text": [
      "Resampling: ../dataset/dataset_extracted/train_split/patient092/patient092_frame01.nii\n",
      "Resampling: ../dataset/dataset_extracted/train_split/patient092/patient092_frame01_gt.nii\n"
     ]
    },
    {
     "name": "stderr",
     "output_type": "stream",
     "text": [
      "WARNING: In /tmp/SimpleITK-build/ITK/Modules/IO/NIFTI/src/itkNiftiImageIO.cxx, line 2008\n",
      "NiftiImageIO (0x55c7d916dc30): ../dataset/dataset_extracted/train_split/patient092/patient092_frame06.nii has unexpected scales in sform\n",
      "\n",
      "WARNING: In /tmp/SimpleITK-build/ITK/Modules/IO/NIFTI/src/itkNiftiImageIO.cxx, line 2008\n",
      "NiftiImageIO (0x55c7d916dc30): ../dataset/dataset_extracted/train_split/patient092/patient092_frame06.nii has unexpected scales in sform\n",
      "\n",
      "WARNING: In /tmp/SimpleITK-build/ITK/Modules/IO/NIFTI/src/itkNiftiImageIO.cxx, line 2008\n",
      "NiftiImageIO (0x55c7d916dc30): ../dataset/dataset_extracted/train_split/patient092/patient092_frame06_gt.nii has unexpected scales in sform\n",
      "\n",
      "WARNING: In /tmp/SimpleITK-build/ITK/Modules/IO/NIFTI/src/itkNiftiImageIO.cxx, line 2008\n",
      "NiftiImageIO (0x55c7d916dc30): ../dataset/dataset_extracted/train_split/patient092/patient092_frame06_gt.nii has unexpected scales in sform\n",
      "\n",
      "WARNING: In /tmp/SimpleITK-build/ITK/Modules/IO/NIFTI/src/itkNiftiImageIO.cxx, line 2008\n",
      "NiftiImageIO (0x55c7d916dc30): ../dataset/dataset_extracted/train_split/patient020/patient020_frame01.nii has unexpected scales in sform\n",
      "\n",
      "WARNING: In /tmp/SimpleITK-build/ITK/Modules/IO/NIFTI/src/itkNiftiImageIO.cxx, line 2008\n",
      "NiftiImageIO (0x55c7d916dc30): ../dataset/dataset_extracted/train_split/patient020/patient020_frame01.nii has unexpected scales in sform\n",
      "\n"
     ]
    },
    {
     "name": "stdout",
     "output_type": "stream",
     "text": [
      "Resampling: ../dataset/dataset_extracted/train_split/patient092/patient092_frame06.nii\n",
      "Resampling: ../dataset/dataset_extracted/train_split/patient092/patient092_frame06_gt.nii\n",
      "Resampling: ../dataset/dataset_extracted/train_split/patient020/patient020_frame01.nii\n",
      "Resampling: ../dataset/dataset_extracted/train_split/patient020/patient020_frame01_gt.nii\n"
     ]
    },
    {
     "name": "stderr",
     "output_type": "stream",
     "text": [
      "WARNING: In /tmp/SimpleITK-build/ITK/Modules/IO/NIFTI/src/itkNiftiImageIO.cxx, line 2008\n",
      "NiftiImageIO (0x55c7d916dc30): ../dataset/dataset_extracted/train_split/patient020/patient020_frame01_gt.nii has unexpected scales in sform\n",
      "\n",
      "WARNING: In /tmp/SimpleITK-build/ITK/Modules/IO/NIFTI/src/itkNiftiImageIO.cxx, line 2008\n",
      "NiftiImageIO (0x55c7d916dc30): ../dataset/dataset_extracted/train_split/patient020/patient020_frame01_gt.nii has unexpected scales in sform\n",
      "\n",
      "WARNING: In /tmp/SimpleITK-build/ITK/Modules/IO/NIFTI/src/itkNiftiImageIO.cxx, line 2008\n",
      "NiftiImageIO (0x55c7d916dc30): ../dataset/dataset_extracted/train_split/patient020/patient020_frame11.nii has unexpected scales in sform\n",
      "\n",
      "WARNING: In /tmp/SimpleITK-build/ITK/Modules/IO/NIFTI/src/itkNiftiImageIO.cxx, line 2008\n",
      "NiftiImageIO (0x55c7d916dc30): ../dataset/dataset_extracted/train_split/patient020/patient020_frame11.nii has unexpected scales in sform\n",
      "\n"
     ]
    },
    {
     "name": "stdout",
     "output_type": "stream",
     "text": [
      "Resampling: ../dataset/dataset_extracted/train_split/patient020/patient020_frame11.nii\n",
      "Resampling: ../dataset/dataset_extracted/train_split/patient020/patient020_frame11_gt.nii\n",
      "Resampling: ../dataset/dataset_extracted/train_split/patient076/patient076_frame01.nii\n"
     ]
    },
    {
     "name": "stderr",
     "output_type": "stream",
     "text": [
      "WARNING: In /tmp/SimpleITK-build/ITK/Modules/IO/NIFTI/src/itkNiftiImageIO.cxx, line 2008\n",
      "NiftiImageIO (0x55c7d916dc30): ../dataset/dataset_extracted/train_split/patient020/patient020_frame11_gt.nii has unexpected scales in sform\n",
      "\n",
      "WARNING: In /tmp/SimpleITK-build/ITK/Modules/IO/NIFTI/src/itkNiftiImageIO.cxx, line 2008\n",
      "NiftiImageIO (0x55c7d916dc30): ../dataset/dataset_extracted/train_split/patient020/patient020_frame11_gt.nii has unexpected scales in sform\n",
      "\n",
      "WARNING: In /tmp/SimpleITK-build/ITK/Modules/IO/NIFTI/src/itkNiftiImageIO.cxx, line 2008\n",
      "NiftiImageIO (0x55c7d916dc30): ../dataset/dataset_extracted/train_split/patient076/patient076_frame01.nii has unexpected scales in sform\n",
      "\n",
      "WARNING: In /tmp/SimpleITK-build/ITK/Modules/IO/NIFTI/src/itkNiftiImageIO.cxx, line 2008\n",
      "NiftiImageIO (0x55c7d916dc30): ../dataset/dataset_extracted/train_split/patient076/patient076_frame01.nii has unexpected scales in sform\n",
      "\n",
      "WARNING: In /tmp/SimpleITK-build/ITK/Modules/IO/NIFTI/src/itkNiftiImageIO.cxx, line 2008\n",
      "NiftiImageIO (0x55c7d916dc30): ../dataset/dataset_extracted/train_split/patient076/patient076_frame01_gt.nii has unexpected scales in sform\n",
      "\n",
      "WARNING: In /tmp/SimpleITK-build/ITK/Modules/IO/NIFTI/src/itkNiftiImageIO.cxx, line 2008\n",
      "NiftiImageIO (0x55c7d916dc30): ../dataset/dataset_extracted/train_split/patient076/patient076_frame01_gt.nii has unexpected scales in sform\n",
      "\n",
      "WARNING: In /tmp/SimpleITK-build/ITK/Modules/IO/NIFTI/src/itkNiftiImageIO.cxx, line 2008\n",
      "NiftiImageIO (0x55c7d916dc30): ../dataset/dataset_extracted/train_split/patient076/patient076_frame12.nii has unexpected scales in sform\n",
      "\n",
      "WARNING: In /tmp/SimpleITK-build/ITK/Modules/IO/NIFTI/src/itkNiftiImageIO.cxx, line 2008\n",
      "NiftiImageIO (0x55c7d916dc30): ../dataset/dataset_extracted/train_split/patient076/patient076_frame12.nii has unexpected scales in sform\n",
      "\n",
      "WARNING: In /tmp/SimpleITK-build/ITK/Modules/IO/NIFTI/src/itkNiftiImageIO.cxx, line 2008\n",
      "NiftiImageIO (0x55c7d916dc30): ../dataset/dataset_extracted/train_split/patient076/patient076_frame12_gt.nii has unexpected scales in sform\n",
      "\n",
      "WARNING: In /tmp/SimpleITK-build/ITK/Modules/IO/NIFTI/src/itkNiftiImageIO.cxx, line 2008\n",
      "NiftiImageIO (0x55c7d916dc30): ../dataset/dataset_extracted/train_split/patient076/patient076_frame12_gt.nii has unexpected scales in sform\n",
      "\n"
     ]
    },
    {
     "name": "stdout",
     "output_type": "stream",
     "text": [
      "Resampling: ../dataset/dataset_extracted/train_split/patient076/patient076_frame01_gt.nii\n",
      "Resampling: ../dataset/dataset_extracted/train_split/patient076/patient076_frame12.nii\n",
      "Resampling: ../dataset/dataset_extracted/train_split/patient076/patient076_frame12_gt.nii\n"
     ]
    },
    {
     "name": "stderr",
     "output_type": "stream",
     "text": [
      "WARNING: In /tmp/SimpleITK-build/ITK/Modules/IO/NIFTI/src/itkNiftiImageIO.cxx, line 2008\n",
      "NiftiImageIO (0x55c7d916dc30): ../dataset/dataset_extracted/train_split/patient045/patient045_frame01.nii has unexpected scales in sform\n",
      "\n",
      "WARNING: In /tmp/SimpleITK-build/ITK/Modules/IO/NIFTI/src/itkNiftiImageIO.cxx, line 2008\n",
      "NiftiImageIO (0x55c7d916dc30): ../dataset/dataset_extracted/train_split/patient045/patient045_frame01.nii has unexpected scales in sform\n",
      "\n",
      "WARNING: In /tmp/SimpleITK-build/ITK/Modules/IO/NIFTI/src/itkNiftiImageIO.cxx, line 2008\n",
      "NiftiImageIO (0x55c7d916dc30): ../dataset/dataset_extracted/train_split/patient045/patient045_frame01_gt.nii has unexpected scales in sform\n",
      "\n",
      "WARNING: In /tmp/SimpleITK-build/ITK/Modules/IO/NIFTI/src/itkNiftiImageIO.cxx, line 2008\n",
      "NiftiImageIO (0x55c7d916dc30): ../dataset/dataset_extracted/train_split/patient045/patient045_frame01_gt.nii has unexpected scales in sform\n",
      "\n"
     ]
    },
    {
     "name": "stdout",
     "output_type": "stream",
     "text": [
      "Resampling: ../dataset/dataset_extracted/train_split/patient045/patient045_frame01.nii\n",
      "Resampling: ../dataset/dataset_extracted/train_split/patient045/patient045_frame01_gt.nii\n"
     ]
    },
    {
     "name": "stderr",
     "output_type": "stream",
     "text": [
      "WARNING: In /tmp/SimpleITK-build/ITK/Modules/IO/NIFTI/src/itkNiftiImageIO.cxx, line 2008\n",
      "NiftiImageIO (0x55c7d916dc30): ../dataset/dataset_extracted/train_split/patient045/patient045_frame13.nii has unexpected scales in sform\n",
      "\n",
      "WARNING: In /tmp/SimpleITK-build/ITK/Modules/IO/NIFTI/src/itkNiftiImageIO.cxx, line 2008\n",
      "NiftiImageIO (0x55c7d916dc30): ../dataset/dataset_extracted/train_split/patient045/patient045_frame13.nii has unexpected scales in sform\n",
      "\n",
      "WARNING: In /tmp/SimpleITK-build/ITK/Modules/IO/NIFTI/src/itkNiftiImageIO.cxx, line 2008\n",
      "NiftiImageIO (0x55c7d916dc30): ../dataset/dataset_extracted/train_split/patient045/patient045_frame13_gt.nii has unexpected scales in sform\n",
      "\n",
      "WARNING: In /tmp/SimpleITK-build/ITK/Modules/IO/NIFTI/src/itkNiftiImageIO.cxx, line 2008\n",
      "NiftiImageIO (0x55c7d916dc30): ../dataset/dataset_extracted/train_split/patient045/patient045_frame13_gt.nii has unexpected scales in sform\n",
      "\n"
     ]
    },
    {
     "name": "stdout",
     "output_type": "stream",
     "text": [
      "Resampling: ../dataset/dataset_extracted/train_split/patient045/patient045_frame13.nii\n",
      "Resampling: ../dataset/dataset_extracted/train_split/patient045/patient045_frame13_gt.nii\n"
     ]
    },
    {
     "name": "stderr",
     "output_type": "stream",
     "text": [
      "WARNING: In /tmp/SimpleITK-build/ITK/Modules/IO/NIFTI/src/itkNiftiImageIO.cxx, line 2008\n",
      "NiftiImageIO (0x55c7d916dc30): ../dataset/dataset_extracted/train_split/patient087/patient087_frame01.nii has unexpected scales in sform\n",
      "\n",
      "WARNING: In /tmp/SimpleITK-build/ITK/Modules/IO/NIFTI/src/itkNiftiImageIO.cxx, line 2008\n",
      "NiftiImageIO (0x55c7d916dc30): ../dataset/dataset_extracted/train_split/patient087/patient087_frame01.nii has unexpected scales in sform\n",
      "\n",
      "WARNING: In /tmp/SimpleITK-build/ITK/Modules/IO/NIFTI/src/itkNiftiImageIO.cxx, line 2008\n",
      "NiftiImageIO (0x55c7d916dc30): ../dataset/dataset_extracted/train_split/patient087/patient087_frame01_gt.nii has unexpected scales in sform\n",
      "\n",
      "WARNING: In /tmp/SimpleITK-build/ITK/Modules/IO/NIFTI/src/itkNiftiImageIO.cxx, line 2008\n",
      "NiftiImageIO (0x55c7d916dc30): ../dataset/dataset_extracted/train_split/patient087/patient087_frame01_gt.nii has unexpected scales in sform\n",
      "\n",
      "WARNING: In /tmp/SimpleITK-build/ITK/Modules/IO/NIFTI/src/itkNiftiImageIO.cxx, line 2008\n",
      "NiftiImageIO (0x55c7d916dc30): ../dataset/dataset_extracted/train_split/patient087/patient087_frame10.nii has unexpected scales in sform\n",
      "\n"
     ]
    },
    {
     "name": "stdout",
     "output_type": "stream",
     "text": [
      "Resampling: ../dataset/dataset_extracted/train_split/patient087/patient087_frame01.nii\n",
      "Resampling: ../dataset/dataset_extracted/train_split/patient087/patient087_frame01_gt.nii\n",
      "Resampling: ../dataset/dataset_extracted/train_split/patient087/patient087_frame10.nii\n"
     ]
    },
    {
     "name": "stderr",
     "output_type": "stream",
     "text": [
      "WARNING: In /tmp/SimpleITK-build/ITK/Modules/IO/NIFTI/src/itkNiftiImageIO.cxx, line 2008\n",
      "NiftiImageIO (0x55c7d916dc30): ../dataset/dataset_extracted/train_split/patient087/patient087_frame10.nii has unexpected scales in sform\n",
      "\n",
      "WARNING: In /tmp/SimpleITK-build/ITK/Modules/IO/NIFTI/src/itkNiftiImageIO.cxx, line 2008\n",
      "NiftiImageIO (0x55c7d916dc30): ../dataset/dataset_extracted/train_split/patient087/patient087_frame10_gt.nii has unexpected scales in sform\n",
      "\n",
      "WARNING: In /tmp/SimpleITK-build/ITK/Modules/IO/NIFTI/src/itkNiftiImageIO.cxx, line 2008\n",
      "NiftiImageIO (0x55c7d916dc30): ../dataset/dataset_extracted/train_split/patient087/patient087_frame10_gt.nii has unexpected scales in sform\n",
      "\n",
      "WARNING: In /tmp/SimpleITK-build/ITK/Modules/IO/NIFTI/src/itkNiftiImageIO.cxx, line 2008\n",
      "NiftiImageIO (0x55c7d916dc30): ../dataset/dataset_extracted/train_split/patient021/patient021_frame01.nii has unexpected scales in sform\n",
      "\n",
      "WARNING: In /tmp/SimpleITK-build/ITK/Modules/IO/NIFTI/src/itkNiftiImageIO.cxx, line 2008\n",
      "NiftiImageIO (0x55c7d916dc30): ../dataset/dataset_extracted/train_split/patient021/patient021_frame01.nii has unexpected scales in sform\n",
      "\n"
     ]
    },
    {
     "name": "stdout",
     "output_type": "stream",
     "text": [
      "Resampling: ../dataset/dataset_extracted/train_split/patient087/patient087_frame10_gt.nii\n",
      "Resampling: ../dataset/dataset_extracted/train_split/patient021/patient021_frame01.nii\n",
      "Resampling: ../dataset/dataset_extracted/train_split/patient021/patient021_frame01_gt.nii\n"
     ]
    },
    {
     "name": "stderr",
     "output_type": "stream",
     "text": [
      "WARNING: In /tmp/SimpleITK-build/ITK/Modules/IO/NIFTI/src/itkNiftiImageIO.cxx, line 2008\n",
      "NiftiImageIO (0x55c7d916dc30): ../dataset/dataset_extracted/train_split/patient021/patient021_frame01_gt.nii has unexpected scales in sform\n",
      "\n",
      "WARNING: In /tmp/SimpleITK-build/ITK/Modules/IO/NIFTI/src/itkNiftiImageIO.cxx, line 2008\n",
      "NiftiImageIO (0x55c7d916dc30): ../dataset/dataset_extracted/train_split/patient021/patient021_frame01_gt.nii has unexpected scales in sform\n",
      "\n",
      "WARNING: In /tmp/SimpleITK-build/ITK/Modules/IO/NIFTI/src/itkNiftiImageIO.cxx, line 2008\n",
      "NiftiImageIO (0x55c7d916dc30): ../dataset/dataset_extracted/train_split/patient021/patient021_frame13.nii has unexpected scales in sform\n",
      "\n",
      "WARNING: In /tmp/SimpleITK-build/ITK/Modules/IO/NIFTI/src/itkNiftiImageIO.cxx, line 2008\n",
      "NiftiImageIO (0x55c7d916dc30): ../dataset/dataset_extracted/train_split/patient021/patient021_frame13.nii has unexpected scales in sform\n",
      "\n",
      "WARNING: In /tmp/SimpleITK-build/ITK/Modules/IO/NIFTI/src/itkNiftiImageIO.cxx, line 2008\n",
      "NiftiImageIO (0x55c7d916dc30): ../dataset/dataset_extracted/train_split/patient021/patient021_frame13_gt.nii has unexpected scales in sform\n",
      "\n",
      "WARNING: In /tmp/SimpleITK-build/ITK/Modules/IO/NIFTI/src/itkNiftiImageIO.cxx, line 2008\n",
      "NiftiImageIO (0x55c7d916dc30): ../dataset/dataset_extracted/train_split/patient021/patient021_frame13_gt.nii has unexpected scales in sform\n",
      "\n"
     ]
    },
    {
     "name": "stdout",
     "output_type": "stream",
     "text": [
      "Resampling: ../dataset/dataset_extracted/train_split/patient021/patient021_frame13.nii\n",
      "Resampling: ../dataset/dataset_extracted/train_split/patient021/patient021_frame13_gt.nii\n",
      "Resampling: ../dataset/dataset_extracted/train_split/patient001/patient001_frame01.nii\n"
     ]
    },
    {
     "name": "stderr",
     "output_type": "stream",
     "text": [
      "WARNING: In /tmp/SimpleITK-build/ITK/Modules/IO/NIFTI/src/itkNiftiImageIO.cxx, line 2008\n",
      "NiftiImageIO (0x55c7d916dc30): ../dataset/dataset_extracted/train_split/patient001/patient001_frame01.nii has unexpected scales in sform\n",
      "\n",
      "WARNING: In /tmp/SimpleITK-build/ITK/Modules/IO/NIFTI/src/itkNiftiImageIO.cxx, line 2008\n",
      "NiftiImageIO (0x55c7d916dc30): ../dataset/dataset_extracted/train_split/patient001/patient001_frame01.nii has unexpected scales in sform\n",
      "\n",
      "WARNING: In /tmp/SimpleITK-build/ITK/Modules/IO/NIFTI/src/itkNiftiImageIO.cxx, line 2008\n",
      "NiftiImageIO (0x55c7d916dc30): ../dataset/dataset_extracted/train_split/patient001/patient001_frame01_gt.nii has unexpected scales in sform\n",
      "\n",
      "WARNING: In /tmp/SimpleITK-build/ITK/Modules/IO/NIFTI/src/itkNiftiImageIO.cxx, line 2008\n",
      "NiftiImageIO (0x55c7d916dc30): ../dataset/dataset_extracted/train_split/patient001/patient001_frame01_gt.nii has unexpected scales in sform\n",
      "\n"
     ]
    },
    {
     "name": "stdout",
     "output_type": "stream",
     "text": [
      "Resampling: ../dataset/dataset_extracted/train_split/patient001/patient001_frame01_gt.nii\n",
      "Resampling: ../dataset/dataset_extracted/train_split/patient001/patient001_frame12.nii\n",
      "Resampling: ../dataset/dataset_extracted/train_split/patient001/patient001_frame12_gt.nii\n"
     ]
    },
    {
     "name": "stderr",
     "output_type": "stream",
     "text": [
      "WARNING: In /tmp/SimpleITK-build/ITK/Modules/IO/NIFTI/src/itkNiftiImageIO.cxx, line 2008\n",
      "NiftiImageIO (0x55c7d916dc30): ../dataset/dataset_extracted/train_split/patient001/patient001_frame12.nii has unexpected scales in sform\n",
      "\n",
      "WARNING: In /tmp/SimpleITK-build/ITK/Modules/IO/NIFTI/src/itkNiftiImageIO.cxx, line 2008\n",
      "NiftiImageIO (0x55c7d916dc30): ../dataset/dataset_extracted/train_split/patient001/patient001_frame12.nii has unexpected scales in sform\n",
      "\n",
      "WARNING: In /tmp/SimpleITK-build/ITK/Modules/IO/NIFTI/src/itkNiftiImageIO.cxx, line 2008\n",
      "NiftiImageIO (0x55c7d916dc30): ../dataset/dataset_extracted/train_split/patient001/patient001_frame12_gt.nii has unexpected scales in sform\n",
      "\n",
      "WARNING: In /tmp/SimpleITK-build/ITK/Modules/IO/NIFTI/src/itkNiftiImageIO.cxx, line 2008\n",
      "NiftiImageIO (0x55c7d916dc30): ../dataset/dataset_extracted/train_split/patient001/patient001_frame12_gt.nii has unexpected scales in sform\n",
      "\n",
      "WARNING: In /tmp/SimpleITK-build/ITK/Modules/IO/NIFTI/src/itkNiftiImageIO.cxx, line 2008\n",
      "NiftiImageIO (0x55c7d916dc30): ../dataset/dataset_extracted/train_split/patient096/patient096_frame01.nii has unexpected scales in sform\n",
      "\n",
      "WARNING: In /tmp/SimpleITK-build/ITK/Modules/IO/NIFTI/src/itkNiftiImageIO.cxx, line 2008\n",
      "NiftiImageIO (0x55c7d916dc30): ../dataset/dataset_extracted/train_split/patient096/patient096_frame01.nii has unexpected scales in sform\n",
      "\n"
     ]
    },
    {
     "name": "stdout",
     "output_type": "stream",
     "text": [
      "Resampling: ../dataset/dataset_extracted/train_split/patient096/patient096_frame01.nii\n",
      "Resampling: ../dataset/dataset_extracted/train_split/patient096/patient096_frame01_gt.nii\n"
     ]
    },
    {
     "name": "stderr",
     "output_type": "stream",
     "text": [
      "WARNING: In /tmp/SimpleITK-build/ITK/Modules/IO/NIFTI/src/itkNiftiImageIO.cxx, line 2008\n",
      "NiftiImageIO (0x55c7d916dc30): ../dataset/dataset_extracted/train_split/patient096/patient096_frame01_gt.nii has unexpected scales in sform\n",
      "\n",
      "WARNING: In /tmp/SimpleITK-build/ITK/Modules/IO/NIFTI/src/itkNiftiImageIO.cxx, line 2008\n",
      "NiftiImageIO (0x55c7d916dc30): ../dataset/dataset_extracted/train_split/patient096/patient096_frame01_gt.nii has unexpected scales in sform\n",
      "\n",
      "WARNING: In /tmp/SimpleITK-build/ITK/Modules/IO/NIFTI/src/itkNiftiImageIO.cxx, line 2008\n",
      "NiftiImageIO (0x55c7d916dc30): ../dataset/dataset_extracted/train_split/patient096/patient096_frame08.nii has unexpected scales in sform\n",
      "\n",
      "WARNING: In /tmp/SimpleITK-build/ITK/Modules/IO/NIFTI/src/itkNiftiImageIO.cxx, line 2008\n",
      "NiftiImageIO (0x55c7d916dc30): ../dataset/dataset_extracted/train_split/patient096/patient096_frame08.nii has unexpected scales in sform\n",
      "\n"
     ]
    },
    {
     "name": "stdout",
     "output_type": "stream",
     "text": [
      "Resampling: ../dataset/dataset_extracted/train_split/patient096/patient096_frame08.nii\n",
      "Resampling: ../dataset/dataset_extracted/train_split/patient096/patient096_frame08_gt.nii\n"
     ]
    },
    {
     "name": "stderr",
     "output_type": "stream",
     "text": [
      "WARNING: In /tmp/SimpleITK-build/ITK/Modules/IO/NIFTI/src/itkNiftiImageIO.cxx, line 2008\n",
      "NiftiImageIO (0x55c7d916dc30): ../dataset/dataset_extracted/train_split/patient096/patient096_frame08_gt.nii has unexpected scales in sform\n",
      "\n",
      "WARNING: In /tmp/SimpleITK-build/ITK/Modules/IO/NIFTI/src/itkNiftiImageIO.cxx, line 2008\n",
      "NiftiImageIO (0x55c7d916dc30): ../dataset/dataset_extracted/train_split/patient096/patient096_frame08_gt.nii has unexpected scales in sform\n",
      "\n",
      "WARNING: In /tmp/SimpleITK-build/ITK/Modules/IO/NIFTI/src/itkNiftiImageIO.cxx, line 2008\n",
      "NiftiImageIO (0x55c7d916dc30): ../dataset/dataset_extracted/train_split/patient060/patient060_frame01.nii has unexpected scales in sform\n",
      "\n",
      "WARNING: In /tmp/SimpleITK-build/ITK/Modules/IO/NIFTI/src/itkNiftiImageIO.cxx, line 2008\n",
      "NiftiImageIO (0x55c7d916dc30): ../dataset/dataset_extracted/train_split/patient060/patient060_frame01.nii has unexpected scales in sform\n",
      "\n"
     ]
    },
    {
     "name": "stdout",
     "output_type": "stream",
     "text": [
      "Resampling: ../dataset/dataset_extracted/train_split/patient060/patient060_frame01.nii\n",
      "Resampling: ../dataset/dataset_extracted/train_split/patient060/patient060_frame01_gt.nii\n",
      "Resampling: ../dataset/dataset_extracted/train_split/patient060/patient060_frame14.nii\n"
     ]
    },
    {
     "name": "stderr",
     "output_type": "stream",
     "text": [
      "WARNING: In /tmp/SimpleITK-build/ITK/Modules/IO/NIFTI/src/itkNiftiImageIO.cxx, line 2008\n",
      "NiftiImageIO (0x55c7d916dc30): ../dataset/dataset_extracted/train_split/patient060/patient060_frame01_gt.nii has unexpected scales in sform\n",
      "\n",
      "WARNING: In /tmp/SimpleITK-build/ITK/Modules/IO/NIFTI/src/itkNiftiImageIO.cxx, line 2008\n",
      "NiftiImageIO (0x55c7d916dc30): ../dataset/dataset_extracted/train_split/patient060/patient060_frame01_gt.nii has unexpected scales in sform\n",
      "\n",
      "WARNING: In /tmp/SimpleITK-build/ITK/Modules/IO/NIFTI/src/itkNiftiImageIO.cxx, line 2008\n",
      "NiftiImageIO (0x55c7d916dc30): ../dataset/dataset_extracted/train_split/patient060/patient060_frame14.nii has unexpected scales in sform\n",
      "\n",
      "WARNING: In /tmp/SimpleITK-build/ITK/Modules/IO/NIFTI/src/itkNiftiImageIO.cxx, line 2008\n",
      "NiftiImageIO (0x55c7d916dc30): ../dataset/dataset_extracted/train_split/patient060/patient060_frame14.nii has unexpected scales in sform\n",
      "\n",
      "WARNING: In /tmp/SimpleITK-build/ITK/Modules/IO/NIFTI/src/itkNiftiImageIO.cxx, line 2008\n",
      "NiftiImageIO (0x55c7d916dc30): ../dataset/dataset_extracted/train_split/patient060/patient060_frame14_gt.nii has unexpected scales in sform\n",
      "\n",
      "WARNING: In /tmp/SimpleITK-build/ITK/Modules/IO/NIFTI/src/itkNiftiImageIO.cxx, line 2008\n",
      "NiftiImageIO (0x55c7d916dc30): ../dataset/dataset_extracted/train_split/patient060/patient060_frame14_gt.nii has unexpected scales in sform\n",
      "\n",
      "WARNING: In /tmp/SimpleITK-build/ITK/Modules/IO/NIFTI/src/itkNiftiImageIO.cxx, line 2008\n",
      "NiftiImageIO (0x55c7d916dc30): ../dataset/dataset_extracted/train_split/patient094/patient094_frame01.nii has unexpected scales in sform\n",
      "\n",
      "WARNING: In /tmp/SimpleITK-build/ITK/Modules/IO/NIFTI/src/itkNiftiImageIO.cxx, line 2008\n",
      "NiftiImageIO (0x55c7d916dc30): ../dataset/dataset_extracted/train_split/patient094/patient094_frame01.nii has unexpected scales in sform\n",
      "\n",
      "WARNING: In /tmp/SimpleITK-build/ITK/Modules/IO/NIFTI/src/itkNiftiImageIO.cxx, line 2008\n",
      "NiftiImageIO (0x55c7d916dc30): ../dataset/dataset_extracted/train_split/patient094/patient094_frame01_gt.nii has unexpected scales in sform\n",
      "\n",
      "WARNING: In /tmp/SimpleITK-build/ITK/Modules/IO/NIFTI/src/itkNiftiImageIO.cxx, line 2008\n",
      "NiftiImageIO (0x55c7d916dc30): ../dataset/dataset_extracted/train_split/patient094/patient094_frame01_gt.nii has unexpected scales in sform\n",
      "\n"
     ]
    },
    {
     "name": "stdout",
     "output_type": "stream",
     "text": [
      "Resampling: ../dataset/dataset_extracted/train_split/patient060/patient060_frame14_gt.nii\n",
      "Resampling: ../dataset/dataset_extracted/train_split/patient094/patient094_frame01.nii\n",
      "Resampling: ../dataset/dataset_extracted/train_split/patient094/patient094_frame01_gt.nii\n"
     ]
    },
    {
     "name": "stderr",
     "output_type": "stream",
     "text": [
      "WARNING: In /tmp/SimpleITK-build/ITK/Modules/IO/NIFTI/src/itkNiftiImageIO.cxx, line 2008\n",
      "NiftiImageIO (0x55c7d916dc30): ../dataset/dataset_extracted/train_split/patient094/patient094_frame07.nii has unexpected scales in sform\n",
      "\n",
      "WARNING: In /tmp/SimpleITK-build/ITK/Modules/IO/NIFTI/src/itkNiftiImageIO.cxx, line 2008\n",
      "NiftiImageIO (0x55c7d916dc30): ../dataset/dataset_extracted/train_split/patient094/patient094_frame07.nii has unexpected scales in sform\n",
      "\n",
      "WARNING: In /tmp/SimpleITK-build/ITK/Modules/IO/NIFTI/src/itkNiftiImageIO.cxx, line 2008\n",
      "NiftiImageIO (0x55c7d916dc30): ../dataset/dataset_extracted/train_split/patient094/patient094_frame07_gt.nii has unexpected scales in sform\n",
      "\n",
      "WARNING: In /tmp/SimpleITK-build/ITK/Modules/IO/NIFTI/src/itkNiftiImageIO.cxx, line 2008\n",
      "NiftiImageIO (0x55c7d916dc30): ../dataset/dataset_extracted/train_split/patient094/patient094_frame07_gt.nii has unexpected scales in sform\n",
      "\n",
      "WARNING: In /tmp/SimpleITK-build/ITK/Modules/IO/NIFTI/src/itkNiftiImageIO.cxx, line 2008\n",
      "NiftiImageIO (0x55c7d916dc30): ../dataset/dataset_extracted/train_split/patient055/patient055_frame01.nii has unexpected scales in sform\n",
      "\n",
      "WARNING: In /tmp/SimpleITK-build/ITK/Modules/IO/NIFTI/src/itkNiftiImageIO.cxx, line 2008\n",
      "NiftiImageIO (0x55c7d916dc30): ../dataset/dataset_extracted/train_split/patient055/patient055_frame01.nii has unexpected scales in sform\n",
      "\n"
     ]
    },
    {
     "name": "stdout",
     "output_type": "stream",
     "text": [
      "Resampling: ../dataset/dataset_extracted/train_split/patient094/patient094_frame07.nii\n",
      "Resampling: ../dataset/dataset_extracted/train_split/patient094/patient094_frame07_gt.nii\n",
      "Resampling: ../dataset/dataset_extracted/train_split/patient055/patient055_frame01.nii\n"
     ]
    },
    {
     "name": "stderr",
     "output_type": "stream",
     "text": [
      "WARNING: In /tmp/SimpleITK-build/ITK/Modules/IO/NIFTI/src/itkNiftiImageIO.cxx, line 2008\n",
      "NiftiImageIO (0x55c7d916dc30): ../dataset/dataset_extracted/train_split/patient055/patient055_frame01_gt.nii has unexpected scales in sform\n",
      "\n",
      "WARNING: In /tmp/SimpleITK-build/ITK/Modules/IO/NIFTI/src/itkNiftiImageIO.cxx, line 2008\n",
      "NiftiImageIO (0x55c7d916dc30): ../dataset/dataset_extracted/train_split/patient055/patient055_frame01_gt.nii has unexpected scales in sform\n",
      "\n",
      "WARNING: In /tmp/SimpleITK-build/ITK/Modules/IO/NIFTI/src/itkNiftiImageIO.cxx, line 2008\n",
      "NiftiImageIO (0x55c7d916dc30): ../dataset/dataset_extracted/train_split/patient055/patient055_frame10.nii has unexpected scales in sform\n",
      "\n",
      "WARNING: In /tmp/SimpleITK-build/ITK/Modules/IO/NIFTI/src/itkNiftiImageIO.cxx, line 2008\n",
      "NiftiImageIO (0x55c7d916dc30): ../dataset/dataset_extracted/train_split/patient055/patient055_frame10.nii has unexpected scales in sform\n",
      "\n",
      "WARNING: In /tmp/SimpleITK-build/ITK/Modules/IO/NIFTI/src/itkNiftiImageIO.cxx, line 2008\n",
      "NiftiImageIO (0x55c7d916dc30): ../dataset/dataset_extracted/train_split/patient055/patient055_frame10_gt.nii has unexpected scales in sform\n",
      "\n",
      "WARNING: In /tmp/SimpleITK-build/ITK/Modules/IO/NIFTI/src/itkNiftiImageIO.cxx, line 2008\n",
      "NiftiImageIO (0x55c7d916dc30): ../dataset/dataset_extracted/train_split/patient055/patient055_frame10_gt.nii has unexpected scales in sform\n",
      "\n"
     ]
    },
    {
     "name": "stdout",
     "output_type": "stream",
     "text": [
      "Resampling: ../dataset/dataset_extracted/train_split/patient055/patient055_frame01_gt.nii\n",
      "Resampling: ../dataset/dataset_extracted/train_split/patient055/patient055_frame10.nii\n",
      "Resampling: ../dataset/dataset_extracted/train_split/patient055/patient055_frame10_gt.nii\n"
     ]
    },
    {
     "name": "stderr",
     "output_type": "stream",
     "text": [
      "WARNING: In /tmp/SimpleITK-build/ITK/Modules/IO/NIFTI/src/itkNiftiImageIO.cxx, line 2008\n",
      "NiftiImageIO (0x55c7d916dc30): ../dataset/dataset_extracted/train_split/patient090/patient090_frame04.nii has unexpected scales in sform\n",
      "\n",
      "WARNING: In /tmp/SimpleITK-build/ITK/Modules/IO/NIFTI/src/itkNiftiImageIO.cxx, line 2008\n",
      "NiftiImageIO (0x55c7d916dc30): ../dataset/dataset_extracted/train_split/patient090/patient090_frame04.nii has unexpected scales in sform\n",
      "\n",
      "WARNING: In /tmp/SimpleITK-build/ITK/Modules/IO/NIFTI/src/itkNiftiImageIO.cxx, line 2008\n",
      "NiftiImageIO (0x55c7d916dc30): ../dataset/dataset_extracted/train_split/patient090/patient090_frame04_gt.nii has unexpected scales in sform\n",
      "\n",
      "WARNING: In /tmp/SimpleITK-build/ITK/Modules/IO/NIFTI/src/itkNiftiImageIO.cxx, line 2008\n",
      "NiftiImageIO (0x55c7d916dc30): ../dataset/dataset_extracted/train_split/patient090/patient090_frame04_gt.nii has unexpected scales in sform\n",
      "\n",
      "WARNING: In /tmp/SimpleITK-build/ITK/Modules/IO/NIFTI/src/itkNiftiImageIO.cxx, line 2008\n",
      "NiftiImageIO (0x55c7d916dc30): ../dataset/dataset_extracted/train_split/patient090/patient090_frame11.nii has unexpected scales in sform\n",
      "\n",
      "WARNING: In /tmp/SimpleITK-build/ITK/Modules/IO/NIFTI/src/itkNiftiImageIO.cxx, line 2008\n",
      "NiftiImageIO (0x55c7d916dc30): ../dataset/dataset_extracted/train_split/patient090/patient090_frame11.nii has unexpected scales in sform\n",
      "\n",
      "WARNING: In /tmp/SimpleITK-build/ITK/Modules/IO/NIFTI/src/itkNiftiImageIO.cxx, line 2008\n",
      "NiftiImageIO (0x55c7d916dc30): ../dataset/dataset_extracted/train_split/patient090/patient090_frame11_gt.nii has unexpected scales in sform\n",
      "\n",
      "WARNING: In /tmp/SimpleITK-build/ITK/Modules/IO/NIFTI/src/itkNiftiImageIO.cxx, line 2008\n",
      "NiftiImageIO (0x55c7d916dc30): ../dataset/dataset_extracted/train_split/patient090/patient090_frame11_gt.nii has unexpected scales in sform\n",
      "\n"
     ]
    },
    {
     "name": "stdout",
     "output_type": "stream",
     "text": [
      "Resampling: ../dataset/dataset_extracted/train_split/patient090/patient090_frame04.nii\n",
      "Resampling: ../dataset/dataset_extracted/train_split/patient090/patient090_frame04_gt.nii\n",
      "Resampling: ../dataset/dataset_extracted/train_split/patient090/patient090_frame11.nii\n",
      "Resampling: ../dataset/dataset_extracted/train_split/patient090/patient090_frame11_gt.nii\n"
     ]
    },
    {
     "name": "stderr",
     "output_type": "stream",
     "text": [
      "WARNING: In /tmp/SimpleITK-build/ITK/Modules/IO/NIFTI/src/itkNiftiImageIO.cxx, line 2008\n",
      "NiftiImageIO (0x55c7d916dc30): ../dataset/dataset_extracted/train_split/patient026/patient026_frame01.nii has unexpected scales in sform\n",
      "\n",
      "WARNING: In /tmp/SimpleITK-build/ITK/Modules/IO/NIFTI/src/itkNiftiImageIO.cxx, line 2008\n",
      "NiftiImageIO (0x55c7d916dc30): ../dataset/dataset_extracted/train_split/patient026/patient026_frame01.nii has unexpected scales in sform\n",
      "\n",
      "WARNING: In /tmp/SimpleITK-build/ITK/Modules/IO/NIFTI/src/itkNiftiImageIO.cxx, line 2008\n",
      "NiftiImageIO (0x55c7d916dc30): ../dataset/dataset_extracted/train_split/patient026/patient026_frame01_gt.nii has unexpected scales in sform\n",
      "\n",
      "WARNING: In /tmp/SimpleITK-build/ITK/Modules/IO/NIFTI/src/itkNiftiImageIO.cxx, line 2008\n",
      "NiftiImageIO (0x55c7d916dc30): ../dataset/dataset_extracted/train_split/patient026/patient026_frame01_gt.nii has unexpected scales in sform\n",
      "\n",
      "WARNING: In /tmp/SimpleITK-build/ITK/Modules/IO/NIFTI/src/itkNiftiImageIO.cxx, line 2008\n",
      "NiftiImageIO (0x55c7d916dc30): ../dataset/dataset_extracted/train_split/patient026/patient026_frame12.nii has unexpected scales in sform\n",
      "\n",
      "WARNING: In /tmp/SimpleITK-build/ITK/Modules/IO/NIFTI/src/itkNiftiImageIO.cxx, line 2008\n",
      "NiftiImageIO (0x55c7d916dc30): ../dataset/dataset_extracted/train_split/patient026/patient026_frame12.nii has unexpected scales in sform\n",
      "\n"
     ]
    },
    {
     "name": "stdout",
     "output_type": "stream",
     "text": [
      "Resampling: ../dataset/dataset_extracted/train_split/patient026/patient026_frame01.nii\n",
      "Resampling: ../dataset/dataset_extracted/train_split/patient026/patient026_frame01_gt.nii\n",
      "Resampling: ../dataset/dataset_extracted/train_split/patient026/patient026_frame12.nii\n"
     ]
    },
    {
     "name": "stderr",
     "output_type": "stream",
     "text": [
      "WARNING: In /tmp/SimpleITK-build/ITK/Modules/IO/NIFTI/src/itkNiftiImageIO.cxx, line 2008\n",
      "NiftiImageIO (0x55c7d916dc30): ../dataset/dataset_extracted/train_split/patient026/patient026_frame12_gt.nii has unexpected scales in sform\n",
      "\n",
      "WARNING: In /tmp/SimpleITK-build/ITK/Modules/IO/NIFTI/src/itkNiftiImageIO.cxx, line 2008\n",
      "NiftiImageIO (0x55c7d916dc30): ../dataset/dataset_extracted/train_split/patient026/patient026_frame12_gt.nii has unexpected scales in sform\n",
      "\n",
      "WARNING: In /tmp/SimpleITK-build/ITK/Modules/IO/NIFTI/src/itkNiftiImageIO.cxx, line 2008\n",
      "NiftiImageIO (0x55c7d916dc30): ../dataset/dataset_extracted/train_split/patient074/patient074_frame01.nii has unexpected scales in sform\n",
      "\n",
      "WARNING: In /tmp/SimpleITK-build/ITK/Modules/IO/NIFTI/src/itkNiftiImageIO.cxx, line 2008\n",
      "NiftiImageIO (0x55c7d916dc30): ../dataset/dataset_extracted/train_split/patient074/patient074_frame01.nii has unexpected scales in sform\n",
      "\n"
     ]
    },
    {
     "name": "stdout",
     "output_type": "stream",
     "text": [
      "Resampling: ../dataset/dataset_extracted/train_split/patient026/patient026_frame12_gt.nii\n",
      "Resampling: ../dataset/dataset_extracted/train_split/patient074/patient074_frame01.nii\n"
     ]
    },
    {
     "name": "stderr",
     "output_type": "stream",
     "text": [
      "WARNING: In /tmp/SimpleITK-build/ITK/Modules/IO/NIFTI/src/itkNiftiImageIO.cxx, line 2008\n",
      "NiftiImageIO (0x55c7d916dc30): ../dataset/dataset_extracted/train_split/patient074/patient074_frame01_gt.nii has unexpected scales in sform\n",
      "\n",
      "WARNING: In /tmp/SimpleITK-build/ITK/Modules/IO/NIFTI/src/itkNiftiImageIO.cxx, line 2008\n",
      "NiftiImageIO (0x55c7d916dc30): ../dataset/dataset_extracted/train_split/patient074/patient074_frame01_gt.nii has unexpected scales in sform\n",
      "\n",
      "WARNING: In /tmp/SimpleITK-build/ITK/Modules/IO/NIFTI/src/itkNiftiImageIO.cxx, line 2008\n",
      "NiftiImageIO (0x55c7d916dc30): ../dataset/dataset_extracted/train_split/patient074/patient074_frame12.nii has unexpected scales in sform\n",
      "\n",
      "WARNING: In /tmp/SimpleITK-build/ITK/Modules/IO/NIFTI/src/itkNiftiImageIO.cxx, line 2008\n",
      "NiftiImageIO (0x55c7d916dc30): ../dataset/dataset_extracted/train_split/patient074/patient074_frame12.nii has unexpected scales in sform\n",
      "\n",
      "WARNING: In /tmp/SimpleITK-build/ITK/Modules/IO/NIFTI/src/itkNiftiImageIO.cxx, line 2008\n",
      "NiftiImageIO (0x55c7d916dc30): ../dataset/dataset_extracted/train_split/patient074/patient074_frame12_gt.nii has unexpected scales in sform\n",
      "\n",
      "WARNING: In /tmp/SimpleITK-build/ITK/Modules/IO/NIFTI/src/itkNiftiImageIO.cxx, line 2008\n",
      "NiftiImageIO (0x55c7d916dc30): ../dataset/dataset_extracted/train_split/patient074/patient074_frame12_gt.nii has unexpected scales in sform\n",
      "\n"
     ]
    },
    {
     "name": "stdout",
     "output_type": "stream",
     "text": [
      "Resampling: ../dataset/dataset_extracted/train_split/patient074/patient074_frame01_gt.nii\n",
      "Resampling: ../dataset/dataset_extracted/train_split/patient074/patient074_frame12.nii\n",
      "Resampling: ../dataset/dataset_extracted/train_split/patient074/patient074_frame12_gt.nii\n"
     ]
    },
    {
     "name": "stderr",
     "output_type": "stream",
     "text": [
      "WARNING: In /tmp/SimpleITK-build/ITK/Modules/IO/NIFTI/src/itkNiftiImageIO.cxx, line 2008\n",
      "NiftiImageIO (0x55c7d916dc30): ../dataset/dataset_extracted/train_split/patient085/patient085_frame01.nii has unexpected scales in sform\n",
      "\n",
      "WARNING: In /tmp/SimpleITK-build/ITK/Modules/IO/NIFTI/src/itkNiftiImageIO.cxx, line 2008\n",
      "NiftiImageIO (0x55c7d916dc30): ../dataset/dataset_extracted/train_split/patient085/patient085_frame01.nii has unexpected scales in sform\n",
      "\n",
      "WARNING: In /tmp/SimpleITK-build/ITK/Modules/IO/NIFTI/src/itkNiftiImageIO.cxx, line 2008\n",
      "NiftiImageIO (0x55c7d916dc30): ../dataset/dataset_extracted/train_split/patient085/patient085_frame01_gt.nii has unexpected scales in sform\n",
      "\n",
      "WARNING: In /tmp/SimpleITK-build/ITK/Modules/IO/NIFTI/src/itkNiftiImageIO.cxx, line 2008\n",
      "NiftiImageIO (0x55c7d916dc30): ../dataset/dataset_extracted/train_split/patient085/patient085_frame01_gt.nii has unexpected scales in sform\n",
      "\n"
     ]
    },
    {
     "name": "stdout",
     "output_type": "stream",
     "text": [
      "Resampling: ../dataset/dataset_extracted/train_split/patient085/patient085_frame01.nii\n",
      "Resampling: ../dataset/dataset_extracted/train_split/patient085/patient085_frame01_gt.nii\n"
     ]
    },
    {
     "name": "stderr",
     "output_type": "stream",
     "text": [
      "WARNING: In /tmp/SimpleITK-build/ITK/Modules/IO/NIFTI/src/itkNiftiImageIO.cxx, line 2008\n",
      "NiftiImageIO (0x55c7d916dc30): ../dataset/dataset_extracted/train_split/patient085/patient085_frame09.nii has unexpected scales in sform\n",
      "\n",
      "WARNING: In /tmp/SimpleITK-build/ITK/Modules/IO/NIFTI/src/itkNiftiImageIO.cxx, line 2008\n",
      "NiftiImageIO (0x55c7d916dc30): ../dataset/dataset_extracted/train_split/patient085/patient085_frame09.nii has unexpected scales in sform\n",
      "\n",
      "WARNING: In /tmp/SimpleITK-build/ITK/Modules/IO/NIFTI/src/itkNiftiImageIO.cxx, line 2008\n",
      "NiftiImageIO (0x55c7d916dc30): ../dataset/dataset_extracted/train_split/patient085/patient085_frame09_gt.nii has unexpected scales in sform\n",
      "\n",
      "WARNING: In /tmp/SimpleITK-build/ITK/Modules/IO/NIFTI/src/itkNiftiImageIO.cxx, line 2008\n",
      "NiftiImageIO (0x55c7d916dc30): ../dataset/dataset_extracted/train_split/patient085/patient085_frame09_gt.nii has unexpected scales in sform\n",
      "\n"
     ]
    },
    {
     "name": "stdout",
     "output_type": "stream",
     "text": [
      "Resampling: ../dataset/dataset_extracted/train_split/patient085/patient085_frame09.nii\n",
      "Resampling: ../dataset/dataset_extracted/train_split/patient085/patient085_frame09_gt.nii\n",
      "Resampling: ../dataset/dataset_extracted/train_split/patient080/patient080_frame01.nii\n"
     ]
    },
    {
     "name": "stderr",
     "output_type": "stream",
     "text": [
      "WARNING: In /tmp/SimpleITK-build/ITK/Modules/IO/NIFTI/src/itkNiftiImageIO.cxx, line 2008\n",
      "NiftiImageIO (0x55c7d916dc30): ../dataset/dataset_extracted/train_split/patient080/patient080_frame01.nii has unexpected scales in sform\n",
      "\n",
      "WARNING: In /tmp/SimpleITK-build/ITK/Modules/IO/NIFTI/src/itkNiftiImageIO.cxx, line 2008\n",
      "NiftiImageIO (0x55c7d916dc30): ../dataset/dataset_extracted/train_split/patient080/patient080_frame01.nii has unexpected scales in sform\n",
      "\n",
      "WARNING: In /tmp/SimpleITK-build/ITK/Modules/IO/NIFTI/src/itkNiftiImageIO.cxx, line 2008\n",
      "NiftiImageIO (0x55c7d916dc30): ../dataset/dataset_extracted/train_split/patient080/patient080_frame01_gt.nii has unexpected scales in sform\n",
      "\n",
      "WARNING: In /tmp/SimpleITK-build/ITK/Modules/IO/NIFTI/src/itkNiftiImageIO.cxx, line 2008\n",
      "NiftiImageIO (0x55c7d916dc30): ../dataset/dataset_extracted/train_split/patient080/patient080_frame01_gt.nii has unexpected scales in sform\n",
      "\n",
      "WARNING: In /tmp/SimpleITK-build/ITK/Modules/IO/NIFTI/src/itkNiftiImageIO.cxx, line 2008\n",
      "NiftiImageIO (0x55c7d916dc30): ../dataset/dataset_extracted/train_split/patient080/patient080_frame10.nii has unexpected scales in sform\n",
      "\n",
      "WARNING: In /tmp/SimpleITK-build/ITK/Modules/IO/NIFTI/src/itkNiftiImageIO.cxx, line 2008\n",
      "NiftiImageIO (0x55c7d916dc30): ../dataset/dataset_extracted/train_split/patient080/patient080_frame10.nii has unexpected scales in sform\n",
      "\n"
     ]
    },
    {
     "name": "stdout",
     "output_type": "stream",
     "text": [
      "Resampling: ../dataset/dataset_extracted/train_split/patient080/patient080_frame01_gt.nii\n",
      "Resampling: ../dataset/dataset_extracted/train_split/patient080/patient080_frame10.nii\n",
      "Resampling: ../dataset/dataset_extracted/train_split/patient080/patient080_frame10_gt.nii\n",
      "Processing directory: ../dataset/dataset_extracted/val_split\n"
     ]
    },
    {
     "name": "stderr",
     "output_type": "stream",
     "text": [
      "WARNING: In /tmp/SimpleITK-build/ITK/Modules/IO/NIFTI/src/itkNiftiImageIO.cxx, line 2008\n",
      "NiftiImageIO (0x55c7d916dc30): ../dataset/dataset_extracted/train_split/patient080/patient080_frame10_gt.nii has unexpected scales in sform\n",
      "\n",
      "WARNING: In /tmp/SimpleITK-build/ITK/Modules/IO/NIFTI/src/itkNiftiImageIO.cxx, line 2008\n",
      "NiftiImageIO (0x55c7d916dc30): ../dataset/dataset_extracted/train_split/patient080/patient080_frame10_gt.nii has unexpected scales in sform\n",
      "\n",
      "WARNING: In /tmp/SimpleITK-build/ITK/Modules/IO/NIFTI/src/itkNiftiImageIO.cxx, line 2008\n",
      "NiftiImageIO (0x55c7d916dc30): ../dataset/dataset_extracted/val_split/patient067/patient067_frame01.nii has unexpected scales in sform\n",
      "\n",
      "WARNING: In /tmp/SimpleITK-build/ITK/Modules/IO/NIFTI/src/itkNiftiImageIO.cxx, line 2008\n",
      "NiftiImageIO (0x55c7d916dc30): ../dataset/dataset_extracted/val_split/patient067/patient067_frame01.nii has unexpected scales in sform\n",
      "\n"
     ]
    },
    {
     "name": "stdout",
     "output_type": "stream",
     "text": [
      "Resampling: ../dataset/dataset_extracted/val_split/patient067/patient067_frame01.nii\n",
      "Resampling: ../dataset/dataset_extracted/val_split/patient067/patient067_frame01_gt.nii\n",
      "Resampling: ../dataset/dataset_extracted/val_split/patient067/patient067_frame10.nii\n",
      "Resampling: ../dataset/dataset_extracted/val_split/patient067/patient067_frame10_gt.nii\n"
     ]
    },
    {
     "name": "stderr",
     "output_type": "stream",
     "text": [
      "WARNING: In /tmp/SimpleITK-build/ITK/Modules/IO/NIFTI/src/itkNiftiImageIO.cxx, line 2008\n",
      "NiftiImageIO (0x55c7d916dc30): ../dataset/dataset_extracted/val_split/patient067/patient067_frame01_gt.nii has unexpected scales in sform\n",
      "\n",
      "WARNING: In /tmp/SimpleITK-build/ITK/Modules/IO/NIFTI/src/itkNiftiImageIO.cxx, line 2008\n",
      "NiftiImageIO (0x55c7d916dc30): ../dataset/dataset_extracted/val_split/patient067/patient067_frame01_gt.nii has unexpected scales in sform\n",
      "\n",
      "WARNING: In /tmp/SimpleITK-build/ITK/Modules/IO/NIFTI/src/itkNiftiImageIO.cxx, line 2008\n",
      "NiftiImageIO (0x55c7d916dc30): ../dataset/dataset_extracted/val_split/patient067/patient067_frame10.nii has unexpected scales in sform\n",
      "\n",
      "WARNING: In /tmp/SimpleITK-build/ITK/Modules/IO/NIFTI/src/itkNiftiImageIO.cxx, line 2008\n",
      "NiftiImageIO (0x55c7d916dc30): ../dataset/dataset_extracted/val_split/patient067/patient067_frame10.nii has unexpected scales in sform\n",
      "\n",
      "WARNING: In /tmp/SimpleITK-build/ITK/Modules/IO/NIFTI/src/itkNiftiImageIO.cxx, line 2008\n",
      "NiftiImageIO (0x55c7d916dc30): ../dataset/dataset_extracted/val_split/patient067/patient067_frame10_gt.nii has unexpected scales in sform\n",
      "\n",
      "WARNING: In /tmp/SimpleITK-build/ITK/Modules/IO/NIFTI/src/itkNiftiImageIO.cxx, line 2008\n",
      "NiftiImageIO (0x55c7d916dc30): ../dataset/dataset_extracted/val_split/patient067/patient067_frame10_gt.nii has unexpected scales in sform\n",
      "\n",
      "WARNING: In /tmp/SimpleITK-build/ITK/Modules/IO/NIFTI/src/itkNiftiImageIO.cxx, line 2008\n",
      "NiftiImageIO (0x55c7d916dc30): ../dataset/dataset_extracted/val_split/patient030/patient030_frame01.nii has unexpected scales in sform\n",
      "\n",
      "WARNING: In /tmp/SimpleITK-build/ITK/Modules/IO/NIFTI/src/itkNiftiImageIO.cxx, line 2008\n",
      "NiftiImageIO (0x55c7d916dc30): ../dataset/dataset_extracted/val_split/patient030/patient030_frame01.nii has unexpected scales in sform\n",
      "\n"
     ]
    },
    {
     "name": "stdout",
     "output_type": "stream",
     "text": [
      "Resampling: ../dataset/dataset_extracted/val_split/patient030/patient030_frame01.nii\n",
      "Resampling: ../dataset/dataset_extracted/val_split/patient030/patient030_frame01_gt.nii\n",
      "Resampling: ../dataset/dataset_extracted/val_split/patient030/patient030_frame12.nii\n"
     ]
    },
    {
     "name": "stderr",
     "output_type": "stream",
     "text": [
      "WARNING: In /tmp/SimpleITK-build/ITK/Modules/IO/NIFTI/src/itkNiftiImageIO.cxx, line 2008\n",
      "NiftiImageIO (0x55c7d916dc30): ../dataset/dataset_extracted/val_split/patient030/patient030_frame01_gt.nii has unexpected scales in sform\n",
      "\n",
      "WARNING: In /tmp/SimpleITK-build/ITK/Modules/IO/NIFTI/src/itkNiftiImageIO.cxx, line 2008\n",
      "NiftiImageIO (0x55c7d916dc30): ../dataset/dataset_extracted/val_split/patient030/patient030_frame01_gt.nii has unexpected scales in sform\n",
      "\n",
      "WARNING: In /tmp/SimpleITK-build/ITK/Modules/IO/NIFTI/src/itkNiftiImageIO.cxx, line 2008\n",
      "NiftiImageIO (0x55c7d916dc30): ../dataset/dataset_extracted/val_split/patient030/patient030_frame12.nii has unexpected scales in sform\n",
      "\n",
      "WARNING: In /tmp/SimpleITK-build/ITK/Modules/IO/NIFTI/src/itkNiftiImageIO.cxx, line 2008\n",
      "NiftiImageIO (0x55c7d916dc30): ../dataset/dataset_extracted/val_split/patient030/patient030_frame12.nii has unexpected scales in sform\n",
      "\n",
      "WARNING: In /tmp/SimpleITK-build/ITK/Modules/IO/NIFTI/src/itkNiftiImageIO.cxx, line 2008\n",
      "NiftiImageIO (0x55c7d916dc30): ../dataset/dataset_extracted/val_split/patient030/patient030_frame12_gt.nii has unexpected scales in sform\n",
      "\n",
      "WARNING: In /tmp/SimpleITK-build/ITK/Modules/IO/NIFTI/src/itkNiftiImageIO.cxx, line 2008\n",
      "NiftiImageIO (0x55c7d916dc30): ../dataset/dataset_extracted/val_split/patient030/patient030_frame12_gt.nii has unexpected scales in sform\n",
      "\n",
      "WARNING: In /tmp/SimpleITK-build/ITK/Modules/IO/NIFTI/src/itkNiftiImageIO.cxx, line 2008\n",
      "NiftiImageIO (0x55c7d916dc30): ../dataset/dataset_extracted/val_split/patient028/patient028_frame01.nii has unexpected scales in sform\n",
      "\n",
      "WARNING: In /tmp/SimpleITK-build/ITK/Modules/IO/NIFTI/src/itkNiftiImageIO.cxx, line 2008\n",
      "NiftiImageIO (0x55c7d916dc30): ../dataset/dataset_extracted/val_split/patient028/patient028_frame01.nii has unexpected scales in sform\n",
      "\n"
     ]
    },
    {
     "name": "stdout",
     "output_type": "stream",
     "text": [
      "Resampling: ../dataset/dataset_extracted/val_split/patient030/patient030_frame12_gt.nii\n",
      "Resampling: ../dataset/dataset_extracted/val_split/patient028/patient028_frame01.nii\n",
      "Resampling: ../dataset/dataset_extracted/val_split/patient028/patient028_frame01_gt.nii\n",
      "Resampling: ../dataset/dataset_extracted/val_split/patient028/patient028_frame09.nii\n"
     ]
    },
    {
     "name": "stderr",
     "output_type": "stream",
     "text": [
      "WARNING: In /tmp/SimpleITK-build/ITK/Modules/IO/NIFTI/src/itkNiftiImageIO.cxx, line 2008\n",
      "NiftiImageIO (0x55c7d916dc30): ../dataset/dataset_extracted/val_split/patient028/patient028_frame01_gt.nii has unexpected scales in sform\n",
      "\n",
      "WARNING: In /tmp/SimpleITK-build/ITK/Modules/IO/NIFTI/src/itkNiftiImageIO.cxx, line 2008\n",
      "NiftiImageIO (0x55c7d916dc30): ../dataset/dataset_extracted/val_split/patient028/patient028_frame01_gt.nii has unexpected scales in sform\n",
      "\n",
      "WARNING: In /tmp/SimpleITK-build/ITK/Modules/IO/NIFTI/src/itkNiftiImageIO.cxx, line 2008\n",
      "NiftiImageIO (0x55c7d916dc30): ../dataset/dataset_extracted/val_split/patient028/patient028_frame09.nii has unexpected scales in sform\n",
      "\n",
      "WARNING: In /tmp/SimpleITK-build/ITK/Modules/IO/NIFTI/src/itkNiftiImageIO.cxx, line 2008\n",
      "NiftiImageIO (0x55c7d916dc30): ../dataset/dataset_extracted/val_split/patient028/patient028_frame09.nii has unexpected scales in sform\n",
      "\n",
      "WARNING: In /tmp/SimpleITK-build/ITK/Modules/IO/NIFTI/src/itkNiftiImageIO.cxx, line 2008\n",
      "NiftiImageIO (0x55c7d916dc30): ../dataset/dataset_extracted/val_split/patient028/patient028_frame09_gt.nii has unexpected scales in sform\n",
      "\n",
      "WARNING: In /tmp/SimpleITK-build/ITK/Modules/IO/NIFTI/src/itkNiftiImageIO.cxx, line 2008\n",
      "NiftiImageIO (0x55c7d916dc30): ../dataset/dataset_extracted/val_split/patient028/patient028_frame09_gt.nii has unexpected scales in sform\n",
      "\n",
      "WARNING: In /tmp/SimpleITK-build/ITK/Modules/IO/NIFTI/src/itkNiftiImageIO.cxx, line 2008\n",
      "NiftiImageIO (0x55c7d916dc30): ../dataset/dataset_extracted/val_split/patient091/patient091_frame01.nii has unexpected scales in sform\n",
      "\n"
     ]
    },
    {
     "name": "stdout",
     "output_type": "stream",
     "text": [
      "Resampling: ../dataset/dataset_extracted/val_split/patient028/patient028_frame09_gt.nii\n",
      "Resampling: ../dataset/dataset_extracted/val_split/patient091/patient091_frame01.nii\n",
      "Resampling: ../dataset/dataset_extracted/val_split/patient091/patient091_frame01_gt.nii\n"
     ]
    },
    {
     "name": "stderr",
     "output_type": "stream",
     "text": [
      "WARNING: In /tmp/SimpleITK-build/ITK/Modules/IO/NIFTI/src/itkNiftiImageIO.cxx, line 2008\n",
      "NiftiImageIO (0x55c7d916dc30): ../dataset/dataset_extracted/val_split/patient091/patient091_frame01.nii has unexpected scales in sform\n",
      "\n",
      "WARNING: In /tmp/SimpleITK-build/ITK/Modules/IO/NIFTI/src/itkNiftiImageIO.cxx, line 2008\n",
      "NiftiImageIO (0x55c7d916dc30): ../dataset/dataset_extracted/val_split/patient091/patient091_frame01_gt.nii has unexpected scales in sform\n",
      "\n",
      "WARNING: In /tmp/SimpleITK-build/ITK/Modules/IO/NIFTI/src/itkNiftiImageIO.cxx, line 2008\n",
      "NiftiImageIO (0x55c7d916dc30): ../dataset/dataset_extracted/val_split/patient091/patient091_frame01_gt.nii has unexpected scales in sform\n",
      "\n",
      "WARNING: In /tmp/SimpleITK-build/ITK/Modules/IO/NIFTI/src/itkNiftiImageIO.cxx, line 2008\n",
      "NiftiImageIO (0x55c7d916dc30): ../dataset/dataset_extracted/val_split/patient091/patient091_frame09.nii has unexpected scales in sform\n",
      "\n",
      "WARNING: In /tmp/SimpleITK-build/ITK/Modules/IO/NIFTI/src/itkNiftiImageIO.cxx, line 2008\n",
      "NiftiImageIO (0x55c7d916dc30): ../dataset/dataset_extracted/val_split/patient091/patient091_frame09.nii has unexpected scales in sform\n",
      "\n",
      "WARNING: In /tmp/SimpleITK-build/ITK/Modules/IO/NIFTI/src/itkNiftiImageIO.cxx, line 2008\n",
      "NiftiImageIO (0x55c7d916dc30): ../dataset/dataset_extracted/val_split/patient091/patient091_frame09_gt.nii has unexpected scales in sform\n",
      "\n",
      "WARNING: In /tmp/SimpleITK-build/ITK/Modules/IO/NIFTI/src/itkNiftiImageIO.cxx, line 2008\n",
      "NiftiImageIO (0x55c7d916dc30): ../dataset/dataset_extracted/val_split/patient091/patient091_frame09_gt.nii has unexpected scales in sform\n",
      "\n"
     ]
    },
    {
     "name": "stdout",
     "output_type": "stream",
     "text": [
      "Resampling: ../dataset/dataset_extracted/val_split/patient091/patient091_frame09.nii\n",
      "Resampling: ../dataset/dataset_extracted/val_split/patient091/patient091_frame09_gt.nii\n",
      "Skipping already resampled: ../dataset/dataset_extracted/val_split/patient098/patient098_frame01.nii\n",
      "Skipping already resampled: ../dataset/dataset_extracted/val_split/patient098/patient098_frame01_gt.nii\n"
     ]
    },
    {
     "name": "stderr",
     "output_type": "stream",
     "text": [
      "WARNING: In /tmp/SimpleITK-build/ITK/Modules/IO/NIFTI/src/itkNiftiImageIO.cxx, line 2008\n",
      "NiftiImageIO (0x55c7d916dc30): ../dataset/dataset_extracted/val_split/patient098/patient098_frame01.nii has unexpected scales in sform\n",
      "\n",
      "WARNING: In /tmp/SimpleITK-build/ITK/Modules/IO/NIFTI/src/itkNiftiImageIO.cxx, line 2008\n",
      "NiftiImageIO (0x55c7d916dc30): ../dataset/dataset_extracted/val_split/patient098/patient098_frame01.nii has unexpected scales in sform\n",
      "\n",
      "WARNING: In /tmp/SimpleITK-build/ITK/Modules/IO/NIFTI/src/itkNiftiImageIO.cxx, line 2008\n",
      "NiftiImageIO (0x55c7d91fb2b0): ../dataset/dataset_extracted/val_split/patient098/patient098_frame01_gt.nii has unexpected scales in sform\n",
      "\n",
      "WARNING: In /tmp/SimpleITK-build/ITK/Modules/IO/NIFTI/src/itkNiftiImageIO.cxx, line 2008\n",
      "NiftiImageIO (0x55c7d91fb2b0): ../dataset/dataset_extracted/val_split/patient098/patient098_frame01_gt.nii has unexpected scales in sform\n",
      "\n",
      "WARNING: In /tmp/SimpleITK-build/ITK/Modules/IO/NIFTI/src/itkNiftiImageIO.cxx, line 2008\n",
      "NiftiImageIO (0x55c7d916dc30): ../dataset/dataset_extracted/val_split/patient098/patient098_frame09.nii has unexpected scales in sform\n",
      "\n",
      "WARNING: In /tmp/SimpleITK-build/ITK/Modules/IO/NIFTI/src/itkNiftiImageIO.cxx, line 2008\n",
      "NiftiImageIO (0x55c7d916dc30): ../dataset/dataset_extracted/val_split/patient098/patient098_frame09.nii has unexpected scales in sform\n",
      "\n"
     ]
    },
    {
     "name": "stdout",
     "output_type": "stream",
     "text": [
      "Skipping already resampled: ../dataset/dataset_extracted/val_split/patient098/patient098_frame09.nii\n",
      "Skipping already resampled: ../dataset/dataset_extracted/val_split/patient098/patient098_frame09_gt.nii\n",
      "Resampling: ../dataset/dataset_extracted/val_split/patient005/patient005_frame01.nii\n",
      "Resampling: ../dataset/dataset_extracted/val_split/patient005/patient005_frame01_gt.nii\n"
     ]
    },
    {
     "name": "stderr",
     "output_type": "stream",
     "text": [
      "WARNING: In /tmp/SimpleITK-build/ITK/Modules/IO/NIFTI/src/itkNiftiImageIO.cxx, line 2008\n",
      "NiftiImageIO (0x55c7d91fb2b0): ../dataset/dataset_extracted/val_split/patient098/patient098_frame09_gt.nii has unexpected scales in sform\n",
      "\n",
      "WARNING: In /tmp/SimpleITK-build/ITK/Modules/IO/NIFTI/src/itkNiftiImageIO.cxx, line 2008\n",
      "NiftiImageIO (0x55c7d91fb2b0): ../dataset/dataset_extracted/val_split/patient098/patient098_frame09_gt.nii has unexpected scales in sform\n",
      "\n",
      "WARNING: In /tmp/SimpleITK-build/ITK/Modules/IO/NIFTI/src/itkNiftiImageIO.cxx, line 2008\n",
      "NiftiImageIO (0x55c7d916dc30): ../dataset/dataset_extracted/val_split/patient005/patient005_frame01.nii has unexpected scales in sform\n",
      "\n",
      "WARNING: In /tmp/SimpleITK-build/ITK/Modules/IO/NIFTI/src/itkNiftiImageIO.cxx, line 2008\n",
      "NiftiImageIO (0x55c7d916dc30): ../dataset/dataset_extracted/val_split/patient005/patient005_frame01.nii has unexpected scales in sform\n",
      "\n",
      "WARNING: In /tmp/SimpleITK-build/ITK/Modules/IO/NIFTI/src/itkNiftiImageIO.cxx, line 2008\n",
      "NiftiImageIO (0x55c7d916dc30): ../dataset/dataset_extracted/val_split/patient005/patient005_frame01_gt.nii has unexpected scales in sform\n",
      "\n",
      "WARNING: In /tmp/SimpleITK-build/ITK/Modules/IO/NIFTI/src/itkNiftiImageIO.cxx, line 2008\n",
      "NiftiImageIO (0x55c7d916dc30): ../dataset/dataset_extracted/val_split/patient005/patient005_frame01_gt.nii has unexpected scales in sform\n",
      "\n",
      "WARNING: In /tmp/SimpleITK-build/ITK/Modules/IO/NIFTI/src/itkNiftiImageIO.cxx, line 2008\n",
      "NiftiImageIO (0x55c7d916dc30): ../dataset/dataset_extracted/val_split/patient005/patient005_frame13.nii has unexpected scales in sform\n",
      "\n",
      "WARNING: In /tmp/SimpleITK-build/ITK/Modules/IO/NIFTI/src/itkNiftiImageIO.cxx, line 2008\n",
      "NiftiImageIO (0x55c7d916dc30): ../dataset/dataset_extracted/val_split/patient005/patient005_frame13.nii has unexpected scales in sform\n",
      "\n",
      "WARNING: In /tmp/SimpleITK-build/ITK/Modules/IO/NIFTI/src/itkNiftiImageIO.cxx, line 2008\n",
      "NiftiImageIO (0x55c7d916dc30): ../dataset/dataset_extracted/val_split/patient005/patient005_frame13_gt.nii has unexpected scales in sform\n",
      "\n",
      "WARNING: In /tmp/SimpleITK-build/ITK/Modules/IO/NIFTI/src/itkNiftiImageIO.cxx, line 2008\n",
      "NiftiImageIO (0x55c7d916dc30): ../dataset/dataset_extracted/val_split/patient005/patient005_frame13_gt.nii has unexpected scales in sform\n",
      "\n",
      "WARNING: In /tmp/SimpleITK-build/ITK/Modules/IO/NIFTI/src/itkNiftiImageIO.cxx, line 2008\n",
      "NiftiImageIO (0x55c7d916dc30): ../dataset/dataset_extracted/val_split/patient056/patient056_frame01.nii has unexpected scales in sform\n",
      "\n",
      "WARNING: In /tmp/SimpleITK-build/ITK/Modules/IO/NIFTI/src/itkNiftiImageIO.cxx, line 2008\n",
      "NiftiImageIO (0x55c7d916dc30): ../dataset/dataset_extracted/val_split/patient056/patient056_frame01.nii has unexpected scales in sform\n",
      "\n",
      "WARNING: In /tmp/SimpleITK-build/ITK/Modules/IO/NIFTI/src/itkNiftiImageIO.cxx, line 2008\n",
      "NiftiImageIO (0x55c7d916dc30): ../dataset/dataset_extracted/val_split/patient056/patient056_frame01_gt.nii has unexpected scales in sform\n",
      "\n",
      "WARNING: In /tmp/SimpleITK-build/ITK/Modules/IO/NIFTI/src/itkNiftiImageIO.cxx, line 2008\n",
      "NiftiImageIO (0x55c7d916dc30): ../dataset/dataset_extracted/val_split/patient056/patient056_frame01_gt.nii has unexpected scales in sform\n",
      "\n"
     ]
    },
    {
     "name": "stdout",
     "output_type": "stream",
     "text": [
      "Resampling: ../dataset/dataset_extracted/val_split/patient005/patient005_frame13.nii\n",
      "Resampling: ../dataset/dataset_extracted/val_split/patient005/patient005_frame13_gt.nii\n",
      "Resampling: ../dataset/dataset_extracted/val_split/patient056/patient056_frame01.nii\n",
      "Resampling: ../dataset/dataset_extracted/val_split/patient056/patient056_frame01_gt.nii\n"
     ]
    },
    {
     "name": "stderr",
     "output_type": "stream",
     "text": [
      "WARNING: In /tmp/SimpleITK-build/ITK/Modules/IO/NIFTI/src/itkNiftiImageIO.cxx, line 2008\n",
      "NiftiImageIO (0x55c7d916dc30): ../dataset/dataset_extracted/val_split/patient056/patient056_frame12.nii has unexpected scales in sform\n",
      "\n",
      "WARNING: In /tmp/SimpleITK-build/ITK/Modules/IO/NIFTI/src/itkNiftiImageIO.cxx, line 2008\n",
      "NiftiImageIO (0x55c7d916dc30): ../dataset/dataset_extracted/val_split/patient056/patient056_frame12.nii has unexpected scales in sform\n",
      "\n",
      "WARNING: In /tmp/SimpleITK-build/ITK/Modules/IO/NIFTI/src/itkNiftiImageIO.cxx, line 2008\n",
      "NiftiImageIO (0x55c7d916dc30): ../dataset/dataset_extracted/val_split/patient056/patient056_frame12_gt.nii has unexpected scales in sform\n",
      "\n",
      "WARNING: In /tmp/SimpleITK-build/ITK/Modules/IO/NIFTI/src/itkNiftiImageIO.cxx, line 2008\n",
      "NiftiImageIO (0x55c7d916dc30): ../dataset/dataset_extracted/val_split/patient056/patient056_frame12_gt.nii has unexpected scales in sform\n",
      "\n",
      "WARNING: In /tmp/SimpleITK-build/ITK/Modules/IO/NIFTI/src/itkNiftiImageIO.cxx, line 2008\n",
      "NiftiImageIO (0x55c7d916dc30): ../dataset/dataset_extracted/val_split/patient078/patient078_frame01.nii has unexpected scales in sform\n",
      "\n",
      "WARNING: In /tmp/SimpleITK-build/ITK/Modules/IO/NIFTI/src/itkNiftiImageIO.cxx, line 2008\n",
      "NiftiImageIO (0x55c7d916dc30): ../dataset/dataset_extracted/val_split/patient078/patient078_frame01.nii has unexpected scales in sform\n",
      "\n",
      "WARNING: In /tmp/SimpleITK-build/ITK/Modules/IO/NIFTI/src/itkNiftiImageIO.cxx, line 2008\n",
      "NiftiImageIO (0x55c7d916dc30): ../dataset/dataset_extracted/val_split/patient078/patient078_frame01_gt.nii has unexpected scales in sform\n",
      "\n",
      "WARNING: In /tmp/SimpleITK-build/ITK/Modules/IO/NIFTI/src/itkNiftiImageIO.cxx, line 2008\n",
      "NiftiImageIO (0x55c7d916dc30): ../dataset/dataset_extracted/val_split/patient078/patient078_frame01_gt.nii has unexpected scales in sform\n",
      "\n"
     ]
    },
    {
     "name": "stdout",
     "output_type": "stream",
     "text": [
      "Resampling: ../dataset/dataset_extracted/val_split/patient056/patient056_frame12.nii\n",
      "Resampling: ../dataset/dataset_extracted/val_split/patient056/patient056_frame12_gt.nii\n",
      "Resampling: ../dataset/dataset_extracted/val_split/patient078/patient078_frame01.nii\n",
      "Resampling: ../dataset/dataset_extracted/val_split/patient078/patient078_frame01_gt.nii\n"
     ]
    },
    {
     "name": "stderr",
     "output_type": "stream",
     "text": [
      "WARNING: In /tmp/SimpleITK-build/ITK/Modules/IO/NIFTI/src/itkNiftiImageIO.cxx, line 2008\n",
      "NiftiImageIO (0x55c7d916dc30): ../dataset/dataset_extracted/val_split/patient078/patient078_frame09.nii has unexpected scales in sform\n",
      "\n",
      "WARNING: In /tmp/SimpleITK-build/ITK/Modules/IO/NIFTI/src/itkNiftiImageIO.cxx, line 2008\n",
      "NiftiImageIO (0x55c7d916dc30): ../dataset/dataset_extracted/val_split/patient078/patient078_frame09.nii has unexpected scales in sform\n",
      "\n",
      "WARNING: In /tmp/SimpleITK-build/ITK/Modules/IO/NIFTI/src/itkNiftiImageIO.cxx, line 2008\n",
      "NiftiImageIO (0x55c7d916dc30): ../dataset/dataset_extracted/val_split/patient078/patient078_frame09_gt.nii has unexpected scales in sform\n",
      "\n",
      "WARNING: In /tmp/SimpleITK-build/ITK/Modules/IO/NIFTI/src/itkNiftiImageIO.cxx, line 2008\n",
      "NiftiImageIO (0x55c7d916dc30): ../dataset/dataset_extracted/val_split/patient078/patient078_frame09_gt.nii has unexpected scales in sform\n",
      "\n",
      "WARNING: In /tmp/SimpleITK-build/ITK/Modules/IO/NIFTI/src/itkNiftiImageIO.cxx, line 2008\n",
      "NiftiImageIO (0x55c7d916dc30): ../dataset/dataset_extracted/val_split/patient012/patient012_frame01.nii has unexpected scales in sform\n",
      "\n",
      "WARNING: In /tmp/SimpleITK-build/ITK/Modules/IO/NIFTI/src/itkNiftiImageIO.cxx, line 2008\n",
      "NiftiImageIO (0x55c7d916dc30): ../dataset/dataset_extracted/val_split/patient012/patient012_frame01.nii has unexpected scales in sform\n",
      "\n"
     ]
    },
    {
     "name": "stdout",
     "output_type": "stream",
     "text": [
      "Resampling: ../dataset/dataset_extracted/val_split/patient078/patient078_frame09.nii\n",
      "Resampling: ../dataset/dataset_extracted/val_split/patient078/patient078_frame09_gt.nii\n",
      "Resampling: ../dataset/dataset_extracted/val_split/patient012/patient012_frame01.nii\n",
      "Resampling: ../dataset/dataset_extracted/val_split/patient012/patient012_frame01_gt.nii\n"
     ]
    },
    {
     "name": "stderr",
     "output_type": "stream",
     "text": [
      "WARNING: In /tmp/SimpleITK-build/ITK/Modules/IO/NIFTI/src/itkNiftiImageIO.cxx, line 2008\n",
      "NiftiImageIO (0x55c7d916dc30): ../dataset/dataset_extracted/val_split/patient012/patient012_frame01_gt.nii has unexpected scales in sform\n",
      "\n",
      "WARNING: In /tmp/SimpleITK-build/ITK/Modules/IO/NIFTI/src/itkNiftiImageIO.cxx, line 2008\n",
      "NiftiImageIO (0x55c7d916dc30): ../dataset/dataset_extracted/val_split/patient012/patient012_frame01_gt.nii has unexpected scales in sform\n",
      "\n",
      "WARNING: In /tmp/SimpleITK-build/ITK/Modules/IO/NIFTI/src/itkNiftiImageIO.cxx, line 2008\n",
      "NiftiImageIO (0x55c7d916dc30): ../dataset/dataset_extracted/val_split/patient012/patient012_frame13.nii has unexpected scales in sform\n",
      "\n",
      "WARNING: In /tmp/SimpleITK-build/ITK/Modules/IO/NIFTI/src/itkNiftiImageIO.cxx, line 2008\n",
      "NiftiImageIO (0x55c7d916dc30): ../dataset/dataset_extracted/val_split/patient012/patient012_frame13.nii has unexpected scales in sform\n",
      "\n",
      "WARNING: In /tmp/SimpleITK-build/ITK/Modules/IO/NIFTI/src/itkNiftiImageIO.cxx, line 2008\n",
      "NiftiImageIO (0x55c7d916dc30): ../dataset/dataset_extracted/val_split/patient012/patient012_frame13_gt.nii has unexpected scales in sform\n",
      "\n",
      "WARNING: In /tmp/SimpleITK-build/ITK/Modules/IO/NIFTI/src/itkNiftiImageIO.cxx, line 2008\n",
      "NiftiImageIO (0x55c7d916dc30): ../dataset/dataset_extracted/val_split/patient012/patient012_frame13_gt.nii has unexpected scales in sform\n",
      "\n",
      "WARNING: In /tmp/SimpleITK-build/ITK/Modules/IO/NIFTI/src/itkNiftiImageIO.cxx, line 2008\n",
      "NiftiImageIO (0x55c7d916dc30): ../dataset/dataset_extracted/val_split/patient072/patient072_frame01.nii has unexpected scales in sform\n",
      "\n",
      "WARNING: In /tmp/SimpleITK-build/ITK/Modules/IO/NIFTI/src/itkNiftiImageIO.cxx, line 2008\n",
      "NiftiImageIO (0x55c7d916dc30): ../dataset/dataset_extracted/val_split/patient072/patient072_frame01.nii has unexpected scales in sform\n",
      "\n",
      "WARNING: In /tmp/SimpleITK-build/ITK/Modules/IO/NIFTI/src/itkNiftiImageIO.cxx, line 2008\n",
      "NiftiImageIO (0x55c7d916dc30): ../dataset/dataset_extracted/val_split/patient072/patient072_frame01_gt.nii has unexpected scales in sform\n",
      "\n",
      "WARNING: In /tmp/SimpleITK-build/ITK/Modules/IO/NIFTI/src/itkNiftiImageIO.cxx, line 2008\n",
      "NiftiImageIO (0x55c7d916dc30): ../dataset/dataset_extracted/val_split/patient072/patient072_frame01_gt.nii has unexpected scales in sform\n",
      "\n"
     ]
    },
    {
     "name": "stdout",
     "output_type": "stream",
     "text": [
      "Resampling: ../dataset/dataset_extracted/val_split/patient012/patient012_frame13.nii\n",
      "Resampling: ../dataset/dataset_extracted/val_split/patient012/patient012_frame13_gt.nii\n",
      "Resampling: ../dataset/dataset_extracted/val_split/patient072/patient072_frame01.nii\n",
      "Resampling: ../dataset/dataset_extracted/val_split/patient072/patient072_frame01_gt.nii\n",
      "Resampling: ../dataset/dataset_extracted/val_split/patient072/patient072_frame11.nii\n"
     ]
    },
    {
     "name": "stderr",
     "output_type": "stream",
     "text": [
      "WARNING: In /tmp/SimpleITK-build/ITK/Modules/IO/NIFTI/src/itkNiftiImageIO.cxx, line 2008\n",
      "NiftiImageIO (0x55c7d916dc30): ../dataset/dataset_extracted/val_split/patient072/patient072_frame11.nii has unexpected scales in sform\n",
      "\n",
      "WARNING: In /tmp/SimpleITK-build/ITK/Modules/IO/NIFTI/src/itkNiftiImageIO.cxx, line 2008\n",
      "NiftiImageIO (0x55c7d916dc30): ../dataset/dataset_extracted/val_split/patient072/patient072_frame11.nii has unexpected scales in sform\n",
      "\n",
      "WARNING: In /tmp/SimpleITK-build/ITK/Modules/IO/NIFTI/src/itkNiftiImageIO.cxx, line 2008\n",
      "NiftiImageIO (0x55c7d916dc30): ../dataset/dataset_extracted/val_split/patient072/patient072_frame11_gt.nii has unexpected scales in sform\n",
      "\n",
      "WARNING: In /tmp/SimpleITK-build/ITK/Modules/IO/NIFTI/src/itkNiftiImageIO.cxx, line 2008\n",
      "NiftiImageIO (0x55c7d916dc30): ../dataset/dataset_extracted/val_split/patient072/patient072_frame11_gt.nii has unexpected scales in sform\n",
      "\n",
      "WARNING: In /tmp/SimpleITK-build/ITK/Modules/IO/NIFTI/src/itkNiftiImageIO.cxx, line 2008\n",
      "NiftiImageIO (0x55c7d916dc30): ../dataset/dataset_extracted/val_split/patient089/patient089_frame01.nii has unexpected scales in sform\n",
      "\n",
      "WARNING: In /tmp/SimpleITK-build/ITK/Modules/IO/NIFTI/src/itkNiftiImageIO.cxx, line 2008\n",
      "NiftiImageIO (0x55c7d916dc30): ../dataset/dataset_extracted/val_split/patient089/patient089_frame01.nii has unexpected scales in sform\n",
      "\n",
      "WARNING: In /tmp/SimpleITK-build/ITK/Modules/IO/NIFTI/src/itkNiftiImageIO.cxx, line 2008\n",
      "NiftiImageIO (0x55c7d916dc30): ../dataset/dataset_extracted/val_split/patient089/patient089_frame01_gt.nii has unexpected scales in sform\n",
      "\n",
      "WARNING: In /tmp/SimpleITK-build/ITK/Modules/IO/NIFTI/src/itkNiftiImageIO.cxx, line 2008\n",
      "NiftiImageIO (0x55c7d916dc30): ../dataset/dataset_extracted/val_split/patient089/patient089_frame01_gt.nii has unexpected scales in sform\n",
      "\n",
      "WARNING: In /tmp/SimpleITK-build/ITK/Modules/IO/NIFTI/src/itkNiftiImageIO.cxx, line 2008\n",
      "NiftiImageIO (0x55c7d916dc30): ../dataset/dataset_extracted/val_split/patient089/patient089_frame10.nii has unexpected scales in sform\n",
      "\n",
      "WARNING: In /tmp/SimpleITK-build/ITK/Modules/IO/NIFTI/src/itkNiftiImageIO.cxx, line 2008\n",
      "NiftiImageIO (0x55c7d916dc30): ../dataset/dataset_extracted/val_split/patient089/patient089_frame10.nii has unexpected scales in sform\n",
      "\n"
     ]
    },
    {
     "name": "stdout",
     "output_type": "stream",
     "text": [
      "Resampling: ../dataset/dataset_extracted/val_split/patient072/patient072_frame11_gt.nii\n",
      "Resampling: ../dataset/dataset_extracted/val_split/patient089/patient089_frame01.nii\n",
      "Resampling: ../dataset/dataset_extracted/val_split/patient089/patient089_frame01_gt.nii\n",
      "Resampling: ../dataset/dataset_extracted/val_split/patient089/patient089_frame10.nii\n"
     ]
    },
    {
     "name": "stderr",
     "output_type": "stream",
     "text": [
      "WARNING: In /tmp/SimpleITK-build/ITK/Modules/IO/NIFTI/src/itkNiftiImageIO.cxx, line 2008\n",
      "NiftiImageIO (0x55c7d916dc30): ../dataset/dataset_extracted/val_split/patient089/patient089_frame10_gt.nii has unexpected scales in sform\n",
      "\n",
      "WARNING: In /tmp/SimpleITK-build/ITK/Modules/IO/NIFTI/src/itkNiftiImageIO.cxx, line 2008\n",
      "NiftiImageIO (0x55c7d916dc30): ../dataset/dataset_extracted/val_split/patient089/patient089_frame10_gt.nii has unexpected scales in sform\n",
      "\n",
      "WARNING: In /tmp/SimpleITK-build/ITK/Modules/IO/NIFTI/src/itkNiftiImageIO.cxx, line 2008\n",
      "NiftiImageIO (0x55c7d916dc30): ../dataset/dataset_extracted/val_split/patient014/patient014_frame01.nii has unexpected scales in sform\n",
      "\n",
      "WARNING: In /tmp/SimpleITK-build/ITK/Modules/IO/NIFTI/src/itkNiftiImageIO.cxx, line 2008\n",
      "NiftiImageIO (0x55c7d916dc30): ../dataset/dataset_extracted/val_split/patient014/patient014_frame01.nii has unexpected scales in sform\n",
      "\n",
      "WARNING: In /tmp/SimpleITK-build/ITK/Modules/IO/NIFTI/src/itkNiftiImageIO.cxx, line 2008\n",
      "NiftiImageIO (0x55c7d916dc30): ../dataset/dataset_extracted/val_split/patient014/patient014_frame01_gt.nii has unexpected scales in sform\n",
      "\n",
      "WARNING: In /tmp/SimpleITK-build/ITK/Modules/IO/NIFTI/src/itkNiftiImageIO.cxx, line 2008\n",
      "NiftiImageIO (0x55c7d916dc30): ../dataset/dataset_extracted/val_split/patient014/patient014_frame01_gt.nii has unexpected scales in sform\n",
      "\n",
      "WARNING: In /tmp/SimpleITK-build/ITK/Modules/IO/NIFTI/src/itkNiftiImageIO.cxx, line 2008\n",
      "NiftiImageIO (0x55c7d916dc30): ../dataset/dataset_extracted/val_split/patient014/patient014_frame13.nii has unexpected scales in sform\n",
      "\n",
      "WARNING: In /tmp/SimpleITK-build/ITK/Modules/IO/NIFTI/src/itkNiftiImageIO.cxx, line 2008\n",
      "NiftiImageIO (0x55c7d916dc30): ../dataset/dataset_extracted/val_split/patient014/patient014_frame13.nii has unexpected scales in sform\n",
      "\n"
     ]
    },
    {
     "name": "stdout",
     "output_type": "stream",
     "text": [
      "Resampling: ../dataset/dataset_extracted/val_split/patient089/patient089_frame10_gt.nii\n",
      "Resampling: ../dataset/dataset_extracted/val_split/patient014/patient014_frame01.nii\n",
      "Resampling: ../dataset/dataset_extracted/val_split/patient014/patient014_frame01_gt.nii\n",
      "Resampling: ../dataset/dataset_extracted/val_split/patient014/patient014_frame13.nii\n"
     ]
    },
    {
     "name": "stderr",
     "output_type": "stream",
     "text": [
      "WARNING: In /tmp/SimpleITK-build/ITK/Modules/IO/NIFTI/src/itkNiftiImageIO.cxx, line 2008\n",
      "NiftiImageIO (0x55c7d916dc30): ../dataset/dataset_extracted/val_split/patient014/patient014_frame13_gt.nii has unexpected scales in sform\n",
      "\n",
      "WARNING: In /tmp/SimpleITK-build/ITK/Modules/IO/NIFTI/src/itkNiftiImageIO.cxx, line 2008\n",
      "NiftiImageIO (0x55c7d916dc30): ../dataset/dataset_extracted/val_split/patient014/patient014_frame13_gt.nii has unexpected scales in sform\n",
      "\n",
      "WARNING: In /tmp/SimpleITK-build/ITK/Modules/IO/NIFTI/src/itkNiftiImageIO.cxx, line 2008\n",
      "NiftiImageIO (0x55c7d916dc30): ../dataset/dataset_extracted/val_split/patient018/patient018_frame01.nii has unexpected scales in sform\n",
      "\n",
      "WARNING: In /tmp/SimpleITK-build/ITK/Modules/IO/NIFTI/src/itkNiftiImageIO.cxx, line 2008\n",
      "NiftiImageIO (0x55c7d916dc30): ../dataset/dataset_extracted/val_split/patient018/patient018_frame01.nii has unexpected scales in sform\n",
      "\n",
      "WARNING: In /tmp/SimpleITK-build/ITK/Modules/IO/NIFTI/src/itkNiftiImageIO.cxx, line 2008\n",
      "NiftiImageIO (0x55c7d916dc30): ../dataset/dataset_extracted/val_split/patient018/patient018_frame01_gt.nii has unexpected scales in sform\n",
      "\n",
      "WARNING: In /tmp/SimpleITK-build/ITK/Modules/IO/NIFTI/src/itkNiftiImageIO.cxx, line 2008\n",
      "NiftiImageIO (0x55c7d916dc30): ../dataset/dataset_extracted/val_split/patient018/patient018_frame01_gt.nii has unexpected scales in sform\n",
      "\n",
      "WARNING: In /tmp/SimpleITK-build/ITK/Modules/IO/NIFTI/src/itkNiftiImageIO.cxx, line 2008\n",
      "NiftiImageIO (0x55c7d916dc30): ../dataset/dataset_extracted/val_split/patient018/patient018_frame10.nii has unexpected scales in sform\n",
      "\n",
      "WARNING: In /tmp/SimpleITK-build/ITK/Modules/IO/NIFTI/src/itkNiftiImageIO.cxx, line 2008\n",
      "NiftiImageIO (0x55c7d916dc30): ../dataset/dataset_extracted/val_split/patient018/patient018_frame10.nii has unexpected scales in sform\n",
      "\n"
     ]
    },
    {
     "name": "stdout",
     "output_type": "stream",
     "text": [
      "Resampling: ../dataset/dataset_extracted/val_split/patient014/patient014_frame13_gt.nii\n",
      "Resampling: ../dataset/dataset_extracted/val_split/patient018/patient018_frame01.nii\n",
      "Resampling: ../dataset/dataset_extracted/val_split/patient018/patient018_frame01_gt.nii\n",
      "Resampling: ../dataset/dataset_extracted/val_split/patient018/patient018_frame10.nii\n",
      "Resampling: ../dataset/dataset_extracted/val_split/patient018/patient018_frame10_gt.nii\n",
      "Resampling: ../dataset/dataset_extracted/val_split/patient029/patient029_frame01.nii\n",
      "Resampling: ../dataset/dataset_extracted/val_split/patient029/patient029_frame01_gt.nii\n",
      "Resampling: ../dataset/dataset_extracted/val_split/patient029/patient029_frame12.nii\n"
     ]
    },
    {
     "name": "stderr",
     "output_type": "stream",
     "text": [
      "WARNING: In /tmp/SimpleITK-build/ITK/Modules/IO/NIFTI/src/itkNiftiImageIO.cxx, line 2008\n",
      "NiftiImageIO (0x55c7d916dc30): ../dataset/dataset_extracted/val_split/patient018/patient018_frame10_gt.nii has unexpected scales in sform\n",
      "\n",
      "WARNING: In /tmp/SimpleITK-build/ITK/Modules/IO/NIFTI/src/itkNiftiImageIO.cxx, line 2008\n",
      "NiftiImageIO (0x55c7d916dc30): ../dataset/dataset_extracted/val_split/patient018/patient018_frame10_gt.nii has unexpected scales in sform\n",
      "\n",
      "WARNING: In /tmp/SimpleITK-build/ITK/Modules/IO/NIFTI/src/itkNiftiImageIO.cxx, line 2008\n",
      "NiftiImageIO (0x55c7d916dc30): ../dataset/dataset_extracted/val_split/patient029/patient029_frame01.nii has unexpected scales in sform\n",
      "\n",
      "WARNING: In /tmp/SimpleITK-build/ITK/Modules/IO/NIFTI/src/itkNiftiImageIO.cxx, line 2008\n",
      "NiftiImageIO (0x55c7d916dc30): ../dataset/dataset_extracted/val_split/patient029/patient029_frame01.nii has unexpected scales in sform\n",
      "\n",
      "WARNING: In /tmp/SimpleITK-build/ITK/Modules/IO/NIFTI/src/itkNiftiImageIO.cxx, line 2008\n",
      "NiftiImageIO (0x55c7d916dc30): ../dataset/dataset_extracted/val_split/patient029/patient029_frame01_gt.nii has unexpected scales in sform\n",
      "\n",
      "WARNING: In /tmp/SimpleITK-build/ITK/Modules/IO/NIFTI/src/itkNiftiImageIO.cxx, line 2008\n",
      "NiftiImageIO (0x55c7d916dc30): ../dataset/dataset_extracted/val_split/patient029/patient029_frame01_gt.nii has unexpected scales in sform\n",
      "\n",
      "WARNING: In /tmp/SimpleITK-build/ITK/Modules/IO/NIFTI/src/itkNiftiImageIO.cxx, line 2008\n",
      "NiftiImageIO (0x55c7d916dc30): ../dataset/dataset_extracted/val_split/patient029/patient029_frame12.nii has unexpected scales in sform\n",
      "\n",
      "WARNING: In /tmp/SimpleITK-build/ITK/Modules/IO/NIFTI/src/itkNiftiImageIO.cxx, line 2008\n",
      "NiftiImageIO (0x55c7d916dc30): ../dataset/dataset_extracted/val_split/patient029/patient029_frame12.nii has unexpected scales in sform\n",
      "\n",
      "WARNING: In /tmp/SimpleITK-build/ITK/Modules/IO/NIFTI/src/itkNiftiImageIO.cxx, line 2008\n",
      "NiftiImageIO (0x55c7d916dc30): ../dataset/dataset_extracted/val_split/patient029/patient029_frame12_gt.nii has unexpected scales in sform\n",
      "\n",
      "WARNING: In /tmp/SimpleITK-build/ITK/Modules/IO/NIFTI/src/itkNiftiImageIO.cxx, line 2008\n",
      "NiftiImageIO (0x55c7d916dc30): ../dataset/dataset_extracted/val_split/patient029/patient029_frame12_gt.nii has unexpected scales in sform\n",
      "\n"
     ]
    },
    {
     "name": "stdout",
     "output_type": "stream",
     "text": [
      "Resampling: ../dataset/dataset_extracted/val_split/patient029/patient029_frame12_gt.nii\n",
      "Resampling: ../dataset/dataset_extracted/val_split/patient032/patient032_frame01.nii\n",
      "Resampling: ../dataset/dataset_extracted/val_split/patient032/patient032_frame01_gt.nii\n",
      "Resampling: ../dataset/dataset_extracted/val_split/patient032/patient032_frame12.nii\n",
      "Resampling: ../dataset/dataset_extracted/val_split/patient032/patient032_frame12_gt.nii\n"
     ]
    },
    {
     "name": "stderr",
     "output_type": "stream",
     "text": [
      "WARNING: In /tmp/SimpleITK-build/ITK/Modules/IO/NIFTI/src/itkNiftiImageIO.cxx, line 2008\n",
      "NiftiImageIO (0x55c7d916dc30): ../dataset/dataset_extracted/val_split/patient032/patient032_frame01.nii has unexpected scales in sform\n",
      "\n",
      "WARNING: In /tmp/SimpleITK-build/ITK/Modules/IO/NIFTI/src/itkNiftiImageIO.cxx, line 2008\n",
      "NiftiImageIO (0x55c7d916dc30): ../dataset/dataset_extracted/val_split/patient032/patient032_frame01.nii has unexpected scales in sform\n",
      "\n",
      "WARNING: In /tmp/SimpleITK-build/ITK/Modules/IO/NIFTI/src/itkNiftiImageIO.cxx, line 2008\n",
      "NiftiImageIO (0x55c7d916dc30): ../dataset/dataset_extracted/val_split/patient032/patient032_frame01_gt.nii has unexpected scales in sform\n",
      "\n",
      "WARNING: In /tmp/SimpleITK-build/ITK/Modules/IO/NIFTI/src/itkNiftiImageIO.cxx, line 2008\n",
      "NiftiImageIO (0x55c7d916dc30): ../dataset/dataset_extracted/val_split/patient032/patient032_frame01_gt.nii has unexpected scales in sform\n",
      "\n",
      "WARNING: In /tmp/SimpleITK-build/ITK/Modules/IO/NIFTI/src/itkNiftiImageIO.cxx, line 2008\n",
      "NiftiImageIO (0x55c7d916dc30): ../dataset/dataset_extracted/val_split/patient032/patient032_frame12.nii has unexpected scales in sform\n",
      "\n",
      "WARNING: In /tmp/SimpleITK-build/ITK/Modules/IO/NIFTI/src/itkNiftiImageIO.cxx, line 2008\n",
      "NiftiImageIO (0x55c7d916dc30): ../dataset/dataset_extracted/val_split/patient032/patient032_frame12.nii has unexpected scales in sform\n",
      "\n",
      "WARNING: In /tmp/SimpleITK-build/ITK/Modules/IO/NIFTI/src/itkNiftiImageIO.cxx, line 2008\n",
      "NiftiImageIO (0x55c7d916dc30): ../dataset/dataset_extracted/val_split/patient032/patient032_frame12_gt.nii has unexpected scales in sform\n",
      "\n",
      "WARNING: In /tmp/SimpleITK-build/ITK/Modules/IO/NIFTI/src/itkNiftiImageIO.cxx, line 2008\n",
      "NiftiImageIO (0x55c7d916dc30): ../dataset/dataset_extracted/val_split/patient032/patient032_frame12_gt.nii has unexpected scales in sform\n",
      "\n",
      "WARNING: In /tmp/SimpleITK-build/ITK/Modules/IO/NIFTI/src/itkNiftiImageIO.cxx, line 2008\n",
      "NiftiImageIO (0x55c7d916dc30): ../dataset/dataset_extracted/val_split/patient036/patient036_frame01.nii has unexpected scales in sform\n",
      "\n",
      "WARNING: In /tmp/SimpleITK-build/ITK/Modules/IO/NIFTI/src/itkNiftiImageIO.cxx, line 2008\n",
      "NiftiImageIO (0x55c7d916dc30): ../dataset/dataset_extracted/val_split/patient036/patient036_frame01.nii has unexpected scales in sform\n",
      "\n",
      "WARNING: In /tmp/SimpleITK-build/ITK/Modules/IO/NIFTI/src/itkNiftiImageIO.cxx, line 2008\n",
      "NiftiImageIO (0x55c7d916dc30): ../dataset/dataset_extracted/val_split/patient036/patient036_frame01_gt.nii has unexpected scales in sform\n",
      "\n",
      "WARNING: In /tmp/SimpleITK-build/ITK/Modules/IO/NIFTI/src/itkNiftiImageIO.cxx, line 2008\n",
      "NiftiImageIO (0x55c7d916dc30): ../dataset/dataset_extracted/val_split/patient036/patient036_frame01_gt.nii has unexpected scales in sform\n",
      "\n",
      "WARNING: In /tmp/SimpleITK-build/ITK/Modules/IO/NIFTI/src/itkNiftiImageIO.cxx, line 2008\n",
      "NiftiImageIO (0x55c7d916dc30): ../dataset/dataset_extracted/val_split/patient036/patient036_frame12.nii has unexpected scales in sform\n",
      "\n",
      "WARNING: In /tmp/SimpleITK-build/ITK/Modules/IO/NIFTI/src/itkNiftiImageIO.cxx, line 2008\n",
      "NiftiImageIO (0x55c7d916dc30): ../dataset/dataset_extracted/val_split/patient036/patient036_frame12.nii has unexpected scales in sform\n",
      "\n",
      "WARNING: In /tmp/SimpleITK-build/ITK/Modules/IO/NIFTI/src/itkNiftiImageIO.cxx, line 2008\n",
      "NiftiImageIO (0x55c7d916dc30): ../dataset/dataset_extracted/val_split/patient036/patient036_frame12_gt.nii has unexpected scales in sform\n",
      "\n",
      "WARNING: In /tmp/SimpleITK-build/ITK/Modules/IO/NIFTI/src/itkNiftiImageIO.cxx, line 2008\n",
      "NiftiImageIO (0x55c7d916dc30): ../dataset/dataset_extracted/val_split/patient036/patient036_frame12_gt.nii has unexpected scales in sform\n",
      "\n",
      "WARNING: In /tmp/SimpleITK-build/ITK/Modules/IO/NIFTI/src/itkNiftiImageIO.cxx, line 2008\n",
      "NiftiImageIO (0x55c7d916dc30): ../dataset/dataset_extracted/val_split/patient097/patient097_frame01.nii has unexpected scales in sform\n",
      "\n",
      "WARNING: In /tmp/SimpleITK-build/ITK/Modules/IO/NIFTI/src/itkNiftiImageIO.cxx, line 2008\n",
      "NiftiImageIO (0x55c7d916dc30): ../dataset/dataset_extracted/val_split/patient097/patient097_frame01.nii has unexpected scales in sform\n",
      "\n"
     ]
    },
    {
     "name": "stdout",
     "output_type": "stream",
     "text": [
      "Resampling: ../dataset/dataset_extracted/val_split/patient036/patient036_frame01.nii\n",
      "Resampling: ../dataset/dataset_extracted/val_split/patient036/patient036_frame01_gt.nii\n",
      "Resampling: ../dataset/dataset_extracted/val_split/patient036/patient036_frame12.nii\n",
      "Resampling: ../dataset/dataset_extracted/val_split/patient036/patient036_frame12_gt.nii\n",
      "Resampling: ../dataset/dataset_extracted/val_split/patient097/patient097_frame01.nii\n"
     ]
    },
    {
     "name": "stderr",
     "output_type": "stream",
     "text": [
      "WARNING: In /tmp/SimpleITK-build/ITK/Modules/IO/NIFTI/src/itkNiftiImageIO.cxx, line 2008\n",
      "NiftiImageIO (0x55c7d916dc30): ../dataset/dataset_extracted/val_split/patient097/patient097_frame01_gt.nii has unexpected scales in sform\n",
      "\n",
      "WARNING: In /tmp/SimpleITK-build/ITK/Modules/IO/NIFTI/src/itkNiftiImageIO.cxx, line 2008\n",
      "NiftiImageIO (0x55c7d916dc30): ../dataset/dataset_extracted/val_split/patient097/patient097_frame01_gt.nii has unexpected scales in sform\n",
      "\n",
      "WARNING: In /tmp/SimpleITK-build/ITK/Modules/IO/NIFTI/src/itkNiftiImageIO.cxx, line 2008\n",
      "NiftiImageIO (0x55c7d916dc30): ../dataset/dataset_extracted/val_split/patient097/patient097_frame11.nii has unexpected scales in sform\n",
      "\n",
      "WARNING: In /tmp/SimpleITK-build/ITK/Modules/IO/NIFTI/src/itkNiftiImageIO.cxx, line 2008\n",
      "NiftiImageIO (0x55c7d916dc30): ../dataset/dataset_extracted/val_split/patient097/patient097_frame11.nii has unexpected scales in sform\n",
      "\n",
      "WARNING: In /tmp/SimpleITK-build/ITK/Modules/IO/NIFTI/src/itkNiftiImageIO.cxx, line 2008\n",
      "NiftiImageIO (0x55c7d916dc30): ../dataset/dataset_extracted/val_split/patient097/patient097_frame11_gt.nii has unexpected scales in sform\n",
      "\n",
      "WARNING: In /tmp/SimpleITK-build/ITK/Modules/IO/NIFTI/src/itkNiftiImageIO.cxx, line 2008\n",
      "NiftiImageIO (0x55c7d916dc30): ../dataset/dataset_extracted/val_split/patient097/patient097_frame11_gt.nii has unexpected scales in sform\n",
      "\n",
      "WARNING: In /tmp/SimpleITK-build/ITK/Modules/IO/NIFTI/src/itkNiftiImageIO.cxx, line 2008\n",
      "NiftiImageIO (0x55c7d916dc30): ../dataset/dataset_extracted/val_split/patient004/patient004_frame01.nii has unexpected scales in sform\n",
      "\n",
      "WARNING: In /tmp/SimpleITK-build/ITK/Modules/IO/NIFTI/src/itkNiftiImageIO.cxx, line 2008\n",
      "NiftiImageIO (0x55c7d916dc30): ../dataset/dataset_extracted/val_split/patient004/patient004_frame01.nii has unexpected scales in sform\n",
      "\n",
      "WARNING: In /tmp/SimpleITK-build/ITK/Modules/IO/NIFTI/src/itkNiftiImageIO.cxx, line 2008\n",
      "NiftiImageIO (0x55c7d916dc30): ../dataset/dataset_extracted/val_split/patient004/patient004_frame01_gt.nii has unexpected scales in sform\n",
      "\n",
      "WARNING: In /tmp/SimpleITK-build/ITK/Modules/IO/NIFTI/src/itkNiftiImageIO.cxx, line 2008\n",
      "NiftiImageIO (0x55c7d916dc30): ../dataset/dataset_extracted/val_split/patient004/patient004_frame01_gt.nii has unexpected scales in sform\n",
      "\n"
     ]
    },
    {
     "name": "stdout",
     "output_type": "stream",
     "text": [
      "Resampling: ../dataset/dataset_extracted/val_split/patient097/patient097_frame01_gt.nii\n",
      "Resampling: ../dataset/dataset_extracted/val_split/patient097/patient097_frame11.nii\n",
      "Resampling: ../dataset/dataset_extracted/val_split/patient097/patient097_frame11_gt.nii\n",
      "Resampling: ../dataset/dataset_extracted/val_split/patient004/patient004_frame01.nii\n",
      "Resampling: ../dataset/dataset_extracted/val_split/patient004/patient004_frame01_gt.nii\n"
     ]
    },
    {
     "name": "stderr",
     "output_type": "stream",
     "text": [
      "WARNING: In /tmp/SimpleITK-build/ITK/Modules/IO/NIFTI/src/itkNiftiImageIO.cxx, line 2008\n",
      "NiftiImageIO (0x55c7d916dc30): ../dataset/dataset_extracted/val_split/patient004/patient004_frame15.nii has unexpected scales in sform\n",
      "\n",
      "WARNING: In /tmp/SimpleITK-build/ITK/Modules/IO/NIFTI/src/itkNiftiImageIO.cxx, line 2008\n",
      "NiftiImageIO (0x55c7d916dc30): ../dataset/dataset_extracted/val_split/patient004/patient004_frame15.nii has unexpected scales in sform\n",
      "\n",
      "WARNING: In /tmp/SimpleITK-build/ITK/Modules/IO/NIFTI/src/itkNiftiImageIO.cxx, line 2008\n",
      "NiftiImageIO (0x55c7d916dc30): ../dataset/dataset_extracted/val_split/patient004/patient004_frame15_gt.nii has unexpected scales in sform\n",
      "\n",
      "WARNING: In /tmp/SimpleITK-build/ITK/Modules/IO/NIFTI/src/itkNiftiImageIO.cxx, line 2008\n",
      "NiftiImageIO (0x55c7d916dc30): ../dataset/dataset_extracted/val_split/patient004/patient004_frame15_gt.nii has unexpected scales in sform\n",
      "\n",
      "WARNING: In /tmp/SimpleITK-build/ITK/Modules/IO/NIFTI/src/itkNiftiImageIO.cxx, line 2008\n",
      "NiftiImageIO (0x55c7d916dc30): ../dataset/dataset_extracted/val_split/patient015/patient015_frame01.nii has unexpected scales in sform\n",
      "\n",
      "WARNING: In /tmp/SimpleITK-build/ITK/Modules/IO/NIFTI/src/itkNiftiImageIO.cxx, line 2008\n",
      "NiftiImageIO (0x55c7d916dc30): ../dataset/dataset_extracted/val_split/patient015/patient015_frame01.nii has unexpected scales in sform\n",
      "\n",
      "WARNING: In /tmp/SimpleITK-build/ITK/Modules/IO/NIFTI/src/itkNiftiImageIO.cxx, line 2008\n",
      "NiftiImageIO (0x55c7d916dc30): ../dataset/dataset_extracted/val_split/patient015/patient015_frame01_gt.nii has unexpected scales in sform\n",
      "\n",
      "WARNING: In /tmp/SimpleITK-build/ITK/Modules/IO/NIFTI/src/itkNiftiImageIO.cxx, line 2008\n",
      "NiftiImageIO (0x55c7d916dc30): ../dataset/dataset_extracted/val_split/patient015/patient015_frame01_gt.nii has unexpected scales in sform\n",
      "\n",
      "WARNING: In /tmp/SimpleITK-build/ITK/Modules/IO/NIFTI/src/itkNiftiImageIO.cxx, line 2008\n",
      "NiftiImageIO (0x55c7d916dc30): ../dataset/dataset_extracted/val_split/patient015/patient015_frame10.nii has unexpected scales in sform\n",
      "\n",
      "WARNING: In /tmp/SimpleITK-build/ITK/Modules/IO/NIFTI/src/itkNiftiImageIO.cxx, line 2008\n",
      "NiftiImageIO (0x55c7d916dc30): ../dataset/dataset_extracted/val_split/patient015/patient015_frame10.nii has unexpected scales in sform\n",
      "\n"
     ]
    },
    {
     "name": "stdout",
     "output_type": "stream",
     "text": [
      "Resampling: ../dataset/dataset_extracted/val_split/patient004/patient004_frame15.nii\n",
      "Resampling: ../dataset/dataset_extracted/val_split/patient004/patient004_frame15_gt.nii\n",
      "Resampling: ../dataset/dataset_extracted/val_split/patient015/patient015_frame01.nii\n",
      "Resampling: ../dataset/dataset_extracted/val_split/patient015/patient015_frame01_gt.nii\n",
      "Resampling: ../dataset/dataset_extracted/val_split/patient015/patient015_frame10.nii\n",
      "Resampling: ../dataset/dataset_extracted/val_split/patient015/patient015_frame10_gt.nii\n",
      "Resampling: ../dataset/dataset_extracted/val_split/patient084/patient084_frame01.nii\n",
      "Resampling: ../dataset/dataset_extracted/val_split/patient084/patient084_frame01_gt.nii\n",
      "Resampling: ../dataset/dataset_extracted/val_split/patient084/patient084_frame10.nii\n",
      "Resampling: ../dataset/dataset_extracted/val_split/patient084/patient084_frame10_gt.nii\n",
      "Resampling for train_split and val_split complete.\n"
     ]
    },
    {
     "name": "stderr",
     "output_type": "stream",
     "text": [
      "WARNING: In /tmp/SimpleITK-build/ITK/Modules/IO/NIFTI/src/itkNiftiImageIO.cxx, line 2008\n",
      "NiftiImageIO (0x55c7d916dc30): ../dataset/dataset_extracted/val_split/patient015/patient015_frame10_gt.nii has unexpected scales in sform\n",
      "\n",
      "WARNING: In /tmp/SimpleITK-build/ITK/Modules/IO/NIFTI/src/itkNiftiImageIO.cxx, line 2008\n",
      "NiftiImageIO (0x55c7d916dc30): ../dataset/dataset_extracted/val_split/patient015/patient015_frame10_gt.nii has unexpected scales in sform\n",
      "\n",
      "WARNING: In /tmp/SimpleITK-build/ITK/Modules/IO/NIFTI/src/itkNiftiImageIO.cxx, line 2008\n",
      "NiftiImageIO (0x55c7d916dc30): ../dataset/dataset_extracted/val_split/patient084/patient084_frame01.nii has unexpected scales in sform\n",
      "\n",
      "WARNING: In /tmp/SimpleITK-build/ITK/Modules/IO/NIFTI/src/itkNiftiImageIO.cxx, line 2008\n",
      "NiftiImageIO (0x55c7d916dc30): ../dataset/dataset_extracted/val_split/patient084/patient084_frame01.nii has unexpected scales in sform\n",
      "\n",
      "WARNING: In /tmp/SimpleITK-build/ITK/Modules/IO/NIFTI/src/itkNiftiImageIO.cxx, line 2008\n",
      "NiftiImageIO (0x55c7d916dc30): ../dataset/dataset_extracted/val_split/patient084/patient084_frame01_gt.nii has unexpected scales in sform\n",
      "\n",
      "WARNING: In /tmp/SimpleITK-build/ITK/Modules/IO/NIFTI/src/itkNiftiImageIO.cxx, line 2008\n",
      "NiftiImageIO (0x55c7d916dc30): ../dataset/dataset_extracted/val_split/patient084/patient084_frame01_gt.nii has unexpected scales in sform\n",
      "\n",
      "WARNING: In /tmp/SimpleITK-build/ITK/Modules/IO/NIFTI/src/itkNiftiImageIO.cxx, line 2008\n",
      "NiftiImageIO (0x55c7d916dc30): ../dataset/dataset_extracted/val_split/patient084/patient084_frame10.nii has unexpected scales in sform\n",
      "\n",
      "WARNING: In /tmp/SimpleITK-build/ITK/Modules/IO/NIFTI/src/itkNiftiImageIO.cxx, line 2008\n",
      "NiftiImageIO (0x55c7d916dc30): ../dataset/dataset_extracted/val_split/patient084/patient084_frame10.nii has unexpected scales in sform\n",
      "\n",
      "WARNING: In /tmp/SimpleITK-build/ITK/Modules/IO/NIFTI/src/itkNiftiImageIO.cxx, line 2008\n",
      "NiftiImageIO (0x55c7d916dc30): ../dataset/dataset_extracted/val_split/patient084/patient084_frame10_gt.nii has unexpected scales in sform\n",
      "\n",
      "WARNING: In /tmp/SimpleITK-build/ITK/Modules/IO/NIFTI/src/itkNiftiImageIO.cxx, line 2008\n",
      "NiftiImageIO (0x55c7d916dc30): ../dataset/dataset_extracted/val_split/patient084/patient084_frame10_gt.nii has unexpected scales in sform\n",
      "\n"
     ]
    }
   ],
   "source": [
    "# Set the target in-plane resolution (width and height) in mm.\n",
    "target_resolution = [1.25, 1.25]\n",
    "\n",
    "train_out_dir = '../dataset/dataset_extracted/train_split'\n",
    "val_out_dir = '../dataset/dataset_extracted/val_split'\n",
    "\n",
    "def resample_image(image, target_resolution, interpolator=sitk.sitkLinear):\n",
    "    \"\"\"\n",
    "    Resample a 2D or 3D image so that its first two dimensions (x and y) have the specified resolution.\n",
    "    The third dimension (if present) is left unchanged.\n",
    "    \"\"\"\n",
    "    original_spacing = image.GetSpacing()   # e.g., (sx, sy, [sz])\n",
    "    original_size = image.GetSize()           # e.g., (nx, ny, [nz])\n",
    "    \n",
    "    # Compute the new size for x and y\n",
    "    new_size = list(original_size)\n",
    "    new_size[0] = int(round(original_size[0] * original_spacing[0] / target_resolution[0]))\n",
    "    new_size[1] = int(round(original_size[1] * original_spacing[1] / target_resolution[1]))\n",
    "    \n",
    "    # Create new spacing: update x and y; leave others unchanged.\n",
    "    new_spacing = list(original_spacing)\n",
    "    new_spacing[0] = target_resolution[0]\n",
    "    new_spacing[1] = target_resolution[1]\n",
    "    \n",
    "    resampler = sitk.ResampleImageFilter()\n",
    "    resampler.SetOutputSpacing(new_spacing)\n",
    "    resampler.SetSize(new_size)\n",
    "    resampler.SetOutputOrigin(image.GetOrigin())\n",
    "    resampler.SetOutputDirection(image.GetDirection())\n",
    "    resampler.SetInterpolator(interpolator)\n",
    "    \n",
    "    return resampler.Execute(image)\n",
    "\n",
    "# Process both train_split and val_split directories.\n",
    "base_dirs = [train_out_dir, val_out_dir]\n",
    "\n",
    "for base_dir in base_dirs:\n",
    "    if not os.path.exists(base_dir):\n",
    "        print(\"Directory does not exist:\", base_dir)\n",
    "        continue\n",
    "    \n",
    "    print(\"Processing directory:\", base_dir)\n",
    "    for patient in os.listdir(base_dir):\n",
    "        patient_path = os.path.join(base_dir, patient)\n",
    "        if os.path.isdir(patient_path):\n",
    "            for file in os.listdir(patient_path):\n",
    "                # Process only files with \"frame\" in their name, excluding those with \"4d\".\n",
    "                if 'frame' in file and '4d' not in file and file.endswith('.nii'):\n",
    "                    file_path = os.path.join(patient_path, file)\n",
    "                    \n",
    "                    # Read the image using SimpleITK.\n",
    "                    image = sitk.ReadImage(file_path)\n",
    "                    spacing = image.GetSpacing()\n",
    "                    \n",
    "                    # Check if x and y spacing are already as desired (within a small tolerance).\n",
    "                    if abs(spacing[0] - target_resolution[0]) < 1e-6 and abs(spacing[1] - target_resolution[1]) < 1e-6:\n",
    "                        print(\"Skipping already resampled:\", file_path)\n",
    "                        continue\n",
    "                    \n",
    "                    print(\"Resampling:\", file_path)\n",
    "                    \n",
    "                    # Use nearest neighbor interpolation for ground truth images to preserve labels.\n",
    "                    if '_gt' in file:\n",
    "                        interp = sitk.sitkNearestNeighbor\n",
    "                    else:\n",
    "                        interp = sitk.sitkLinear\n",
    "                    \n",
    "                    # Resample the image.\n",
    "                    resampled_image = resample_image(image, target_resolution, interpolator=interp)\n",
    "                    \n",
    "                    # Overwrite the original file with the resampled image.\n",
    "                    sitk.WriteImage(resampled_image, file_path)\n",
    "\n",
    "print(\"Resampling for train_split and val_split complete.\")"
   ]
  }
 ],
 "metadata": {
  "kernelspec": {
   "display_name": "Python",
   "language": "python",
   "name": "python3"
  },
  "language_info": {
   "codemirror_mode": {
    "name": "ipython",
    "version": 3
   },
   "file_extension": ".py",
   "mimetype": "text/x-python",
   "name": "python",
   "nbconvert_exporter": "python",
   "pygments_lexer": "ipython3",
   "version": "3.10.12"
  }
 },
 "nbformat": 4,
 "nbformat_minor": 5
}
